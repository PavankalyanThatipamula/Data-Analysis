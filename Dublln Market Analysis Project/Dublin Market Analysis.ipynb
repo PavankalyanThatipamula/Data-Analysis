{
 "cells": [
  {
   "cell_type": "markdown",
   "id": "e15c8292",
   "metadata": {},
   "source": [
    "# Project Description\n",
    "\n",
    "A new city manager for Airbnb has started in Dublin and wants to better understand:\n",
    "\n",
    "- What guests are searching for in Dublin,\n",
    "- Which inquiries hosts tend to accept.\n",
    "- What gaps exist between guest demand and host supply\n",
    "- Any other information that deepens the understanding of the data\n",
    "\n",
    "The goal is to analyze, understand, visualize, and communicate the demand/supply of the market in Dublin"
   ]
  },
  {
   "cell_type": "code",
   "execution_count": 1,
   "id": "d1a9490b",
   "metadata": {},
   "outputs": [],
   "source": [
    "import pandas as pd\n",
    "import numpy as np\n",
    "import matplotlib.pyplot as plt\n",
    "import seaborn as sns"
   ]
  },
  {
   "cell_type": "code",
   "execution_count": 26,
   "id": "65568e43",
   "metadata": {},
   "outputs": [
    {
     "data": {
      "text/html": [
       "<div>\n",
       "<style scoped>\n",
       "    .dataframe tbody tr th:only-of-type {\n",
       "        vertical-align: middle;\n",
       "    }\n",
       "\n",
       "    .dataframe tbody tr th {\n",
       "        vertical-align: top;\n",
       "    }\n",
       "\n",
       "    .dataframe thead th {\n",
       "        text-align: right;\n",
       "    }\n",
       "</style>\n",
       "<table border=\"1\" class=\"dataframe\">\n",
       "  <thead>\n",
       "    <tr style=\"text-align: right;\">\n",
       "      <th></th>\n",
       "      <th>ds</th>\n",
       "      <th>id_user</th>\n",
       "      <th>ds_checkin</th>\n",
       "      <th>ds_checkout</th>\n",
       "      <th>n_searches</th>\n",
       "      <th>n_nights</th>\n",
       "      <th>n_guests_min</th>\n",
       "      <th>n_guests_max</th>\n",
       "      <th>origin_country</th>\n",
       "      <th>filter_price_min</th>\n",
       "      <th>filter_price_max</th>\n",
       "      <th>filter_room_types</th>\n",
       "      <th>filter_neighborhoods</th>\n",
       "    </tr>\n",
       "  </thead>\n",
       "  <tbody>\n",
       "    <tr>\n",
       "      <th>0</th>\n",
       "      <td>2014-10-01</td>\n",
       "      <td>0000af0a-6f26-4233-9832-27efbfb36148</td>\n",
       "      <td>2014-10-09</td>\n",
       "      <td>2014-10-12</td>\n",
       "      <td>16</td>\n",
       "      <td>3.0</td>\n",
       "      <td>2</td>\n",
       "      <td>2</td>\n",
       "      <td>IE</td>\n",
       "      <td>0.0</td>\n",
       "      <td>67.0</td>\n",
       "      <td>,Entire home/apt,Entire home/apt,Private room,...</td>\n",
       "      <td>NaN</td>\n",
       "    </tr>\n",
       "    <tr>\n",
       "      <th>1</th>\n",
       "      <td>2014-10-01</td>\n",
       "      <td>0000af0a-6f26-4233-9832-27efbfb36148</td>\n",
       "      <td>2014-10-09</td>\n",
       "      <td>2014-10-19</td>\n",
       "      <td>3</td>\n",
       "      <td>10.0</td>\n",
       "      <td>1</td>\n",
       "      <td>2</td>\n",
       "      <td>IE</td>\n",
       "      <td>0.0</td>\n",
       "      <td>67.0</td>\n",
       "      <td>NaN</td>\n",
       "      <td>NaN</td>\n",
       "    </tr>\n",
       "  </tbody>\n",
       "</table>\n",
       "</div>"
      ],
      "text/plain": [
       "           ds                               id_user  ds_checkin ds_checkout  \\\n",
       "0  2014-10-01  0000af0a-6f26-4233-9832-27efbfb36148  2014-10-09  2014-10-12   \n",
       "1  2014-10-01  0000af0a-6f26-4233-9832-27efbfb36148  2014-10-09  2014-10-19   \n",
       "\n",
       "   n_searches  n_nights  n_guests_min  n_guests_max origin_country  \\\n",
       "0          16       3.0             2             2             IE   \n",
       "1           3      10.0             1             2             IE   \n",
       "\n",
       "   filter_price_min  filter_price_max  \\\n",
       "0               0.0              67.0   \n",
       "1               0.0              67.0   \n",
       "\n",
       "                                   filter_room_types filter_neighborhoods  \n",
       "0  ,Entire home/apt,Entire home/apt,Private room,...                  NaN  \n",
       "1                                                NaN                  NaN  "
      ]
     },
     "execution_count": 26,
     "metadata": {},
     "output_type": "execute_result"
    }
   ],
   "source": [
    "searches=pd.read_csv(\"datasets\\searches.tsv\",sep = \"\\t\",na_values =['NaT','NaN'])\n",
    "searches.head(2)"
   ]
  },
  {
   "cell_type": "code",
   "execution_count": 6,
   "id": "99e656b5",
   "metadata": {},
   "outputs": [
    {
     "data": {
      "text/html": [
       "<div>\n",
       "<style scoped>\n",
       "    .dataframe tbody tr th:only-of-type {\n",
       "        vertical-align: middle;\n",
       "    }\n",
       "\n",
       "    .dataframe tbody tr th {\n",
       "        vertical-align: top;\n",
       "    }\n",
       "\n",
       "    .dataframe thead th {\n",
       "        text-align: right;\n",
       "    }\n",
       "</style>\n",
       "<table border=\"1\" class=\"dataframe\">\n",
       "  <thead>\n",
       "    <tr style=\"text-align: right;\">\n",
       "      <th></th>\n",
       "      <th>id_guest</th>\n",
       "      <th>id_host</th>\n",
       "      <th>id_listing</th>\n",
       "      <th>ts_contact_at</th>\n",
       "      <th>ts_reply_at</th>\n",
       "      <th>ts_accepted_at</th>\n",
       "      <th>ts_booking_at</th>\n",
       "      <th>ds_checkin</th>\n",
       "      <th>ds_checkout</th>\n",
       "      <th>n_guests</th>\n",
       "      <th>n_messages</th>\n",
       "    </tr>\n",
       "  </thead>\n",
       "  <tbody>\n",
       "    <tr>\n",
       "      <th>0</th>\n",
       "      <td>000dfad9-459b-4f0b-8310-3d6ab34e4f57</td>\n",
       "      <td>13bb24b8-d432-43a2-9755-5ea11b43bb69</td>\n",
       "      <td>21d2b1a2-fdc3-4b4c-a1f0-0eaf0cc02370</td>\n",
       "      <td>2014-10-04 16:26:28.0</td>\n",
       "      <td>2014-10-04 16:26:28.0</td>\n",
       "      <td>2014-10-04 16:26:28.0</td>\n",
       "      <td>2014-10-04 16:26:28.0</td>\n",
       "      <td>2014-10-13</td>\n",
       "      <td>2014-10-15</td>\n",
       "      <td>2</td>\n",
       "      <td>13</td>\n",
       "    </tr>\n",
       "    <tr>\n",
       "      <th>1</th>\n",
       "      <td>00197051-c6cb-4c3a-99e9-86615b819874</td>\n",
       "      <td>46aa3897-9c00-4d76-ac66-a307593d0675</td>\n",
       "      <td>fb5ed09a-9848-4f2c-b2ef-34deb62164fb</td>\n",
       "      <td>2014-11-04 09:10:03.0</td>\n",
       "      <td>2014-11-04 09:45:50.0</td>\n",
       "      <td>2014-11-04 09:45:50.0</td>\n",
       "      <td>2014-11-04 12:20:46.0</td>\n",
       "      <td>2014-11-27</td>\n",
       "      <td>2014-11-30</td>\n",
       "      <td>1</td>\n",
       "      <td>10</td>\n",
       "    </tr>\n",
       "  </tbody>\n",
       "</table>\n",
       "</div>"
      ],
      "text/plain": [
       "                               id_guest                               id_host  \\\n",
       "0  000dfad9-459b-4f0b-8310-3d6ab34e4f57  13bb24b8-d432-43a2-9755-5ea11b43bb69   \n",
       "1  00197051-c6cb-4c3a-99e9-86615b819874  46aa3897-9c00-4d76-ac66-a307593d0675   \n",
       "\n",
       "                             id_listing          ts_contact_at  \\\n",
       "0  21d2b1a2-fdc3-4b4c-a1f0-0eaf0cc02370  2014-10-04 16:26:28.0   \n",
       "1  fb5ed09a-9848-4f2c-b2ef-34deb62164fb  2014-11-04 09:10:03.0   \n",
       "\n",
       "             ts_reply_at         ts_accepted_at          ts_booking_at  \\\n",
       "0  2014-10-04 16:26:28.0  2014-10-04 16:26:28.0  2014-10-04 16:26:28.0   \n",
       "1  2014-11-04 09:45:50.0  2014-11-04 09:45:50.0  2014-11-04 12:20:46.0   \n",
       "\n",
       "   ds_checkin ds_checkout  n_guests  n_messages  \n",
       "0  2014-10-13  2014-10-15         2          13  \n",
       "1  2014-11-27  2014-11-30         1          10  "
      ]
     },
     "execution_count": 6,
     "metadata": {},
     "output_type": "execute_result"
    }
   ],
   "source": [
    "contacts= pd.read_csv(\"datasets\\contacts.tsv\",sep = \"\\t\")\n",
    "contacts.head(2)"
   ]
  },
  {
   "cell_type": "code",
   "execution_count": null,
   "id": "7e959a98",
   "metadata": {},
   "outputs": [],
   "source": []
  },
  {
   "cell_type": "markdown",
   "id": "88f6d134",
   "metadata": {},
   "source": [
    "# searches Dataset"
   ]
  },
  {
   "cell_type": "code",
   "execution_count": 28,
   "id": "4b2370bc",
   "metadata": {},
   "outputs": [
    {
     "data": {
      "text/plain": [
       "ds                       0.000000\n",
       "id_user                  0.000000\n",
       "ds_checkin              33.156113\n",
       "ds_checkout             33.156113\n",
       "n_searches               0.000000\n",
       "n_nights                33.156113\n",
       "n_guests_min             0.000000\n",
       "n_guests_max             0.000000\n",
       "origin_country           0.000000\n",
       "filter_price_min        62.722109\n",
       "filter_price_max        62.722109\n",
       "filter_room_types       54.694015\n",
       "filter_neighborhoods    96.233595\n",
       "dtype: float64"
      ]
     },
     "execution_count": 28,
     "metadata": {},
     "output_type": "execute_result"
    }
   ],
   "source": [
    "searches.isnull().sum()/len(searches)*100"
   ]
  },
  {
   "cell_type": "code",
   "execution_count": null,
   "id": "cfb40836",
   "metadata": {},
   "outputs": [],
   "source": []
  },
  {
   "cell_type": "code",
   "execution_count": 38,
   "id": "33d8875d",
   "metadata": {},
   "outputs": [],
   "source": [
    "# Neighborhoods columns contain 96 % of null values, So we can drop column based on high null values\n",
    "searches.drop(columns = ['filter_neighborhoods'],inplace = True)"
   ]
  },
  {
   "cell_type": "code",
   "execution_count": 42,
   "id": "5db631e9",
   "metadata": {},
   "outputs": [
    {
     "data": {
      "text/plain": [
       "ds                     datetime64[ns]\n",
       "id_user                        object\n",
       "ds_checkin             datetime64[ns]\n",
       "ds_checkout            datetime64[ns]\n",
       "n_searches                      int64\n",
       "n_nights                      float64\n",
       "n_guests_min                    int64\n",
       "n_guests_max                    int64\n",
       "origin_country                 object\n",
       "filter_price_min              float64\n",
       "filter_price_max              float64\n",
       "filter_room_types              object\n",
       "length_preperation    timedelta64[ns]\n",
       "dtype: object"
      ]
     },
     "execution_count": 42,
     "metadata": {},
     "output_type": "execute_result"
    }
   ],
   "source": [
    "searches.dtypes"
   ]
  },
  {
   "cell_type": "code",
   "execution_count": 40,
   "id": "e2d400c3",
   "metadata": {},
   "outputs": [],
   "source": [
    "# Changing ds,ds_checkout,ds_checkin columns to datetime column\n",
    "searches['ds'] = pd.to_datetime(searches['ds'])\n",
    "searches['ds_checkin'] = pd.to_datetime(searches[\"ds_checkin\"])\n",
    "searches['ds_checkout'] = pd.to_datetime(searches[\"ds_checkout\"])"
   ]
  },
  {
   "cell_type": "code",
   "execution_count": 41,
   "id": "0f39c9ed",
   "metadata": {},
   "outputs": [],
   "source": [
    "# how soon they want the room\n",
    "searches['length_preperation'] = searches['ds_checkin'] - searches['ds']"
   ]
  },
  {
   "cell_type": "markdown",
   "id": "a7832b19",
   "metadata": {},
   "source": [
    "I used the difference between the ds_checkin column and ds search column to find out how soon people want their rooms. This information might be useful since I can find out how soon people start planning their trips and lead to better business decisions."
   ]
  },
  {
   "cell_type": "code",
   "execution_count": null,
   "id": "79960c4d",
   "metadata": {},
   "outputs": [],
   "source": []
  },
  {
   "cell_type": "code",
   "execution_count": 98,
   "id": "fae0439c",
   "metadata": {},
   "outputs": [
    {
     "data": {
      "text/plain": [
       "n_searches           7.509258\n",
       "n_nights             9.942364\n",
       "n_guests_min         3.583798\n",
       "n_guests_max         3.148548\n",
       "filter_price_min    11.087745\n",
       "filter_price_max     2.999833\n",
       "dtype: float64"
      ]
     },
     "execution_count": 98,
     "metadata": {},
     "output_type": "execute_result"
    }
   ],
   "source": [
    "# calculate skewness in searches dataset\n",
    "searches.skew(axis=0, numeric_only=True, skipna=True)"
   ]
  },
  {
   "cell_type": "markdown",
   "id": "15257c1a",
   "metadata": {},
   "source": [
    "All numeric columns have a Fisher-Pearson coefficient value greater than 1. This results in a positive skewness. Can experiment with log transformation, a type of transformation method, to reduce skewness in the future."
   ]
  },
  {
   "cell_type": "code",
   "execution_count": null,
   "id": "c93666cd",
   "metadata": {},
   "outputs": [],
   "source": []
  },
  {
   "cell_type": "markdown",
   "id": "aafcff7e",
   "metadata": {},
   "source": [
    "1) Let's find out when are people making these searches. With this information, I can calculate when people start thinking about going to Dublin for vacation for marketing purposes."
   ]
  },
  {
   "cell_type": "code",
   "execution_count": 11,
   "id": "189120a8",
   "metadata": {},
   "outputs": [
    {
     "data": {
      "text/plain": [
       "2014-10-14    3011\n",
       "2014-10-13    2973\n",
       "2014-10-06    2758\n",
       "2014-10-12    2716\n",
       "2014-10-01    2628\n",
       "2014-10-02    2627\n",
       "2014-10-05    2612\n",
       "2014-10-07    2606\n",
       "2014-10-08    2584\n",
       "2014-10-09    2430\n",
       "2014-10-03    2363\n",
       "2014-10-04    2226\n",
       "2014-10-11    2122\n",
       "2014-10-10    2081\n",
       "Name: ds, dtype: int64"
      ]
     },
     "execution_count": 11,
     "metadata": {},
     "output_type": "execute_result"
    }
   ],
   "source": [
    "searches['ds'].value_counts()"
   ]
  },
  {
   "cell_type": "code",
   "execution_count": 17,
   "id": "c8ecaeaf",
   "metadata": {},
   "outputs": [
    {
     "data": {
      "text/plain": [
       "<Axes: >"
      ]
     },
     "execution_count": 17,
     "metadata": {},
     "output_type": "execute_result"
    },
    {
     "data": {
      "image/png": "[encoded data removed]",
      "text/plain": [
       "<Figure size 640x480 with 1 Axes>"
      ]
     },
     "metadata": {},
     "output_type": "display_data"
    }
   ],
   "source": [
    "# date of searches conducted\n",
    "searches['ds'].value_counts().plot(kind = 'bar')"
   ]
  },
  {
   "cell_type": "markdown",
   "id": "bdfd0a53",
   "metadata": {},
   "source": [
    "I can observe that all date searches were between October 1st to October 14th. No major variation in when search was conducted between these dates"
   ]
  },
  {
   "cell_type": "code",
   "execution_count": null,
   "id": "53f9cf2a",
   "metadata": {},
   "outputs": [],
   "source": []
  },
  {
   "cell_type": "markdown",
   "id": "7d46700a",
   "metadata": {},
   "source": [
    "## Distribution"
   ]
  },
  {
   "cell_type": "markdown",
   "id": "b22a989e",
   "metadata": {},
   "source": [
    "2) First, let's start with the minimum and maximum guests. I can find the number of people searched for when booking rooms."
   ]
  },
  {
   "cell_type": "code",
   "execution_count": 12,
   "id": "e1ecec55",
   "metadata": {},
   "outputs": [
    {
     "data": {
      "image/png": "[encoded data removed]",
      "text/plain": [
       "<Figure size 500x500 with 1 Axes>"
      ]
     },
     "metadata": {},
     "output_type": "display_data"
    },
    {
     "data": {
      "image/png": "[encoded data removed]",
      "text/plain": [
       "<Figure size 500x500 with 1 Axes>"
      ]
     },
     "metadata": {},
     "output_type": "display_data"
    }
   ],
   "source": [
    "# distribution plot of n_guests_min and n_guests_max\n",
    "sns.displot(searches, x='n_guests_min', color='brown')\n",
    "sns.displot(searches, x='n_guests_max', color='black')\n",
    "plt.show()"
   ]
  },
  {
   "cell_type": "markdown",
   "id": "1c5e77dd",
   "metadata": {},
   "source": [
    "In the two plots of min and max guests gives the information about the  no of guests searched for booking rooms.\\\n",
    "Both distribution showing same, first option is 1 and next option is 2."
   ]
  },
  {
   "cell_type": "code",
   "execution_count": null,
   "id": "2118edce",
   "metadata": {},
   "outputs": [],
   "source": []
  },
  {
   "cell_type": "markdown",
   "id": "dbaa95a5",
   "metadata": {},
   "source": [
    "3) Let's understand what is the maximum price people are willing to pay for a room."
   ]
  },
  {
   "cell_type": "code",
   "execution_count": 47,
   "id": "981bab2b",
   "metadata": {},
   "outputs": [
    {
     "data": {
      "text/plain": [
       "1073741823.0"
      ]
     },
     "execution_count": 47,
     "metadata": {},
     "output_type": "execute_result"
    }
   ],
   "source": [
    "searches['filter_price_max'].max()"
   ]
  },
  {
   "cell_type": "code",
   "execution_count": 44,
   "id": "ace476b1",
   "metadata": {},
   "outputs": [
    {
     "name": "stdout",
     "output_type": "stream",
     "text": [
      "3.1312085513613344 %\n"
     ]
    }
   ],
   "source": [
    "# percentage of dataset with a filter_price_max above 600\n",
    "print(len(searches[searches['filter_price_max']>100000]) / len(searches['filter_price_max'])*100, '%')"
   ]
  },
  {
   "cell_type": "code",
   "execution_count": 57,
   "id": "33adaee0",
   "metadata": {},
   "outputs": [
    {
     "data": {
      "image/png": "[encoded data removed]",
      "text/plain": [
       "<Figure size 500x500 with 1 Axes>"
      ]
     },
     "metadata": {},
     "output_type": "display_data"
    }
   ],
   "source": [
    "# distribution of filter_price_max of searches\n",
    "\n",
    "# removing the set upper limit\n",
    "searches_maxprice_removed = searches[searches['filter_price_max'] <100000]\n",
    "\n",
    "# distribution plot of filter_price_max column\n",
    "sns.displot(x=searches_maxprice_removed[\"filter_price_max\"], color='blue')\n",
    "plt.show()"
   ]
  },
  {
   "cell_type": "code",
   "execution_count": null,
   "id": "5bdfd8cd",
   "metadata": {},
   "outputs": [],
   "source": [
    "Filter_price_max was chosen instead of filter_price_min due to the min usually being set at $0.\n",
    "\n",
    "To further help better visualize the trend we set the filter price max as less 100000. 100000 was chosen as the limit since only 3.13 % of the dataset has values greater than 100000.\n",
    "\n",
    "Most people search for a room below $200/night with most searches around $100/night. 59% of people searched for rooms between $60 and $130 a night."
   ]
  },
  {
   "cell_type": "code",
   "execution_count": null,
   "id": "eeda87f5",
   "metadata": {},
   "outputs": [],
   "source": []
  },
  {
   "cell_type": "markdown",
   "id": "042b5375",
   "metadata": {},
   "source": [
    "4) Let's calculate how soon people want rooms when booking."
   ]
  },
  {
   "cell_type": "code",
   "execution_count": 12,
   "id": "ca7e2999",
   "metadata": {},
   "outputs": [
    {
     "data": {
      "text/plain": [
       "Index(['ds', 'id_user', 'ds_checkin', 'ds_checkout', 'n_searches', 'n_nights',\n",
       "       'n_guests_min', 'n_guests_max', 'origin_country', 'filter_price_min',\n",
       "       'filter_price_max', 'filter_room_types', 'length_preperation'],\n",
       "      dtype='object')"
      ]
     },
     "execution_count": 12,
     "metadata": {},
     "output_type": "execute_result"
    }
   ],
   "source": [
    "searches.columns"
   ]
  },
  {
   "cell_type": "code",
   "execution_count": 44,
   "id": "c8b8a89a",
   "metadata": {},
   "outputs": [
    {
     "data": {
      "text/html": [
       "<div>\n",
       "<style scoped>\n",
       "    .dataframe tbody tr th:only-of-type {\n",
       "        vertical-align: middle;\n",
       "    }\n",
       "\n",
       "    .dataframe tbody tr th {\n",
       "        vertical-align: top;\n",
       "    }\n",
       "\n",
       "    .dataframe thead th {\n",
       "        text-align: right;\n",
       "    }\n",
       "</style>\n",
       "<table border=\"1\" class=\"dataframe\">\n",
       "  <thead>\n",
       "    <tr style=\"text-align: right;\">\n",
       "      <th></th>\n",
       "      <th>n_searches</th>\n",
       "      <th>n_nights</th>\n",
       "      <th>n_guests_min</th>\n",
       "      <th>n_guests_max</th>\n",
       "      <th>filter_price_min</th>\n",
       "      <th>filter_price_max</th>\n",
       "      <th>length_preperation</th>\n",
       "    </tr>\n",
       "  </thead>\n",
       "  <tbody>\n",
       "    <tr>\n",
       "      <th>count</th>\n",
       "      <td>35737.000000</td>\n",
       "      <td>23888.000000</td>\n",
       "      <td>35737.000000</td>\n",
       "      <td>35737.000000</td>\n",
       "      <td>13322.000000</td>\n",
       "      <td>1.332200e+04</td>\n",
       "      <td>23888</td>\n",
       "    </tr>\n",
       "    <tr>\n",
       "      <th>mean</th>\n",
       "      <td>9.206565</td>\n",
       "      <td>7.672765</td>\n",
       "      <td>1.742955</td>\n",
       "      <td>2.105857</td>\n",
       "      <td>8.470200</td>\n",
       "      <td>9.019063e+07</td>\n",
       "      <td>51 days 08:11:53.730743469</td>\n",
       "    </tr>\n",
       "    <tr>\n",
       "      <th>std</th>\n",
       "      <td>17.348746</td>\n",
       "      <td>21.557614</td>\n",
       "      <td>1.460440</td>\n",
       "      <td>1.817358</td>\n",
       "      <td>53.987679</td>\n",
       "      <td>2.978482e+08</td>\n",
       "      <td>65 days 18:56:19.491940518</td>\n",
       "    </tr>\n",
       "    <tr>\n",
       "      <th>min</th>\n",
       "      <td>1.000000</td>\n",
       "      <td>0.000000</td>\n",
       "      <td>1.000000</td>\n",
       "      <td>1.000000</td>\n",
       "      <td>0.000000</td>\n",
       "      <td>9.000000e+00</td>\n",
       "      <td>-1 days +00:00:00</td>\n",
       "    </tr>\n",
       "    <tr>\n",
       "      <th>25%</th>\n",
       "      <td>1.000000</td>\n",
       "      <td>2.000000</td>\n",
       "      <td>1.000000</td>\n",
       "      <td>1.000000</td>\n",
       "      <td>0.000000</td>\n",
       "      <td>8.600000e+01</td>\n",
       "      <td>10 days 00:00:00</td>\n",
       "    </tr>\n",
       "    <tr>\n",
       "      <th>50%</th>\n",
       "      <td>4.000000</td>\n",
       "      <td>3.000000</td>\n",
       "      <td>1.000000</td>\n",
       "      <td>2.000000</td>\n",
       "      <td>0.000000</td>\n",
       "      <td>1.390000e+02</td>\n",
       "      <td>26 days 00:00:00</td>\n",
       "    </tr>\n",
       "    <tr>\n",
       "      <th>75%</th>\n",
       "      <td>10.000000</td>\n",
       "      <td>5.000000</td>\n",
       "      <td>2.000000</td>\n",
       "      <td>2.000000</td>\n",
       "      <td>0.000000</td>\n",
       "      <td>3.010000e+02</td>\n",
       "      <td>67 days 00:00:00</td>\n",
       "    </tr>\n",
       "    <tr>\n",
       "      <th>max</th>\n",
       "      <td>448.000000</td>\n",
       "      <td>399.000000</td>\n",
       "      <td>16.000000</td>\n",
       "      <td>16.000000</td>\n",
       "      <td>1250.000000</td>\n",
       "      <td>1.073742e+09</td>\n",
       "      <td>604 days 00:00:00</td>\n",
       "    </tr>\n",
       "  </tbody>\n",
       "</table>\n",
       "</div>"
      ],
      "text/plain": [
       "         n_searches      n_nights  n_guests_min  n_guests_max  \\\n",
       "count  35737.000000  23888.000000  35737.000000  35737.000000   \n",
       "mean       9.206565      7.672765      1.742955      2.105857   \n",
       "std       17.348746     21.557614      1.460440      1.817358   \n",
       "min        1.000000      0.000000      1.000000      1.000000   \n",
       "25%        1.000000      2.000000      1.000000      1.000000   \n",
       "50%        4.000000      3.000000      1.000000      2.000000   \n",
       "75%       10.000000      5.000000      2.000000      2.000000   \n",
       "max      448.000000    399.000000     16.000000     16.000000   \n",
       "\n",
       "       filter_price_min  filter_price_max          length_preperation  \n",
       "count      13322.000000      1.332200e+04                       23888  \n",
       "mean           8.470200      9.019063e+07  51 days 08:11:53.730743469  \n",
       "std           53.987679      2.978482e+08  65 days 18:56:19.491940518  \n",
       "min            0.000000      9.000000e+00           -1 days +00:00:00  \n",
       "25%            0.000000      8.600000e+01            10 days 00:00:00  \n",
       "50%            0.000000      1.390000e+02            26 days 00:00:00  \n",
       "75%            0.000000      3.010000e+02            67 days 00:00:00  \n",
       "max         1250.000000      1.073742e+09           604 days 00:00:00  "
      ]
     },
     "execution_count": 44,
     "metadata": {},
     "output_type": "execute_result"
    }
   ],
   "source": [
    "searches.describe()"
   ]
  },
  {
   "cell_type": "code",
   "execution_count": 47,
   "id": "bbcf06d1",
   "metadata": {},
   "outputs": [
    {
     "data": {
      "text/plain": [
       "<Axes: ylabel='Frequency'>"
      ]
     },
     "execution_count": 47,
     "metadata": {},
     "output_type": "execute_result"
    },
    {
     "data": {
      "image/png": "[encoded data removed]",
      "text/plain": [
       "<Figure size 640x480 with 1 Axes>"
      ]
     },
     "metadata": {},
     "output_type": "display_data"
    }
   ],
   "source": [
    "searches['length_preperation'].value_counts().plot(kind ='hist')"
   ]
  },
  {
   "cell_type": "code",
   "execution_count": 56,
   "id": "b719ee74",
   "metadata": {},
   "outputs": [
    {
     "name": "stdout",
     "output_type": "stream",
     "text": [
      "9.396423874415872 % \n",
      "\n"
     ]
    },
    {
     "data": {
      "image/png": "[encoded data removed]",
      "text/plain": [
       "<Figure size 500x500 with 1 Axes>"
      ]
     },
     "metadata": {},
     "output_type": "display_data"
    }
   ],
   "source": [
    "distribution = searches[\"length_preperation\"] / np.timedelta64(1, 'D')\n",
    "print(len(distribution[distribution > 100]) / len(distribution)*100, '% \\n')\n",
    "# remove values beyond 100 days\n",
    "distribution = distribution[distribution < 100]\n",
    "\n",
    "# distribution plot of length_preperation column\n",
    "sns.displot(x=distribution, color='green')\n",
    "plt.show()"
   ]
  },
  {
   "cell_type": "markdown",
   "id": "aabdc4a5",
   "metadata": {},
   "source": [
    "100 days was chosen as the limit since only 9.40% of the dataset exists beyond that.\n",
    "\n",
    "Based on this data, around 37% of people search for a room within 2 weeks\n",
    "- 23.7% search for rooms within a week\n",
    "- 13.46% search for rooms between 1-2 weeks\n",
    "- 12.51% search for rooms between 2-3 weeks"
   ]
  },
  {
   "cell_type": "code",
   "execution_count": null,
   "id": "0e5d1b58",
   "metadata": {},
   "outputs": [],
   "source": []
  },
  {
   "cell_type": "markdown",
   "id": "0e033f17",
   "metadata": {},
   "source": [
    "5) Let's find the distribution of the number of nights people want to stay."
   ]
  },
  {
   "cell_type": "code",
   "execution_count": 64,
   "id": "92f6e478",
   "metadata": {},
   "outputs": [
    {
     "name": "stdout",
     "output_type": "stream",
     "text": [
      "4.737387021854101 % \n",
      "\n"
     ]
    },
    {
     "data": {
      "image/png": "[encoded data removed]",
      "text/plain": [
       "<Figure size 500x500 with 1 Axes>"
      ]
     },
     "metadata": {},
     "output_type": "display_data"
    }
   ],
   "source": [
    "# distribution of n_nights of searches\n",
    "\n",
    "# percentage of dataset beyond 20 nights\n",
    "print(len(searches[searches['n_nights'] > 20])/len(searches['n_nights'])*100, '% \\n')\n",
    "\n",
    "# remove n_nights beyond 20 days\n",
    "searches_within_twenty = searches[searches['n_nights'] < 20]\n",
    "\n",
    "# distribution plot of length_preperation column\n",
    "sns.displot(searches_within_twenty, x='n_nights', color = 'red')\n",
    "plt.show()"
   ]
  },
  {
   "cell_type": "markdown",
   "id": "a418d217",
   "metadata": {},
   "source": [
    "Removing n_nights beyond 20 days since only 4.74% of the dataset exists beyond 20 days.\\\n",
    "Around 70% of people want to stay between 1-4 days, mostly 2 or 3.\\\n",
    "\n",
    "People generally don’t want to stay for more than a week (only 15% want to stay more than a week)"
   ]
  },
  {
   "cell_type": "code",
   "execution_count": null,
   "id": "12717225",
   "metadata": {},
   "outputs": [],
   "source": []
  },
  {
   "cell_type": "markdown",
   "id": "cffa9cd2",
   "metadata": {},
   "source": [
    "6) Let's calculate when people want to take a trip to Dublin.\n",
    "\n",
    "Use the check-in date to calculate this."
   ]
  },
  {
   "cell_type": "code",
   "execution_count": 66,
   "id": "591052a6",
   "metadata": {},
   "outputs": [
    {
     "data": {
      "text/plain": [
       "count    23888.000000\n",
       "mean         7.672765\n",
       "std         21.557614\n",
       "min          0.000000\n",
       "25%          2.000000\n",
       "50%          3.000000\n",
       "75%          5.000000\n",
       "max        399.000000\n",
       "Name: n_nights, dtype: float64"
      ]
     },
     "execution_count": 66,
     "metadata": {},
     "output_type": "execute_result"
    }
   ],
   "source": [
    "# 8 number summary of n_nights column\n",
    "searches['n_nights'].describe()"
   ]
  },
  {
   "cell_type": "code",
   "execution_count": 67,
   "id": "71d866ce",
   "metadata": {},
   "outputs": [
    {
     "data": {
      "image/png": "[encoded data removed]",
      "text/plain": [
       "<Figure size 500x500 with 1 Axes>"
      ]
     },
     "metadata": {},
     "output_type": "display_data"
    }
   ],
   "source": [
    "# distribution of months of ds_checkin of searches\n",
    "checkin_month = pd.DatetimeIndex(searches['ds_checkin']).month\n",
    "\n",
    "# distribution plot of length_preperation column\n",
    "sns.displot(checkin_month, color = 'yellow')\n",
    "plt.show()"
   ]
  },
  {
   "cell_type": "markdown",
   "id": "307fd2fd",
   "metadata": {},
   "source": [
    "Used only the check-in month, cause checkout is usually within 5/6 days. The mean of `n_nights` after removing the upper outlier limit is 5.6, so assumed 5 or 6 days after the check-in date people usually checkout.\\\n",
    "\n",
    "About 80% of searches were in the October-December.\n",
    "\n",
    "Breakdown:\n",
    "- 45.05% in October\n",
    "- 26.1% in November\n",
    "- 12.6% in December"
   ]
  },
  {
   "cell_type": "code",
   "execution_count": null,
   "id": "fc03765e",
   "metadata": {},
   "outputs": [],
   "source": []
  },
  {
   "cell_type": "markdown",
   "id": "aa9ea198",
   "metadata": {},
   "source": [
    "7) I want to understand which are the most common type of rooms searched for."
   ]
  },
  {
   "cell_type": "code",
   "execution_count": 69,
   "id": "7382e811",
   "metadata": {},
   "outputs": [
    {
     "data": {
      "text/plain": [
       "array([',Entire home/apt,Entire home/apt,Private room,Private room', nan,\n",
       "       ',Entire home/apt',\n",
       "       'Entire home/apt,Entire home/apt,Private room,Private room',\n",
       "       'Entire home/apt', ',Shared room,Private room',\n",
       "       'Entire home/apt,Private room,Shared room,Private room,Shared room',\n",
       "       'Private room', 'Entire home/apt,Private room', ',Private room',\n",
       "       ',Entire home/apt,Private room',\n",
       "       ',Entire home/apt,Private room,Private room',\n",
       "       'Entire home/apt,Private room,Shared room',\n",
       "       ',Entire home/apt,Entire home/apt,Private room',\n",
       "       ',Entire home/apt,Entire home/apt,Shared room,Shared room'],\n",
       "      dtype=object)"
      ]
     },
     "execution_count": 69,
     "metadata": {},
     "output_type": "execute_result"
    }
   ],
   "source": [
    "# types of rooms searched for\n",
    "searches['filter_room_types'].unique()[0:15] # display first 15 unique values"
   ]
  },
  {
   "cell_type": "markdown",
   "id": "e754676d",
   "metadata": {},
   "source": [
    "On the Airbnb website, there are only 4 values in the type of place:\n",
    "- Entire Place\n",
    "- Private Room\n",
    "- Hotel Room\n",
    "- Shared Room\n",
    "\n",
    "I could also search how often these 4 strings occur."
   ]
  },
  {
   "cell_type": "code",
   "execution_count": null,
   "id": "8132e38c",
   "metadata": {},
   "outputs": [],
   "source": []
  },
  {
   "cell_type": "markdown",
   "id": "2751a0f6",
   "metadata": {},
   "source": [
    "8) The origin_country column  indicates which country the search came from. I can find the most common countries searched from."
   ]
  },
  {
   "cell_type": "code",
   "execution_count": 80,
   "id": "55c2739d",
   "metadata": {},
   "outputs": [
    {
     "data": {
      "text/html": [
       "<div>\n",
       "<style scoped>\n",
       "    .dataframe tbody tr th:only-of-type {\n",
       "        vertical-align: middle;\n",
       "    }\n",
       "\n",
       "    .dataframe tbody tr th {\n",
       "        vertical-align: top;\n",
       "    }\n",
       "\n",
       "    .dataframe thead th {\n",
       "        text-align: right;\n",
       "    }\n",
       "</style>\n",
       "<table border=\"1\" class=\"dataframe\">\n",
       "  <thead>\n",
       "    <tr style=\"text-align: right;\">\n",
       "      <th></th>\n",
       "      <th>count</th>\n",
       "    </tr>\n",
       "    <tr>\n",
       "      <th>origin_country</th>\n",
       "      <th></th>\n",
       "    </tr>\n",
       "  </thead>\n",
       "  <tbody>\n",
       "    <tr>\n",
       "      <th>IE</th>\n",
       "      <td>6608</td>\n",
       "    </tr>\n",
       "    <tr>\n",
       "      <th>US</th>\n",
       "      <td>5811</td>\n",
       "    </tr>\n",
       "    <tr>\n",
       "      <th>GB</th>\n",
       "      <td>4832</td>\n",
       "    </tr>\n",
       "    <tr>\n",
       "      <th>FR</th>\n",
       "      <td>3444</td>\n",
       "    </tr>\n",
       "    <tr>\n",
       "      <th>IT</th>\n",
       "      <td>2333</td>\n",
       "    </tr>\n",
       "    <tr>\n",
       "      <th>DE</th>\n",
       "      <td>2170</td>\n",
       "    </tr>\n",
       "    <tr>\n",
       "      <th>ES</th>\n",
       "      <td>1759</td>\n",
       "    </tr>\n",
       "    <tr>\n",
       "      <th>CA</th>\n",
       "      <td>1085</td>\n",
       "    </tr>\n",
       "    <tr>\n",
       "      <th>AU</th>\n",
       "      <td>962</td>\n",
       "    </tr>\n",
       "    <tr>\n",
       "      <th>NL</th>\n",
       "      <td>843</td>\n",
       "    </tr>\n",
       "    <tr>\n",
       "      <th>BR</th>\n",
       "      <td>636</td>\n",
       "    </tr>\n",
       "    <tr>\n",
       "      <th>CH</th>\n",
       "      <td>535</td>\n",
       "    </tr>\n",
       "    <tr>\n",
       "      <th>BE</th>\n",
       "      <td>386</td>\n",
       "    </tr>\n",
       "    <tr>\n",
       "      <th>AT</th>\n",
       "      <td>320</td>\n",
       "    </tr>\n",
       "    <tr>\n",
       "      <th>RU</th>\n",
       "      <td>274</td>\n",
       "    </tr>\n",
       "  </tbody>\n",
       "</table>\n",
       "</div>"
      ],
      "text/plain": [
       "                count\n",
       "origin_country       \n",
       "IE               6608\n",
       "US               5811\n",
       "GB               4832\n",
       "FR               3444\n",
       "IT               2333\n",
       "DE               2170\n",
       "ES               1759\n",
       "CA               1085\n",
       "AU                962\n",
       "NL                843\n",
       "BR                636\n",
       "CH                535\n",
       "BE                386\n",
       "AT                320\n",
       "RU                274"
      ]
     },
     "execution_count": 80,
     "metadata": {},
     "output_type": "execute_result"
    }
   ],
   "source": [
    "# find top 15 countries where searches originate from\n",
    "\n",
    "# group by origin country and finding the count of each country\n",
    "search_origin = searches.groupby(\"origin_country\").agg({'origin_country' : 'count'})\n",
    "search_origin.columns = ['count']\n",
    "\n",
    "search_origin = search_origin.sort_values('count', ascending = False) # sort count in descending order\n",
    "search_origin.nlargest(15,'count') # find the 15 largest values"
   ]
  },
  {
   "cell_type": "markdown",
   "id": "a82bbfcb",
   "metadata": {},
   "source": [
    "Ireland (IE), the United States (US), and Great Britain (GB) comprise 48% of searches. Dublin destinations could be promoted within these 3 countries more for the winter months."
   ]
  },
  {
   "cell_type": "code",
   "execution_count": null,
   "id": "a0f9053d",
   "metadata": {},
   "outputs": [],
   "source": []
  },
  {
   "cell_type": "markdown",
   "id": "91051343",
   "metadata": {},
   "source": [
    "# contacts Dataset"
   ]
  },
  {
   "cell_type": "code",
   "execution_count": 93,
   "id": "2524975e",
   "metadata": {},
   "outputs": [
    {
     "data": {
      "text/html": [
       "<div>\n",
       "<style scoped>\n",
       "    .dataframe tbody tr th:only-of-type {\n",
       "        vertical-align: middle;\n",
       "    }\n",
       "\n",
       "    .dataframe tbody tr th {\n",
       "        vertical-align: top;\n",
       "    }\n",
       "\n",
       "    .dataframe thead th {\n",
       "        text-align: right;\n",
       "    }\n",
       "</style>\n",
       "<table border=\"1\" class=\"dataframe\">\n",
       "  <thead>\n",
       "    <tr style=\"text-align: right;\">\n",
       "      <th></th>\n",
       "      <th>id_guest</th>\n",
       "      <th>id_host</th>\n",
       "      <th>id_listing</th>\n",
       "      <th>ts_contact_at</th>\n",
       "      <th>ts_reply_at</th>\n",
       "      <th>ts_accepted_at</th>\n",
       "      <th>ts_booking_at</th>\n",
       "      <th>ds_checkin</th>\n",
       "      <th>ds_checkout</th>\n",
       "      <th>n_guests</th>\n",
       "      <th>n_messages</th>\n",
       "    </tr>\n",
       "  </thead>\n",
       "  <tbody>\n",
       "    <tr>\n",
       "      <th>0</th>\n",
       "      <td>000dfad9-459b-4f0b-8310-3d6ab34e4f57</td>\n",
       "      <td>13bb24b8-d432-43a2-9755-5ea11b43bb69</td>\n",
       "      <td>21d2b1a2-fdc3-4b4c-a1f0-0eaf0cc02370</td>\n",
       "      <td>2014-10-04 16:26:28.0</td>\n",
       "      <td>2014-10-04 16:26:28.0</td>\n",
       "      <td>2014-10-04 16:26:28.0</td>\n",
       "      <td>2014-10-04 16:26:28.0</td>\n",
       "      <td>2014-10-13</td>\n",
       "      <td>2014-10-15</td>\n",
       "      <td>2</td>\n",
       "      <td>13</td>\n",
       "    </tr>\n",
       "    <tr>\n",
       "      <th>1</th>\n",
       "      <td>00197051-c6cb-4c3a-99e9-86615b819874</td>\n",
       "      <td>46aa3897-9c00-4d76-ac66-a307593d0675</td>\n",
       "      <td>fb5ed09a-9848-4f2c-b2ef-34deb62164fb</td>\n",
       "      <td>2014-11-04 09:10:03.0</td>\n",
       "      <td>2014-11-04 09:45:50.0</td>\n",
       "      <td>2014-11-04 09:45:50.0</td>\n",
       "      <td>2014-11-04 12:20:46.0</td>\n",
       "      <td>2014-11-27</td>\n",
       "      <td>2014-11-30</td>\n",
       "      <td>1</td>\n",
       "      <td>10</td>\n",
       "    </tr>\n",
       "  </tbody>\n",
       "</table>\n",
       "</div>"
      ],
      "text/plain": [
       "                               id_guest                               id_host  \\\n",
       "0  000dfad9-459b-4f0b-8310-3d6ab34e4f57  13bb24b8-d432-43a2-9755-5ea11b43bb69   \n",
       "1  00197051-c6cb-4c3a-99e9-86615b819874  46aa3897-9c00-4d76-ac66-a307593d0675   \n",
       "\n",
       "                             id_listing          ts_contact_at  \\\n",
       "0  21d2b1a2-fdc3-4b4c-a1f0-0eaf0cc02370  2014-10-04 16:26:28.0   \n",
       "1  fb5ed09a-9848-4f2c-b2ef-34deb62164fb  2014-11-04 09:10:03.0   \n",
       "\n",
       "             ts_reply_at         ts_accepted_at          ts_booking_at  \\\n",
       "0  2014-10-04 16:26:28.0  2014-10-04 16:26:28.0  2014-10-04 16:26:28.0   \n",
       "1  2014-11-04 09:45:50.0  2014-11-04 09:45:50.0  2014-11-04 12:20:46.0   \n",
       "\n",
       "   ds_checkin ds_checkout  n_guests  n_messages  \n",
       "0  2014-10-13  2014-10-15         2          13  \n",
       "1  2014-11-27  2014-11-30         1          10  "
      ]
     },
     "execution_count": 93,
     "metadata": {},
     "output_type": "execute_result"
    }
   ],
   "source": [
    "contacts= pd.read_csv(\"datasets\\contacts.tsv\",sep = \"\\t\")\n",
    "contacts.head(2)"
   ]
  },
  {
   "cell_type": "code",
   "execution_count": 94,
   "id": "53c44b6c",
   "metadata": {},
   "outputs": [
    {
     "name": "stdout",
     "output_type": "stream",
     "text": [
      "<class 'pandas.core.frame.DataFrame'>\n",
      "RangeIndex: 7823 entries, 0 to 7822\n",
      "Data columns (total 11 columns):\n",
      " #   Column          Non-Null Count  Dtype \n",
      "---  ------          --------------  ----- \n",
      " 0   id_guest        7823 non-null   object\n",
      " 1   id_host         7823 non-null   object\n",
      " 2   id_listing      7823 non-null   object\n",
      " 3   ts_contact_at   7823 non-null   object\n",
      " 4   ts_reply_at     7219 non-null   object\n",
      " 5   ts_accepted_at  3627 non-null   object\n",
      " 6   ts_booking_at   2174 non-null   object\n",
      " 7   ds_checkin      7823 non-null   object\n",
      " 8   ds_checkout     7823 non-null   object\n",
      " 9   n_guests        7823 non-null   int64 \n",
      " 10  n_messages      7823 non-null   int64 \n",
      "dtypes: int64(2), object(9)\n",
      "memory usage: 672.4+ KB\n"
     ]
    }
   ],
   "source": [
    "contacts.info()"
   ]
  },
  {
   "cell_type": "code",
   "execution_count": 102,
   "id": "5c42aea0",
   "metadata": {},
   "outputs": [
    {
     "data": {
      "text/plain": [
       "'Here, we can create the one more columns as \\nAccepted the room  as True\\nNot Accepted the room as False (i.e NaT - No Datetime)\\n'"
      ]
     },
     "execution_count": 102,
     "metadata": {},
     "output_type": "execute_result"
    }
   ],
   "source": [
    "contacts['ts_accepted_at'].value_counts(dropna = False)\n",
    "'''Here, we can create the one more columns as \n",
    "Accepted the room  as True\n",
    "Not Accepted the room as False (i.e NaT - No Datetime)\n",
    "'''"
   ]
  },
  {
   "cell_type": "code",
   "execution_count": 95,
   "id": "a5d9c43f",
   "metadata": {},
   "outputs": [
    {
     "data": {
      "text/plain": [
       "id_guest                   object\n",
       "id_host                    object\n",
       "id_listing                 object\n",
       "ts_contact_at      datetime64[ns]\n",
       "ts_reply_at        datetime64[ns]\n",
       "ts_accepted_at     datetime64[ns]\n",
       "ts_booking_at      datetime64[ns]\n",
       "ds_checkin         datetime64[ns]\n",
       "ds_checkout        datetime64[ns]\n",
       "n_guests                    int64\n",
       "n_messages                  int64\n",
       "accepted                     bool\n",
       "length_stay       timedelta64[ns]\n",
       "dtype: object"
      ]
     },
     "metadata": {},
     "output_type": "display_data"
    },
    {
     "data": {
      "text/html": [
       "<div>\n",
       "<style scoped>\n",
       "    .dataframe tbody tr th:only-of-type {\n",
       "        vertical-align: middle;\n",
       "    }\n",
       "\n",
       "    .dataframe tbody tr th {\n",
       "        vertical-align: top;\n",
       "    }\n",
       "\n",
       "    .dataframe thead th {\n",
       "        text-align: right;\n",
       "    }\n",
       "</style>\n",
       "<table border=\"1\" class=\"dataframe\">\n",
       "  <thead>\n",
       "    <tr style=\"text-align: right;\">\n",
       "      <th></th>\n",
       "      <th>n_guests</th>\n",
       "      <th>n_messages</th>\n",
       "      <th>length_stay</th>\n",
       "    </tr>\n",
       "  </thead>\n",
       "  <tbody>\n",
       "    <tr>\n",
       "      <th>count</th>\n",
       "      <td>7823.000000</td>\n",
       "      <td>7823.000000</td>\n",
       "      <td>7823</td>\n",
       "    </tr>\n",
       "    <tr>\n",
       "      <th>mean</th>\n",
       "      <td>2.422600</td>\n",
       "      <td>6.319954</td>\n",
       "      <td>5 days 19:25:32.864629937</td>\n",
       "    </tr>\n",
       "    <tr>\n",
       "      <th>std</th>\n",
       "      <td>1.617347</td>\n",
       "      <td>6.472827</td>\n",
       "      <td>14 days 23:45:24.447710564</td>\n",
       "    </tr>\n",
       "    <tr>\n",
       "      <th>min</th>\n",
       "      <td>1.000000</td>\n",
       "      <td>1.000000</td>\n",
       "      <td>1 days 00:00:00</td>\n",
       "    </tr>\n",
       "    <tr>\n",
       "      <th>25%</th>\n",
       "      <td>1.000000</td>\n",
       "      <td>2.000000</td>\n",
       "      <td>2 days 00:00:00</td>\n",
       "    </tr>\n",
       "    <tr>\n",
       "      <th>50%</th>\n",
       "      <td>2.000000</td>\n",
       "      <td>4.000000</td>\n",
       "      <td>3 days 00:00:00</td>\n",
       "    </tr>\n",
       "    <tr>\n",
       "      <th>75%</th>\n",
       "      <td>3.000000</td>\n",
       "      <td>8.000000</td>\n",
       "      <td>5 days 00:00:00</td>\n",
       "    </tr>\n",
       "    <tr>\n",
       "      <th>max</th>\n",
       "      <td>16.000000</td>\n",
       "      <td>102.000000</td>\n",
       "      <td>334 days 00:00:00</td>\n",
       "    </tr>\n",
       "  </tbody>\n",
       "</table>\n",
       "</div>"
      ],
      "text/plain": [
       "          n_guests   n_messages                 length_stay\n",
       "count  7823.000000  7823.000000                        7823\n",
       "mean      2.422600     6.319954   5 days 19:25:32.864629937\n",
       "std       1.617347     6.472827  14 days 23:45:24.447710564\n",
       "min       1.000000     1.000000             1 days 00:00:00\n",
       "25%       1.000000     2.000000             2 days 00:00:00\n",
       "50%       2.000000     4.000000             3 days 00:00:00\n",
       "75%       3.000000     8.000000             5 days 00:00:00\n",
       "max      16.000000   102.000000           334 days 00:00:00"
      ]
     },
     "metadata": {},
     "output_type": "display_data"
    }
   ],
   "source": [
    "# manipulation of contacts dataset\n",
    "\n",
    "# convert date columns to datetime data type \n",
    "contacts['ts_contact_at'] = pd.to_datetime(contacts['ts_contact_at'])\n",
    "contacts['ts_reply_at'] = pd.to_datetime(contacts['ts_reply_at'])\n",
    "contacts['ts_accepted_at'] = pd.to_datetime(contacts['ts_accepted_at'])\n",
    "contacts['ts_booking_at'] = pd.to_datetime(contacts['ts_booking_at'])\n",
    "contacts['ds_checkin'] = pd.to_datetime(contacts['ds_checkin'])\n",
    "contacts['ds_checkout'] = pd.to_datetime(contacts['ds_checkout'])\n",
    "\n",
    "contacts['accepted'] = np.where(np.isnan(contacts['ts_accepted_at']), False, True)\n",
    "contacts['length_stay'] = contacts['ds_checkout'] - contacts['ds_checkin']\n",
    "\n",
    "# understand dataset with describe function\n",
    "display(contacts.dtypes)\n",
    "display(contacts.describe())"
   ]
  },
  {
   "cell_type": "code",
   "execution_count": 96,
   "id": "21856347",
   "metadata": {},
   "outputs": [
    {
     "data": {
      "text/plain": [
       "n_guests      2.441468\n",
       "n_messages    3.696440\n",
       "accepted      0.145883\n",
       "dtype: float64"
      ]
     },
     "metadata": {},
     "output_type": "display_data"
    }
   ],
   "source": [
    "# calculate skewness in contacts dataset\n",
    "display(contacts.skew(axis=0, numeric_only=True, skipna=True))"
   ]
  },
  {
   "cell_type": "markdown",
   "id": "28ba741e",
   "metadata": {},
   "source": [
    "All columns have a Fisher-Pearson coefficient value greater than 1. Except for accepted, which could be due to it being derived from an existing column. \n",
    "\n",
    "Can experiment with box-cox transformation, a type of transformation method, to reduce skewness in the future. The criteria is that the data has to be positive. \n",
    "\n",
    "For my info: Another transformation method is the Square Root Transform."
   ]
  },
  {
   "cell_type": "code",
   "execution_count": null,
   "id": "8b76caaf",
   "metadata": {},
   "outputs": [],
   "source": []
  },
  {
   "cell_type": "markdown",
   "id": "8ec50636",
   "metadata": {},
   "source": [
    "1) Finding the distribution of the number of the guests staying.\n",
    "\n",
    "This would be useful in comparing how many guests were searched for vs how many guests the room was booked for."
   ]
  },
  {
   "cell_type": "code",
   "execution_count": 104,
   "id": "3ac7ba40",
   "metadata": {},
   "outputs": [
    {
     "name": "stdout",
     "output_type": "stream",
     "text": [
      "1.4572414674677232 % \n",
      "\n"
     ]
    },
    {
     "data": {
      "image/png": "[encoded data removed]",
      "text/plain": [
       "<Figure size 584.875x500 with 1 Axes>"
      ]
     },
     "metadata": {},
     "output_type": "display_data"
    }
   ],
   "source": [
    "# number of guests stayed\n",
    "print(len(contacts[contacts['n_guests'] >= 8])/len(contacts['n_guests'])*100, '% \\n')\n",
    "\n",
    "contacts_less8 = contacts[contacts['n_guests'] < 8]\n",
    "sns.displot(contacts_less8, x='n_guests', hue='accepted', multiple=\"dodge\")\n",
    "plt.show()"
   ]
  },
  {
   "cell_type": "markdown",
   "id": "f1eab8ae",
   "metadata": {},
   "source": [
    "Choosing less than 8 guests, since only 1.46% (114 values) of the contacts dataset has 8 or more guests. To better visualize the majority distribution we removed rows with 8 or more guests.\n",
    "\n",
    "2 guests is the most popular option to book, but 1 guest is the most popularly searched option (as observed from the search dataset). This leads me to believe there could potentially be a lack of supply of single guest rooms."
   ]
  },
  {
   "cell_type": "code",
   "execution_count": 105,
   "id": "17aafc82",
   "metadata": {},
   "outputs": [
    {
     "data": {
      "text/plain": [
       "0.5993934381031155"
      ]
     },
     "execution_count": 105,
     "metadata": {},
     "output_type": "execute_result"
    }
   ],
   "source": [
    "# conversion rate from accepting to booking\n",
    "contacts['ts_booking_at'].count() / contacts['ts_accepted_at'].count()"
   ]
  },
  {
   "cell_type": "markdown",
   "id": "6f2adf36",
   "metadata": {},
   "source": [
    "As seen from the search dataset during the common check-in dates, the popular dates are October-December.\n",
    "\n",
    "2) I want to find out if there happen to be major difference between people rejected vs accepted."
   ]
  },
  {
   "cell_type": "code",
   "execution_count": 107,
   "id": "22a50792",
   "metadata": {},
   "outputs": [
    {
     "data": {
      "image/png": "[encoded data removed]",
      "text/plain": [
       "<Figure size 584.875x500 with 1 Axes>"
      ]
     },
     "metadata": {},
     "output_type": "display_data"
    }
   ],
   "source": [
    "# timeframe of when guests or accepted vs rejected\n",
    "contacts['month_checkin'] = contacts['ds_checkin'].dt.month # extract month from checkin date\n",
    "contacts_checkin = contacts[contacts['month_checkin'] > 9] # use only peak season months (Oct, Nov, Dec)\n",
    "\n",
    "# distribution of checkin among October, November, and December and split by acceptance\n",
    "sns.displot(contacts_checkin, x='month_checkin', hue='accepted', multiple=\"dodge\")\n",
    "plt.xticks([10, 11, 12])\n",
    "plt.show()"
   ]
  },
  {
   "cell_type": "markdown",
   "id": "12c8b0b7",
   "metadata": {},
   "source": [
    "There does not appear to be any major variation between accepted vs rejected users."
   ]
  },
  {
   "cell_type": "code",
   "execution_count": null,
   "id": "4612bd71",
   "metadata": {},
   "outputs": [],
   "source": []
  },
  {
   "cell_type": "code",
   "execution_count": 108,
   "id": "dd4bd4d1",
   "metadata": {},
   "outputs": [],
   "source": [
    "# merge datasets for more analysis\n",
    "merged_datasets = contacts.merge(searches, left_on='id_guest', right_on='id_user')"
   ]
  },
  {
   "cell_type": "code",
   "execution_count": 109,
   "id": "3561468e",
   "metadata": {},
   "outputs": [
    {
     "name": "stdout",
     "output_type": "stream",
     "text": [
      "6.335856462012895 % \n",
      "\n"
     ]
    },
    {
     "data": {
      "image/png": "[encoded data removed]",
      "text/plain": [
       "<Figure size 584.875x500 with 1 Axes>"
      ]
     },
     "metadata": {},
     "output_type": "display_data"
    }
   ],
   "source": [
    "# check difference between prices searched between accepted/rejected applicants\n",
    "print(len(merged_datasets.loc[(merged_datasets['filter_price_max'] >= 600)])/len(merged_datasets['filter_price_max'])*100, \n",
    "      '% \\n')\n",
    "\n",
    "merged_pricemax_filter = merged_datasets.loc[(merged_datasets['filter_price_max'] <= 600)]\n",
    "\n",
    "sns.displot(merged_pricemax_filter, x=\"filter_price_max\", hue=\"accepted\", multiple=\"dodge\")\n",
    "plt.show()"
   ]
  },
  {
   "cell_type": "markdown",
   "id": "698bc43b",
   "metadata": {},
   "source": [
    "To further help better visualize the trend we set the filter price max as less or equal to 600. 600 was chosen as the limit since only 6.33% of the dataset has values greater than 600."
   ]
  },
  {
   "cell_type": "code",
   "execution_count": 110,
   "id": "69783601",
   "metadata": {},
   "outputs": [
    {
     "data": {
      "text/html": [
       "<div>\n",
       "<style scoped>\n",
       "    .dataframe tbody tr th:only-of-type {\n",
       "        vertical-align: middle;\n",
       "    }\n",
       "\n",
       "    .dataframe tbody tr th {\n",
       "        vertical-align: top;\n",
       "    }\n",
       "\n",
       "    .dataframe thead th {\n",
       "        text-align: right;\n",
       "    }\n",
       "</style>\n",
       "<table border=\"1\" class=\"dataframe\">\n",
       "  <thead>\n",
       "    <tr style=\"text-align: right;\">\n",
       "      <th></th>\n",
       "      <th>accepted</th>\n",
       "    </tr>\n",
       "    <tr>\n",
       "      <th>classification_max_price</th>\n",
       "      <th></th>\n",
       "    </tr>\n",
       "  </thead>\n",
       "  <tbody>\n",
       "    <tr>\n",
       "      <th>0-100</th>\n",
       "      <td>0.411160</td>\n",
       "    </tr>\n",
       "    <tr>\n",
       "      <th>100-200</th>\n",
       "      <td>0.430308</td>\n",
       "    </tr>\n",
       "    <tr>\n",
       "      <th>200-300</th>\n",
       "      <td>0.431149</td>\n",
       "    </tr>\n",
       "    <tr>\n",
       "      <th>300-400</th>\n",
       "      <td>0.450488</td>\n",
       "    </tr>\n",
       "    <tr>\n",
       "      <th>400-500</th>\n",
       "      <td>0.485549</td>\n",
       "    </tr>\n",
       "    <tr>\n",
       "      <th>500-600</th>\n",
       "      <td>0.422297</td>\n",
       "    </tr>\n",
       "    <tr>\n",
       "      <th>600+</th>\n",
       "      <td>0.433122</td>\n",
       "    </tr>\n",
       "  </tbody>\n",
       "</table>\n",
       "</div>"
      ],
      "text/plain": [
       "                          accepted\n",
       "classification_max_price          \n",
       "0-100                     0.411160\n",
       "100-200                   0.430308\n",
       "200-300                   0.431149\n",
       "300-400                   0.450488\n",
       "400-500                   0.485549\n",
       "500-600                   0.422297\n",
       "600+                      0.433122"
      ]
     },
     "execution_count": 110,
     "metadata": {},
     "output_type": "execute_result"
    }
   ],
   "source": [
    "# classify dataset based on filter_price_max\n",
    "\n",
    "def label_price (row):\n",
    "    if (row['filter_price_max'] >= 0) & (row['filter_price_max'] < 100):\n",
    "        return '0-100'\n",
    "    \n",
    "    elif (row['filter_price_max'] >= 100) & (row['filter_price_max'] < 200):\n",
    "        return '100-200'\n",
    "\n",
    "    elif (row['filter_price_max'] >= 200) & (row['filter_price_max'] < 300):\n",
    "        return '200-300'\n",
    "    \n",
    "    elif (row['filter_price_max'] >= 300) & (row['filter_price_max'] < 400):\n",
    "        return '300-400'\n",
    "\n",
    "    elif (row['filter_price_max'] >= 400) & (row['filter_price_max'] < 500):\n",
    "        return '400-500'\n",
    "    \n",
    "    elif (row['filter_price_max'] >= 500) & (row['filter_price_max'] < 600):\n",
    "        return '500-600'\n",
    "    \n",
    "    else:\n",
    "        return '600+'\n",
    "\n",
    "merged_datasets['classification_max_price'] = merged_datasets.apply(lambda row: label_price(row), axis=1)\n",
    "\n",
    "merged_datasets.groupby('classification_max_price').agg({'accepted': 'mean'})"
   ]
  },
  {
   "cell_type": "markdown",
   "id": "ee037a42",
   "metadata": {},
   "source": [
    "As seen, more people are rejected compared than accepted at around 43% acceptance rate for all `filter_price_max`."
   ]
  },
  {
   "cell_type": "markdown",
   "id": "a6ef70b3",
   "metadata": {},
   "source": [
    "I wanted to find out of there are any differences in the acceptance rate by the country of origon of the potential guests. "
   ]
  },
  {
   "cell_type": "code",
   "execution_count": 112,
   "id": "5186658f",
   "metadata": {},
   "outputs": [
    {
     "data": {
      "text/html": [
       "<div>\n",
       "<style scoped>\n",
       "    .dataframe tbody tr th:only-of-type {\n",
       "        vertical-align: middle;\n",
       "    }\n",
       "\n",
       "    .dataframe tbody tr th {\n",
       "        vertical-align: top;\n",
       "    }\n",
       "\n",
       "    .dataframe thead th {\n",
       "        text-align: right;\n",
       "    }\n",
       "</style>\n",
       "<table border=\"1\" class=\"dataframe\">\n",
       "  <thead>\n",
       "    <tr style=\"text-align: right;\">\n",
       "      <th></th>\n",
       "      <th>origin_country</th>\n",
       "      <th>accepted</th>\n",
       "      <th>count_accepted</th>\n",
       "      <th>count_country</th>\n",
       "      <th>acceptance_rate</th>\n",
       "    </tr>\n",
       "  </thead>\n",
       "  <tbody>\n",
       "    <tr>\n",
       "      <th>73</th>\n",
       "      <td>IN</td>\n",
       "      <td>True</td>\n",
       "      <td>138</td>\n",
       "      <td>874</td>\n",
       "      <td>0.157895</td>\n",
       "    </tr>\n",
       "    <tr>\n",
       "      <th>55</th>\n",
       "      <td>HR</td>\n",
       "      <td>True</td>\n",
       "      <td>159</td>\n",
       "      <td>530</td>\n",
       "      <td>0.300000</td>\n",
       "    </tr>\n",
       "    <tr>\n",
       "      <th>72</th>\n",
       "      <td>AT</td>\n",
       "      <td>True</td>\n",
       "      <td>83</td>\n",
       "      <td>239</td>\n",
       "      <td>0.347280</td>\n",
       "    </tr>\n",
       "    <tr>\n",
       "      <th>54</th>\n",
       "      <td>RU</td>\n",
       "      <td>True</td>\n",
       "      <td>83</td>\n",
       "      <td>239</td>\n",
       "      <td>0.347280</td>\n",
       "    </tr>\n",
       "    <tr>\n",
       "      <th>11</th>\n",
       "      <td>IT</td>\n",
       "      <td>True</td>\n",
       "      <td>1183</td>\n",
       "      <td>3137</td>\n",
       "      <td>0.377112</td>\n",
       "    </tr>\n",
       "    <tr>\n",
       "      <th>100</th>\n",
       "      <td>AE</td>\n",
       "      <td>True</td>\n",
       "      <td>59</td>\n",
       "      <td>154</td>\n",
       "      <td>0.383117</td>\n",
       "    </tr>\n",
       "    <tr>\n",
       "      <th>0</th>\n",
       "      <td>CA</td>\n",
       "      <td>True</td>\n",
       "      <td>407</td>\n",
       "      <td>993</td>\n",
       "      <td>0.409869</td>\n",
       "    </tr>\n",
       "    <tr>\n",
       "      <th>13</th>\n",
       "      <td>IE</td>\n",
       "      <td>True</td>\n",
       "      <td>1217</td>\n",
       "      <td>2951</td>\n",
       "      <td>0.412403</td>\n",
       "    </tr>\n",
       "    <tr>\n",
       "      <th>24</th>\n",
       "      <td>ES</td>\n",
       "      <td>True</td>\n",
       "      <td>794</td>\n",
       "      <td>1914</td>\n",
       "      <td>0.414838</td>\n",
       "    </tr>\n",
       "    <tr>\n",
       "      <th>49</th>\n",
       "      <td>RO</td>\n",
       "      <td>True</td>\n",
       "      <td>50</td>\n",
       "      <td>118</td>\n",
       "      <td>0.423729</td>\n",
       "    </tr>\n",
       "    <tr>\n",
       "      <th>78</th>\n",
       "      <td>CR</td>\n",
       "      <td>True</td>\n",
       "      <td>82</td>\n",
       "      <td>188</td>\n",
       "      <td>0.436170</td>\n",
       "    </tr>\n",
       "    <tr>\n",
       "      <th>6</th>\n",
       "      <td>GB</td>\n",
       "      <td>True</td>\n",
       "      <td>1610</td>\n",
       "      <td>3667</td>\n",
       "      <td>0.439051</td>\n",
       "    </tr>\n",
       "    <tr>\n",
       "      <th>25</th>\n",
       "      <td>BE</td>\n",
       "      <td>True</td>\n",
       "      <td>134</td>\n",
       "      <td>304</td>\n",
       "      <td>0.440789</td>\n",
       "    </tr>\n",
       "    <tr>\n",
       "      <th>38</th>\n",
       "      <td>BR</td>\n",
       "      <td>True</td>\n",
       "      <td>215</td>\n",
       "      <td>482</td>\n",
       "      <td>0.446058</td>\n",
       "    </tr>\n",
       "    <tr>\n",
       "      <th>27</th>\n",
       "      <td>AU</td>\n",
       "      <td>True</td>\n",
       "      <td>268</td>\n",
       "      <td>590</td>\n",
       "      <td>0.454237</td>\n",
       "    </tr>\n",
       "    <tr>\n",
       "      <th>17</th>\n",
       "      <td>FR</td>\n",
       "      <td>True</td>\n",
       "      <td>1526</td>\n",
       "      <td>3232</td>\n",
       "      <td>0.472153</td>\n",
       "    </tr>\n",
       "    <tr>\n",
       "      <th>12</th>\n",
       "      <td>CH</td>\n",
       "      <td>True</td>\n",
       "      <td>279</td>\n",
       "      <td>585</td>\n",
       "      <td>0.476923</td>\n",
       "    </tr>\n",
       "    <tr>\n",
       "      <th>7</th>\n",
       "      <td>US</td>\n",
       "      <td>True</td>\n",
       "      <td>2050</td>\n",
       "      <td>4298</td>\n",
       "      <td>0.476966</td>\n",
       "    </tr>\n",
       "    <tr>\n",
       "      <th>14</th>\n",
       "      <td>DE</td>\n",
       "      <td>True</td>\n",
       "      <td>745</td>\n",
       "      <td>1535</td>\n",
       "      <td>0.485342</td>\n",
       "    </tr>\n",
       "    <tr>\n",
       "      <th>31</th>\n",
       "      <td>NL</td>\n",
       "      <td>True</td>\n",
       "      <td>212</td>\n",
       "      <td>433</td>\n",
       "      <td>0.489607</td>\n",
       "    </tr>\n",
       "    <tr>\n",
       "      <th>46</th>\n",
       "      <td>SG</td>\n",
       "      <td>True</td>\n",
       "      <td>115</td>\n",
       "      <td>232</td>\n",
       "      <td>0.495690</td>\n",
       "    </tr>\n",
       "    <tr>\n",
       "      <th>65</th>\n",
       "      <td>PT</td>\n",
       "      <td>True</td>\n",
       "      <td>101</td>\n",
       "      <td>203</td>\n",
       "      <td>0.497537</td>\n",
       "    </tr>\n",
       "    <tr>\n",
       "      <th>1</th>\n",
       "      <td>DK</td>\n",
       "      <td>True</td>\n",
       "      <td>86</td>\n",
       "      <td>125</td>\n",
       "      <td>0.688000</td>\n",
       "    </tr>\n",
       "  </tbody>\n",
       "</table>\n",
       "</div>"
      ],
      "text/plain": [
       "    origin_country  accepted  count_accepted  count_country  acceptance_rate\n",
       "73              IN      True             138            874         0.157895\n",
       "55              HR      True             159            530         0.300000\n",
       "72              AT      True              83            239         0.347280\n",
       "54              RU      True              83            239         0.347280\n",
       "11              IT      True            1183           3137         0.377112\n",
       "100             AE      True              59            154         0.383117\n",
       "0               CA      True             407            993         0.409869\n",
       "13              IE      True            1217           2951         0.412403\n",
       "24              ES      True             794           1914         0.414838\n",
       "49              RO      True              50            118         0.423729\n",
       "78              CR      True              82            188         0.436170\n",
       "6               GB      True            1610           3667         0.439051\n",
       "25              BE      True             134            304         0.440789\n",
       "38              BR      True             215            482         0.446058\n",
       "27              AU      True             268            590         0.454237\n",
       "17              FR      True            1526           3232         0.472153\n",
       "12              CH      True             279            585         0.476923\n",
       "7               US      True            2050           4298         0.476966\n",
       "14              DE      True             745           1535         0.485342\n",
       "31              NL      True             212            433         0.489607\n",
       "46              SG      True             115            232         0.495690\n",
       "65              PT      True             101            203         0.497537\n",
       "1               DK      True              86            125         0.688000"
      ]
     },
     "execution_count": 112,
     "metadata": {},
     "output_type": "execute_result"
    }
   ],
   "source": [
    "# find the acceptance rate by country\n",
    "dataset_country = merged_datasets[['origin_country', 'accepted']]\n",
    "\n",
    "# find acceptance count by country and accepted\n",
    "accepted_count = dataset_country.groupby(['origin_country', 'accepted']).agg({'origin_country':'count'})\n",
    "accepted_count.columns = ['count_accepted']\n",
    "\n",
    "# find acceptance count by country\n",
    "country_count = dataset_country.groupby(['origin_country']).agg({'origin_country':'count'})\n",
    "country_count.columns = ['count_country']\n",
    "\n",
    "# merge datasets for easier manipulation \n",
    "acceptance_country = pd.merge(dataset_country, accepted_count,  how='left', on=['origin_country','accepted']) # merge accepted count\n",
    "acceptance_country = acceptance_country.drop_duplicates()\n",
    "\n",
    "acceptance_country = pd.merge(acceptance_country, country_count, how='left', on=['origin_country']) # merge total country count\n",
    "acceptance_country = acceptance_country.sort_values(['count_country', 'accepted'], ascending = [False, True])\n",
    "acceptance_country = acceptance_country[acceptance_country['count_country'] >= 100] # 100 is used so there is a good amount of data to make assumptions\n",
    "acceptance_country = acceptance_country[acceptance_country['accepted'] == True]\n",
    "\n",
    "# divide count_accepted column by count_country column to find acceptance rate by country\n",
    "acceptance_country['acceptance_rate'] = acceptance_country['count_accepted']/acceptance_country['count_country']\n",
    "acceptance_country.sort_values(['acceptance_rate'], ascending = True)"
   ]
  },
  {
   "cell_type": "markdown",
   "id": "de6b89b3",
   "metadata": {},
   "source": [
    "\n",
    "India (IN) has the lowest acceptance rate of 15%, which is half of the acceptance rate compared to the second lowest accepted country, Croatia (HR).\n",
    "\n",
    "Denmark (DK) has the highest acceptance rate but low application numbers. Might want to consider increasing marketing to lead to higher demand. "
   ]
  },
  {
   "cell_type": "code",
   "execution_count": null,
   "id": "54280dab",
   "metadata": {},
   "outputs": [],
   "source": []
  }
 ],
 "metadata": {
  "kernelspec": {
   "display_name": "Python 3 (ipykernel)",
   "language": "python",
   "name": "python3"
  },
  "language_info": {
   "codemirror_mode": {
    "name": "ipython",
    "version": 3
   },
   "file_extension": ".py",
   "mimetype": "text/x-python",
   "name": "python",
   "nbconvert_exporter": "python",
   "pygments_lexer": "ipython3",
   "version": "3.11.3"
  }
 },
 "nbformat": 4,
 "nbformat_minor": 5
}
