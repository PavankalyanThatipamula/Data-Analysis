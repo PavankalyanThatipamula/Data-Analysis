{
 "cells": [
  {
   "cell_type": "markdown",
   "id": "0bc6b69c",
   "metadata": {
    "papermill": {
     "duration": 0.014764,
     "end_time": "2023-01-05T13:42:06.224599",
     "exception": false,
     "start_time": "2023-01-05T13:42:06.209835",
     "status": "completed"
    },
    "tags": []
   },
   "source": [
    "# Project Description\n",
    "\n",
    "A new city manager for Airbnb has started in Dublin and wants to better understand:\n",
    "\n",
    "- What guests are searching for in Dublin,\n",
    "- Which inquiries hosts tend to accept.\n",
    "- What gaps exist between guest demand and host supply\n",
    "- Any other information that deepens the understanding of the data\n",
    "\n",
    "The goal is to analyze, understand, visualize, and communicate the demand/supply of the market in Dublin"
   ]
  },
  {
   "cell_type": "markdown",
   "id": "368fe08b",
   "metadata": {
    "papermill": {
     "duration": 0.013013,
     "end_time": "2023-01-05T13:42:06.249083",
     "exception": false,
     "start_time": "2023-01-05T13:42:06.236070",
     "status": "completed"
    },
    "tags": []
   },
   "source": [
    "# Data Exploration"
   ]
  },
  {
   "cell_type": "code",
   "execution_count": 1,
   "id": "a6e9e7be",
   "metadata": {
    "execution": {
     "iopub.execute_input": "2023-01-05T13:42:06.274164Z",
     "iopub.status.busy": "2023-01-05T13:42:06.273678Z",
     "iopub.status.idle": "2023-01-05T13:42:07.646108Z",
     "shell.execute_reply": "2023-01-05T13:42:07.644956Z"
    },
    "papermill": {
     "duration": 1.388207,
     "end_time": "2023-01-05T13:42:07.648953",
     "exception": false,
     "start_time": "2023-01-05T13:42:06.260746",
     "status": "completed"
    },
    "tags": []
   },
   "outputs": [],
   "source": [
    "# import libraries/dataset\n",
    "import pandas as pd\n",
    "import numpy as np\n",
    "import seaborn as sns\n",
    "import matplotlib.pyplot as plt\n",
    "\n",
    "contacts_file = (\"/kaggle/input/market-analysis/contacts.tsv\")\n",
    "contacts = pd.read_csv(contacts_file, sep=\"\\t\")\n",
    "\n",
    "searches_file = (\"/kaggle/input/market-analysis/searches.tsv\")\n",
    "searches = pd.read_csv(searches_file, sep=\"\\t\")"
   ]
  },
  {
   "cell_type": "code",
   "execution_count": 2,
   "id": "04bcc275",
   "metadata": {
    "execution": {
     "iopub.execute_input": "2023-01-05T13:42:07.673958Z",
     "iopub.status.busy": "2023-01-05T13:42:07.672574Z",
     "iopub.status.idle": "2023-01-05T13:42:07.698675Z",
     "shell.execute_reply": "2023-01-05T13:42:07.697386Z"
    },
    "papermill": {
     "duration": 0.041671,
     "end_time": "2023-01-05T13:42:07.701966",
     "exception": false,
     "start_time": "2023-01-05T13:42:07.660295",
     "status": "completed"
    },
    "tags": []
   },
   "outputs": [
    {
     "data": {
      "text/html": [
       "<div>\n",
       "<style scoped>\n",
       "    .dataframe tbody tr th:only-of-type {\n",
       "        vertical-align: middle;\n",
       "    }\n",
       "\n",
       "    .dataframe tbody tr th {\n",
       "        vertical-align: top;\n",
       "    }\n",
       "\n",
       "    .dataframe thead th {\n",
       "        text-align: right;\n",
       "    }\n",
       "</style>\n",
       "<table border=\"1\" class=\"dataframe\">\n",
       "  <thead>\n",
       "    <tr style=\"text-align: right;\">\n",
       "      <th></th>\n",
       "      <th>id_guest</th>\n",
       "      <th>id_host</th>\n",
       "      <th>id_listing</th>\n",
       "      <th>ts_contact_at</th>\n",
       "      <th>ts_reply_at</th>\n",
       "      <th>ts_accepted_at</th>\n",
       "      <th>ts_booking_at</th>\n",
       "      <th>ds_checkin</th>\n",
       "      <th>ds_checkout</th>\n",
       "      <th>n_guests</th>\n",
       "      <th>n_messages</th>\n",
       "    </tr>\n",
       "  </thead>\n",
       "  <tbody>\n",
       "    <tr>\n",
       "      <th>0</th>\n",
       "      <td>000dfad9-459b-4f0b-8310-3d6ab34e4f57</td>\n",
       "      <td>13bb24b8-d432-43a2-9755-5ea11b43bb69</td>\n",
       "      <td>21d2b1a2-fdc3-4b4c-a1f0-0eaf0cc02370</td>\n",
       "      <td>2014-10-04 16:26:28.0</td>\n",
       "      <td>2014-10-04 16:26:28.0</td>\n",
       "      <td>2014-10-04 16:26:28.0</td>\n",
       "      <td>2014-10-04 16:26:28.0</td>\n",
       "      <td>2014-10-13</td>\n",
       "      <td>2014-10-15</td>\n",
       "      <td>2</td>\n",
       "      <td>13</td>\n",
       "    </tr>\n",
       "    <tr>\n",
       "      <th>1</th>\n",
       "      <td>00197051-c6cb-4c3a-99e9-86615b819874</td>\n",
       "      <td>46aa3897-9c00-4d76-ac66-a307593d0675</td>\n",
       "      <td>fb5ed09a-9848-4f2c-b2ef-34deb62164fb</td>\n",
       "      <td>2014-11-04 09:10:03.0</td>\n",
       "      <td>2014-11-04 09:45:50.0</td>\n",
       "      <td>2014-11-04 09:45:50.0</td>\n",
       "      <td>2014-11-04 12:20:46.0</td>\n",
       "      <td>2014-11-27</td>\n",
       "      <td>2014-11-30</td>\n",
       "      <td>1</td>\n",
       "      <td>10</td>\n",
       "    </tr>\n",
       "    <tr>\n",
       "      <th>2</th>\n",
       "      <td>0027538e-aa9e-4a02-8979-b8397e5d4cba</td>\n",
       "      <td>6bbb88ca-db66-48c5-9c4b-862f7706284a</td>\n",
       "      <td>d3871da6-8012-4dc4-b508-c91f2c10c297</td>\n",
       "      <td>2014-10-10 12:02:50.0</td>\n",
       "      <td>2014-10-10 15:07:01.0</td>\n",
       "      <td>NaN</td>\n",
       "      <td>NaN</td>\n",
       "      <td>2014-10-17</td>\n",
       "      <td>2014-10-19</td>\n",
       "      <td>2</td>\n",
       "      <td>3</td>\n",
       "    </tr>\n",
       "    <tr>\n",
       "      <th>3</th>\n",
       "      <td>0027538e-aa9e-4a02-8979-b8397e5d4cba</td>\n",
       "      <td>8772bc85-a9b7-4d85-a52d-41f3620c2912</td>\n",
       "      <td>0d9b5583-8053-4b67-adfe-8c29eb12efed</td>\n",
       "      <td>2014-10-10 15:23:53.0</td>\n",
       "      <td>NaN</td>\n",
       "      <td>NaN</td>\n",
       "      <td>NaN</td>\n",
       "      <td>2014-10-17</td>\n",
       "      <td>2014-10-19</td>\n",
       "      <td>2</td>\n",
       "      <td>2</td>\n",
       "    </tr>\n",
       "    <tr>\n",
       "      <th>4</th>\n",
       "      <td>0027538e-aa9e-4a02-8979-b8397e5d4cba</td>\n",
       "      <td>ac162061-55e2-4072-ac91-2e080f9581f2</td>\n",
       "      <td>ec68e0af-b0f2-42c7-b6f8-d41061c083ff</td>\n",
       "      <td>2014-10-10 15:22:26.0</td>\n",
       "      <td>2014-10-10 15:24:26.0</td>\n",
       "      <td>2014-10-10 15:24:26.0</td>\n",
       "      <td>2014-10-10 15:52:42.0</td>\n",
       "      <td>2014-10-17</td>\n",
       "      <td>2014-10-19</td>\n",
       "      <td>2</td>\n",
       "      <td>14</td>\n",
       "    </tr>\n",
       "  </tbody>\n",
       "</table>\n",
       "</div>"
      ],
      "text/plain": [
       "                               id_guest                               id_host  \\\n",
       "0  000dfad9-459b-4f0b-8310-3d6ab34e4f57  13bb24b8-d432-43a2-9755-5ea11b43bb69   \n",
       "1  00197051-c6cb-4c3a-99e9-86615b819874  46aa3897-9c00-4d76-ac66-a307593d0675   \n",
       "2  0027538e-aa9e-4a02-8979-b8397e5d4cba  6bbb88ca-db66-48c5-9c4b-862f7706284a   \n",
       "3  0027538e-aa9e-4a02-8979-b8397e5d4cba  8772bc85-a9b7-4d85-a52d-41f3620c2912   \n",
       "4  0027538e-aa9e-4a02-8979-b8397e5d4cba  ac162061-55e2-4072-ac91-2e080f9581f2   \n",
       "\n",
       "                             id_listing          ts_contact_at  \\\n",
       "0  21d2b1a2-fdc3-4b4c-a1f0-0eaf0cc02370  2014-10-04 16:26:28.0   \n",
       "1  fb5ed09a-9848-4f2c-b2ef-34deb62164fb  2014-11-04 09:10:03.0   \n",
       "2  d3871da6-8012-4dc4-b508-c91f2c10c297  2014-10-10 12:02:50.0   \n",
       "3  0d9b5583-8053-4b67-adfe-8c29eb12efed  2014-10-10 15:23:53.0   \n",
       "4  ec68e0af-b0f2-42c7-b6f8-d41061c083ff  2014-10-10 15:22:26.0   \n",
       "\n",
       "             ts_reply_at         ts_accepted_at          ts_booking_at  \\\n",
       "0  2014-10-04 16:26:28.0  2014-10-04 16:26:28.0  2014-10-04 16:26:28.0   \n",
       "1  2014-11-04 09:45:50.0  2014-11-04 09:45:50.0  2014-11-04 12:20:46.0   \n",
       "2  2014-10-10 15:07:01.0                    NaN                    NaN   \n",
       "3                    NaN                    NaN                    NaN   \n",
       "4  2014-10-10 15:24:26.0  2014-10-10 15:24:26.0  2014-10-10 15:52:42.0   \n",
       "\n",
       "   ds_checkin ds_checkout  n_guests  n_messages  \n",
       "0  2014-10-13  2014-10-15         2          13  \n",
       "1  2014-11-27  2014-11-30         1          10  \n",
       "2  2014-10-17  2014-10-19         2           3  \n",
       "3  2014-10-17  2014-10-19         2           2  \n",
       "4  2014-10-17  2014-10-19         2          14  "
      ]
     },
     "execution_count": 2,
     "metadata": {},
     "output_type": "execute_result"
    }
   ],
   "source": [
    "contacts.head()"
   ]
  },
  {
   "cell_type": "code",
   "execution_count": 3,
   "id": "065d0b4c",
   "metadata": {
    "execution": {
     "iopub.execute_input": "2023-01-05T13:42:07.727380Z",
     "iopub.status.busy": "2023-01-05T13:42:07.726986Z",
     "iopub.status.idle": "2023-01-05T13:42:07.747159Z",
     "shell.execute_reply": "2023-01-05T13:42:07.745830Z"
    },
    "papermill": {
     "duration": 0.035624,
     "end_time": "2023-01-05T13:42:07.749665",
     "exception": false,
     "start_time": "2023-01-05T13:42:07.714041",
     "status": "completed"
    },
    "tags": []
   },
   "outputs": [
    {
     "data": {
      "text/html": [
       "<div>\n",
       "<style scoped>\n",
       "    .dataframe tbody tr th:only-of-type {\n",
       "        vertical-align: middle;\n",
       "    }\n",
       "\n",
       "    .dataframe tbody tr th {\n",
       "        vertical-align: top;\n",
       "    }\n",
       "\n",
       "    .dataframe thead th {\n",
       "        text-align: right;\n",
       "    }\n",
       "</style>\n",
       "<table border=\"1\" class=\"dataframe\">\n",
       "  <thead>\n",
       "    <tr style=\"text-align: right;\">\n",
       "      <th></th>\n",
       "      <th>ds</th>\n",
       "      <th>id_user</th>\n",
       "      <th>ds_checkin</th>\n",
       "      <th>ds_checkout</th>\n",
       "      <th>n_searches</th>\n",
       "      <th>n_nights</th>\n",
       "      <th>n_guests_min</th>\n",
       "      <th>n_guests_max</th>\n",
       "      <th>origin_country</th>\n",
       "      <th>filter_price_min</th>\n",
       "      <th>filter_price_max</th>\n",
       "      <th>filter_room_types</th>\n",
       "      <th>filter_neighborhoods</th>\n",
       "    </tr>\n",
       "  </thead>\n",
       "  <tbody>\n",
       "    <tr>\n",
       "      <th>0</th>\n",
       "      <td>2014-10-01</td>\n",
       "      <td>0000af0a-6f26-4233-9832-27efbfb36148</td>\n",
       "      <td>2014-10-09</td>\n",
       "      <td>2014-10-12</td>\n",
       "      <td>16</td>\n",
       "      <td>3.0</td>\n",
       "      <td>2</td>\n",
       "      <td>2</td>\n",
       "      <td>IE</td>\n",
       "      <td>0.0</td>\n",
       "      <td>67.0</td>\n",
       "      <td>,Entire home/apt,Entire home/apt,Private room,...</td>\n",
       "      <td>NaN</td>\n",
       "    </tr>\n",
       "    <tr>\n",
       "      <th>1</th>\n",
       "      <td>2014-10-01</td>\n",
       "      <td>0000af0a-6f26-4233-9832-27efbfb36148</td>\n",
       "      <td>2014-10-09</td>\n",
       "      <td>2014-10-19</td>\n",
       "      <td>3</td>\n",
       "      <td>10.0</td>\n",
       "      <td>1</td>\n",
       "      <td>2</td>\n",
       "      <td>IE</td>\n",
       "      <td>0.0</td>\n",
       "      <td>67.0</td>\n",
       "      <td>NaN</td>\n",
       "      <td>NaN</td>\n",
       "    </tr>\n",
       "    <tr>\n",
       "      <th>2</th>\n",
       "      <td>2014-10-01</td>\n",
       "      <td>000cd9d3-e05b-4016-9e09-34a6f8ba2fc5</td>\n",
       "      <td>NaN</td>\n",
       "      <td>NaN</td>\n",
       "      <td>1</td>\n",
       "      <td>NaN</td>\n",
       "      <td>1</td>\n",
       "      <td>1</td>\n",
       "      <td>GB</td>\n",
       "      <td>NaN</td>\n",
       "      <td>NaN</td>\n",
       "      <td>NaN</td>\n",
       "      <td>NaN</td>\n",
       "    </tr>\n",
       "    <tr>\n",
       "      <th>3</th>\n",
       "      <td>2014-10-01</td>\n",
       "      <td>000cd9d3-e05b-4016-9e09-34a6f8ba2fc5</td>\n",
       "      <td>2014-11-08</td>\n",
       "      <td>2014-11-10</td>\n",
       "      <td>11</td>\n",
       "      <td>2.0</td>\n",
       "      <td>1</td>\n",
       "      <td>2</td>\n",
       "      <td>GB</td>\n",
       "      <td>NaN</td>\n",
       "      <td>NaN</td>\n",
       "      <td>,Entire home/apt</td>\n",
       "      <td>NaN</td>\n",
       "    </tr>\n",
       "    <tr>\n",
       "      <th>4</th>\n",
       "      <td>2014-10-01</td>\n",
       "      <td>001c04f0-5a94-4ee0-bf5d-3591265256de</td>\n",
       "      <td>NaN</td>\n",
       "      <td>NaN</td>\n",
       "      <td>1</td>\n",
       "      <td>NaN</td>\n",
       "      <td>1</td>\n",
       "      <td>1</td>\n",
       "      <td>IE</td>\n",
       "      <td>NaN</td>\n",
       "      <td>NaN</td>\n",
       "      <td>NaN</td>\n",
       "      <td>NaN</td>\n",
       "    </tr>\n",
       "  </tbody>\n",
       "</table>\n",
       "</div>"
      ],
      "text/plain": [
       "           ds                               id_user  ds_checkin ds_checkout  \\\n",
       "0  2014-10-01  0000af0a-6f26-4233-9832-27efbfb36148  2014-10-09  2014-10-12   \n",
       "1  2014-10-01  0000af0a-6f26-4233-9832-27efbfb36148  2014-10-09  2014-10-19   \n",
       "2  2014-10-01  000cd9d3-e05b-4016-9e09-34a6f8ba2fc5         NaN         NaN   \n",
       "3  2014-10-01  000cd9d3-e05b-4016-9e09-34a6f8ba2fc5  2014-11-08  2014-11-10   \n",
       "4  2014-10-01  001c04f0-5a94-4ee0-bf5d-3591265256de         NaN         NaN   \n",
       "\n",
       "   n_searches  n_nights  n_guests_min  n_guests_max origin_country  \\\n",
       "0          16       3.0             2             2             IE   \n",
       "1           3      10.0             1             2             IE   \n",
       "2           1       NaN             1             1             GB   \n",
       "3          11       2.0             1             2             GB   \n",
       "4           1       NaN             1             1             IE   \n",
       "\n",
       "   filter_price_min  filter_price_max  \\\n",
       "0               0.0              67.0   \n",
       "1               0.0              67.0   \n",
       "2               NaN               NaN   \n",
       "3               NaN               NaN   \n",
       "4               NaN               NaN   \n",
       "\n",
       "                                   filter_room_types filter_neighborhoods  \n",
       "0  ,Entire home/apt,Entire home/apt,Private room,...                  NaN  \n",
       "1                                                NaN                  NaN  \n",
       "2                                                NaN                  NaN  \n",
       "3                                   ,Entire home/apt                  NaN  \n",
       "4                                                NaN                  NaN  "
      ]
     },
     "execution_count": 3,
     "metadata": {},
     "output_type": "execute_result"
    }
   ],
   "source": [
    "searches.head()"
   ]
  },
  {
   "cell_type": "code",
   "execution_count": 4,
   "id": "ddf23096",
   "metadata": {
    "execution": {
     "iopub.execute_input": "2023-01-05T13:42:07.775576Z",
     "iopub.status.busy": "2023-01-05T13:42:07.775180Z",
     "iopub.status.idle": "2023-01-05T13:42:07.804339Z",
     "shell.execute_reply": "2023-01-05T13:42:07.802735Z"
    },
    "papermill": {
     "duration": 0.044907,
     "end_time": "2023-01-05T13:42:07.806800",
     "exception": false,
     "start_time": "2023-01-05T13:42:07.761893",
     "status": "completed"
    },
    "tags": []
   },
   "outputs": [
    {
     "name": "stdout",
     "output_type": "stream",
     "text": [
      "Contacts\n",
      "id_guest          0.000000\n",
      "id_host           0.000000\n",
      "id_listing        0.000000\n",
      "ts_contact_at     0.000000\n",
      "ts_reply_at       0.077208\n",
      "ts_accepted_at    0.536367\n",
      "ts_booking_at     0.722101\n",
      "ds_checkin        0.000000\n",
      "ds_checkout       0.000000\n",
      "n_guests          0.000000\n",
      "n_messages        0.000000\n",
      "dtype: float64 \n",
      "\n",
      "Searches\n",
      "ds                      0.000000\n",
      "id_user                 0.000000\n",
      "ds_checkin              0.331561\n",
      "ds_checkout             0.331561\n",
      "n_searches              0.000000\n",
      "n_nights                0.331561\n",
      "n_guests_min            0.000000\n",
      "n_guests_max            0.000000\n",
      "origin_country          0.000000\n",
      "filter_price_min        0.627221\n",
      "filter_price_max        0.627221\n",
      "filter_room_types       0.546940\n",
      "filter_neighborhoods    0.962336\n",
      "dtype: float64\n"
     ]
    }
   ],
   "source": [
    "# find % of null values in datasets \n",
    "print('Contacts')\n",
    "print(contacts.isna().sum()/len(contacts), '\\n')\n",
    "print('Searches')\n",
    "print(searches.isna().sum()/len(searches))"
   ]
  },
  {
   "cell_type": "markdown",
   "id": "e316f73c",
   "metadata": {
    "papermill": {
     "duration": 0.012082,
     "end_time": "2023-01-05T13:42:07.832831",
     "exception": false,
     "start_time": "2023-01-05T13:42:07.820749",
     "status": "completed"
    },
    "tags": []
   },
   "source": [
    "The neighbourhood column in searches has 96.2336% of null values. This could lead to inaccurate assumptions about the demand from people. When looking through the column, 'City Centre' was a common choice, so this should be investigated further with more data."
   ]
  },
  {
   "cell_type": "markdown",
   "id": "62cc1797",
   "metadata": {
    "papermill": {
     "duration": 0.011902,
     "end_time": "2023-01-05T13:42:07.856342",
     "exception": false,
     "start_time": "2023-01-05T13:42:07.844440",
     "status": "completed"
    },
    "tags": []
   },
   "source": [
    "# searches Dataset"
   ]
  },
  {
   "cell_type": "code",
   "execution_count": 5,
   "id": "3d61436c",
   "metadata": {
    "execution": {
     "iopub.execute_input": "2023-01-05T13:42:07.882543Z",
     "iopub.status.busy": "2023-01-05T13:42:07.882110Z",
     "iopub.status.idle": "2023-01-05T13:42:07.896367Z",
     "shell.execute_reply": "2023-01-05T13:42:07.895024Z"
    },
    "papermill": {
     "duration": 0.030799,
     "end_time": "2023-01-05T13:42:07.898917",
     "exception": false,
     "start_time": "2023-01-05T13:42:07.868118",
     "status": "completed"
    },
    "tags": []
   },
   "outputs": [],
   "source": [
    "# drop filter_neighborhoods column\n",
    "searches = searches.drop(columns=['filter_neighborhoods'])"
   ]
  },
  {
   "cell_type": "code",
   "execution_count": 6,
   "id": "f8f1a7fe",
   "metadata": {
    "execution": {
     "iopub.execute_input": "2023-01-05T13:42:07.925226Z",
     "iopub.status.busy": "2023-01-05T13:42:07.924000Z",
     "iopub.status.idle": "2023-01-05T13:42:07.956334Z",
     "shell.execute_reply": "2023-01-05T13:42:07.954905Z"
    },
    "papermill": {
     "duration": 0.047915,
     "end_time": "2023-01-05T13:42:07.958773",
     "exception": false,
     "start_time": "2023-01-05T13:42:07.910858",
     "status": "completed"
    },
    "tags": []
   },
   "outputs": [
    {
     "name": "stdout",
     "output_type": "stream",
     "text": [
      "<class 'pandas.core.frame.DataFrame'>\n",
      "RangeIndex: 35737 entries, 0 to 35736\n",
      "Data columns (total 12 columns):\n",
      " #   Column             Non-Null Count  Dtype  \n",
      "---  ------             --------------  -----  \n",
      " 0   ds                 35737 non-null  object \n",
      " 1   id_user            35737 non-null  object \n",
      " 2   ds_checkin         23888 non-null  object \n",
      " 3   ds_checkout        23888 non-null  object \n",
      " 4   n_searches         35737 non-null  int64  \n",
      " 5   n_nights           23888 non-null  float64\n",
      " 6   n_guests_min       35737 non-null  int64  \n",
      " 7   n_guests_max       35737 non-null  int64  \n",
      " 8   origin_country     35737 non-null  object \n",
      " 9   filter_price_min   13322 non-null  float64\n",
      " 10  filter_price_max   13322 non-null  float64\n",
      " 11  filter_room_types  16191 non-null  object \n",
      "dtypes: float64(3), int64(3), object(6)\n",
      "memory usage: 3.3+ MB\n"
     ]
    }
   ],
   "source": [
    "# checking the data types of the columns in the searches dataset\n",
    "searches.info()"
   ]
  },
  {
   "cell_type": "code",
   "execution_count": 7,
   "id": "ddcf97dd",
   "metadata": {
    "execution": {
     "iopub.execute_input": "2023-01-05T13:42:07.986222Z",
     "iopub.status.busy": "2023-01-05T13:42:07.985788Z",
     "iopub.status.idle": "2023-01-05T13:42:08.017707Z",
     "shell.execute_reply": "2023-01-05T13:42:08.016291Z"
    },
    "papermill": {
     "duration": 0.049911,
     "end_time": "2023-01-05T13:42:08.020610",
     "exception": false,
     "start_time": "2023-01-05T13:42:07.970699",
     "status": "completed"
    },
    "tags": []
   },
   "outputs": [],
   "source": [
    "# manipulation of searches dataset\n",
    "\n",
    "# convert date column to datetime data type for easier analysis\n",
    "searches['ds'] = pd.to_datetime(searches['ds'])\n",
    "searches['ds_checkin'] = pd.to_datetime(searches['ds_checkin'])\n",
    "searches['ds_checkout'] = pd.to_datetime(searches['ds_checkout'])\n",
    "\n",
    "# how soon they want the room\n",
    "searches['length_preperation'] = searches['ds_checkin'] - searches['ds']"
   ]
  },
  {
   "cell_type": "markdown",
   "id": "49db95a3",
   "metadata": {
    "papermill": {
     "duration": 0.012093,
     "end_time": "2023-01-05T13:42:08.044811",
     "exception": false,
     "start_time": "2023-01-05T13:42:08.032718",
     "status": "completed"
    },
    "tags": []
   },
   "source": [
    "I used the difference between the `ds_checkin` column and `ds` search column to find out how soon people want their rooms. This information might be useful since I can find out how soon people start planning their trips and lead to better business decisions. "
   ]
  },
  {
   "cell_type": "code",
   "execution_count": 8,
   "id": "42917037",
   "metadata": {
    "execution": {
     "iopub.execute_input": "2023-01-05T13:42:08.071055Z",
     "iopub.status.busy": "2023-01-05T13:42:08.070532Z",
     "iopub.status.idle": "2023-01-05T13:42:08.125356Z",
     "shell.execute_reply": "2023-01-05T13:42:08.124033Z"
    },
    "papermill": {
     "duration": 0.071318,
     "end_time": "2023-01-05T13:42:08.128416",
     "exception": false,
     "start_time": "2023-01-05T13:42:08.057098",
     "status": "completed"
    },
    "tags": []
   },
   "outputs": [
    {
     "data": {
      "text/html": [
       "<div>\n",
       "<style scoped>\n",
       "    .dataframe tbody tr th:only-of-type {\n",
       "        vertical-align: middle;\n",
       "    }\n",
       "\n",
       "    .dataframe tbody tr th {\n",
       "        vertical-align: top;\n",
       "    }\n",
       "\n",
       "    .dataframe thead th {\n",
       "        text-align: right;\n",
       "    }\n",
       "</style>\n",
       "<table border=\"1\" class=\"dataframe\">\n",
       "  <thead>\n",
       "    <tr style=\"text-align: right;\">\n",
       "      <th></th>\n",
       "      <th>n_searches</th>\n",
       "      <th>n_nights</th>\n",
       "      <th>n_guests_min</th>\n",
       "      <th>n_guests_max</th>\n",
       "      <th>filter_price_min</th>\n",
       "      <th>filter_price_max</th>\n",
       "      <th>length_preperation</th>\n",
       "    </tr>\n",
       "  </thead>\n",
       "  <tbody>\n",
       "    <tr>\n",
       "      <th>count</th>\n",
       "      <td>35737.000000</td>\n",
       "      <td>23888.000000</td>\n",
       "      <td>35737.000000</td>\n",
       "      <td>35737.000000</td>\n",
       "      <td>13322.000000</td>\n",
       "      <td>1.332200e+04</td>\n",
       "      <td>23888</td>\n",
       "    </tr>\n",
       "    <tr>\n",
       "      <th>mean</th>\n",
       "      <td>9.206565</td>\n",
       "      <td>7.672765</td>\n",
       "      <td>1.742955</td>\n",
       "      <td>2.105857</td>\n",
       "      <td>8.470200</td>\n",
       "      <td>9.019063e+07</td>\n",
       "      <td>51 days 08:11:53.730743469</td>\n",
       "    </tr>\n",
       "    <tr>\n",
       "      <th>std</th>\n",
       "      <td>17.348746</td>\n",
       "      <td>21.557614</td>\n",
       "      <td>1.460440</td>\n",
       "      <td>1.817358</td>\n",
       "      <td>53.987679</td>\n",
       "      <td>2.978482e+08</td>\n",
       "      <td>65 days 18:56:19.491940518</td>\n",
       "    </tr>\n",
       "    <tr>\n",
       "      <th>min</th>\n",
       "      <td>1.000000</td>\n",
       "      <td>0.000000</td>\n",
       "      <td>1.000000</td>\n",
       "      <td>1.000000</td>\n",
       "      <td>0.000000</td>\n",
       "      <td>9.000000e+00</td>\n",
       "      <td>-1 days +00:00:00</td>\n",
       "    </tr>\n",
       "    <tr>\n",
       "      <th>25%</th>\n",
       "      <td>1.000000</td>\n",
       "      <td>2.000000</td>\n",
       "      <td>1.000000</td>\n",
       "      <td>1.000000</td>\n",
       "      <td>0.000000</td>\n",
       "      <td>8.600000e+01</td>\n",
       "      <td>10 days 00:00:00</td>\n",
       "    </tr>\n",
       "    <tr>\n",
       "      <th>50%</th>\n",
       "      <td>4.000000</td>\n",
       "      <td>3.000000</td>\n",
       "      <td>1.000000</td>\n",
       "      <td>2.000000</td>\n",
       "      <td>0.000000</td>\n",
       "      <td>1.390000e+02</td>\n",
       "      <td>26 days 00:00:00</td>\n",
       "    </tr>\n",
       "    <tr>\n",
       "      <th>75%</th>\n",
       "      <td>10.000000</td>\n",
       "      <td>5.000000</td>\n",
       "      <td>2.000000</td>\n",
       "      <td>2.000000</td>\n",
       "      <td>0.000000</td>\n",
       "      <td>3.010000e+02</td>\n",
       "      <td>67 days 00:00:00</td>\n",
       "    </tr>\n",
       "    <tr>\n",
       "      <th>max</th>\n",
       "      <td>448.000000</td>\n",
       "      <td>399.000000</td>\n",
       "      <td>16.000000</td>\n",
       "      <td>16.000000</td>\n",
       "      <td>1250.000000</td>\n",
       "      <td>1.073742e+09</td>\n",
       "      <td>604 days 00:00:00</td>\n",
       "    </tr>\n",
       "  </tbody>\n",
       "</table>\n",
       "</div>"
      ],
      "text/plain": [
       "         n_searches      n_nights  n_guests_min  n_guests_max  \\\n",
       "count  35737.000000  23888.000000  35737.000000  35737.000000   \n",
       "mean       9.206565      7.672765      1.742955      2.105857   \n",
       "std       17.348746     21.557614      1.460440      1.817358   \n",
       "min        1.000000      0.000000      1.000000      1.000000   \n",
       "25%        1.000000      2.000000      1.000000      1.000000   \n",
       "50%        4.000000      3.000000      1.000000      2.000000   \n",
       "75%       10.000000      5.000000      2.000000      2.000000   \n",
       "max      448.000000    399.000000     16.000000     16.000000   \n",
       "\n",
       "       filter_price_min  filter_price_max          length_preperation  \n",
       "count      13322.000000      1.332200e+04                       23888  \n",
       "mean           8.470200      9.019063e+07  51 days 08:11:53.730743469  \n",
       "std           53.987679      2.978482e+08  65 days 18:56:19.491940518  \n",
       "min            0.000000      9.000000e+00           -1 days +00:00:00  \n",
       "25%            0.000000      8.600000e+01            10 days 00:00:00  \n",
       "50%            0.000000      1.390000e+02            26 days 00:00:00  \n",
       "75%            0.000000      3.010000e+02            67 days 00:00:00  \n",
       "max         1250.000000      1.073742e+09           604 days 00:00:00  "
      ]
     },
     "execution_count": 8,
     "metadata": {},
     "output_type": "execute_result"
    }
   ],
   "source": [
    "# helps understand the dataset and its distribution of values within columns\n",
    "searches.describe()"
   ]
  },
  {
   "cell_type": "markdown",
   "id": "7da43321",
   "metadata": {
    "papermill": {
     "duration": 0.011972,
     "end_time": "2023-01-05T13:42:08.152914",
     "exception": false,
     "start_time": "2023-01-05T13:42:08.140942",
     "status": "completed"
    },
    "tags": []
   },
   "source": [
    "The number of guests is usually 1 or 2. This can be understood since even at 75% the `n_guests_min` and `n_guests_max` are 2 and at 25% is 1. Leading me to believe that smaller accommodations are preferred."
   ]
  },
  {
   "cell_type": "markdown",
   "id": "f85c5037",
   "metadata": {
    "papermill": {
     "duration": 0.012092,
     "end_time": "2023-01-05T13:42:08.177347",
     "exception": false,
     "start_time": "2023-01-05T13:42:08.165255",
     "status": "completed"
    },
    "tags": []
   },
   "source": [
    "I want to calculate for skewness as most models and diagnostic tests assume normal distribution. Hence, we calculate the skewness of the dataset through the Fisher-Pearson coefficient."
   ]
  },
  {
   "cell_type": "code",
   "execution_count": 9,
   "id": "47f22d4e",
   "metadata": {
    "execution": {
     "iopub.execute_input": "2023-01-05T13:42:08.203913Z",
     "iopub.status.busy": "2023-01-05T13:42:08.203436Z",
     "iopub.status.idle": "2023-01-05T13:42:08.217923Z",
     "shell.execute_reply": "2023-01-05T13:42:08.216568Z"
    },
    "papermill": {
     "duration": 0.031017,
     "end_time": "2023-01-05T13:42:08.220539",
     "exception": false,
     "start_time": "2023-01-05T13:42:08.189522",
     "status": "completed"
    },
    "tags": []
   },
   "outputs": [
    {
     "data": {
      "text/plain": [
       "n_searches           7.509258\n",
       "n_nights             9.942364\n",
       "n_guests_min         3.583798\n",
       "n_guests_max         3.148548\n",
       "filter_price_min    11.087745\n",
       "filter_price_max     2.999833\n",
       "dtype: float64"
      ]
     },
     "execution_count": 9,
     "metadata": {},
     "output_type": "execute_result"
    }
   ],
   "source": [
    "# calculate skewness in searches dataset\n",
    "searches.skew(axis=0, numeric_only=True, skipna=True)"
   ]
  },
  {
   "cell_type": "markdown",
   "id": "4a8dcd54",
   "metadata": {
    "papermill": {
     "duration": 0.012184,
     "end_time": "2023-01-05T13:42:08.245271",
     "exception": false,
     "start_time": "2023-01-05T13:42:08.233087",
     "status": "completed"
    },
    "tags": []
   },
   "source": [
    "All numeric columns have a Fisher-Pearson coefficient value greater than 1. This results in a positive skewness. Can experiment with log transformation, a type of transformation method, to reduce skewness in the future."
   ]
  },
  {
   "cell_type": "markdown",
   "id": "af4eebb2",
   "metadata": {
    "papermill": {
     "duration": 0.012958,
     "end_time": "2023-01-05T13:42:08.271595",
     "exception": false,
     "start_time": "2023-01-05T13:42:08.258637",
     "status": "completed"
    },
    "tags": []
   },
   "source": [
    "## Distribution"
   ]
  },
  {
   "cell_type": "markdown",
   "id": "68903cc5",
   "metadata": {
    "papermill": {
     "duration": 0.013197,
     "end_time": "2023-01-05T13:42:08.297895",
     "exception": false,
     "start_time": "2023-01-05T13:42:08.284698",
     "status": "completed"
    },
    "tags": []
   },
   "source": [
    "1) First, let's start with the minimum and maximum guests. I can find the number of people searched for when booking rooms."
   ]
  },
  {
   "cell_type": "code",
   "execution_count": 10,
   "id": "c96d5f60",
   "metadata": {
    "execution": {
     "iopub.execute_input": "2023-01-05T13:42:08.325116Z",
     "iopub.status.busy": "2023-01-05T13:42:08.324723Z",
     "iopub.status.idle": "2023-01-05T13:42:09.849620Z",
     "shell.execute_reply": "2023-01-05T13:42:09.848383Z"
    },
    "papermill": {
     "duration": 1.541848,
     "end_time": "2023-01-05T13:42:09.852205",
     "exception": false,
     "start_time": "2023-01-05T13:42:08.310357",
     "status": "completed"
    },
    "tags": []
   },
   "outputs": [
    {
     "data": {
      "image/png": "[encoded data removed]",
      "text/plain": [
       "<Figure size 360x360 with 1 Axes>"
      ]
     },
     "metadata": {
      "needs_background": "light"
     },
     "output_type": "display_data"
    },
    {
     "data": {
      "image/png": "[encoded data removed]",
      "text/plain": [
       "<Figure size 360x360 with 1 Axes>"
      ]
     },
     "metadata": {
      "needs_background": "light"
     },
     "output_type": "display_data"
    }
   ],
   "source": [
    "# distribution plot of n_guests_min and n_guests_max\n",
    "sns.displot(searches, x='n_guests_min', color='brown')\n",
    "sns.displot(searches, x='n_guests_max', color='black')\n",
    "plt.show()"
   ]
  },
  {
   "cell_type": "markdown",
   "id": "1af8e123",
   "metadata": {
    "papermill": {
     "duration": 0.012629,
     "end_time": "2023-01-05T13:42:09.877954",
     "exception": false,
     "start_time": "2023-01-05T13:42:09.865325",
     "status": "completed"
    },
    "tags": []
   },
   "source": [
    "Both have similar distributions with 1 being the most popular option and 2 being the next popular option."
   ]
  },
  {
   "cell_type": "markdown",
   "id": "d5e59418",
   "metadata": {
    "papermill": {
     "duration": 0.013629,
     "end_time": "2023-01-05T13:42:09.904553",
     "exception": false,
     "start_time": "2023-01-05T13:42:09.890924",
     "status": "completed"
    },
    "tags": []
   },
   "source": [
    "2) Let's find out when are people making these searches. With this information, I can calculate when people start thinking about going to Dublin for vacation for marketing purposes."
   ]
  },
  {
   "cell_type": "code",
   "execution_count": 11,
   "id": "b000179b",
   "metadata": {
    "execution": {
     "iopub.execute_input": "2023-01-05T13:42:09.934318Z",
     "iopub.status.busy": "2023-01-05T13:42:09.933882Z",
     "iopub.status.idle": "2023-01-05T13:42:10.307015Z",
     "shell.execute_reply": "2023-01-05T13:42:10.305504Z"
    },
    "papermill": {
     "duration": 0.391476,
     "end_time": "2023-01-05T13:42:10.309895",
     "exception": false,
     "start_time": "2023-01-05T13:42:09.918419",
     "status": "completed"
    },
    "tags": []
   },
   "outputs": [
    {
     "data": {
      "text/plain": [
       "[[None,\n",
       "  None,\n",
       "  None,\n",
       "  None,\n",
       "  None,\n",
       "  None,\n",
       "  None,\n",
       "  None,\n",
       "  None,\n",
       "  None,\n",
       "  None,\n",
       "  None,\n",
       "  None,\n",
       "  None]]"
      ]
     },
     "execution_count": 11,
     "metadata": {},
     "output_type": "execute_result"
    },
    {
     "data": {
      "image/png": "[encoded data removed]",
      "text/plain": [
       "<Figure size 360x360 with 1 Axes>"
      ]
     },
     "metadata": {
      "needs_background": "light"
     },
     "output_type": "display_data"
    }
   ],
   "source": [
    "# date of searches conducted\n",
    "ax = sns.displot(searches, x = 'ds', color = 'brown')\n",
    "[plt.setp(ax.get_xticklabels(), rotation=90) for ax in ax.axes.flat]"
   ]
  },
  {
   "cell_type": "markdown",
   "id": "0eb7d43d",
   "metadata": {
    "papermill": {
     "duration": 0.013277,
     "end_time": "2023-01-05T13:42:10.337415",
     "exception": false,
     "start_time": "2023-01-05T13:42:10.324138",
     "status": "completed"
    },
    "tags": []
   },
   "source": [
    "I can observe that all date searches were between October 1st to October 14th. No major variation in when search was conducted between these dates.\n",
    "\n",
    "Might want to start marketing Dublin as a potential location for vacation during the peak search periods. "
   ]
  },
  {
   "cell_type": "markdown",
   "id": "9bde018c",
   "metadata": {
    "papermill": {
     "duration": 0.013455,
     "end_time": "2023-01-05T13:42:10.364517",
     "exception": false,
     "start_time": "2023-01-05T13:42:10.351062",
     "status": "completed"
    },
    "tags": []
   },
   "source": [
    "3) Let's understand what is the maximum price people are willing to pay for a room."
   ]
  },
  {
   "cell_type": "code",
   "execution_count": 12,
   "id": "c7eba46a",
   "metadata": {
    "execution": {
     "iopub.execute_input": "2023-01-05T13:42:10.393991Z",
     "iopub.status.busy": "2023-01-05T13:42:10.393524Z",
     "iopub.status.idle": "2023-01-05T13:42:10.403184Z",
     "shell.execute_reply": "2023-01-05T13:42:10.401755Z"
    },
    "papermill": {
     "duration": 0.028255,
     "end_time": "2023-01-05T13:42:10.406250",
     "exception": false,
     "start_time": "2023-01-05T13:42:10.377995",
     "status": "completed"
    },
    "scrolled": true,
    "tags": []
   },
   "outputs": [
    {
     "name": "stdout",
     "output_type": "stream",
     "text": [
      "5.311022189887232 %\n"
     ]
    }
   ],
   "source": [
    "# percentage of dataset with a filter_price_max above 600\n",
    "print(len(searches[searches['filter_price_max']>600]) / len(searches['filter_price_max'])*100, '%')"
   ]
  },
  {
   "cell_type": "code",
   "execution_count": 13,
   "id": "d98800fd",
   "metadata": {
    "execution": {
     "iopub.execute_input": "2023-01-05T13:42:10.437032Z",
     "iopub.status.busy": "2023-01-05T13:42:10.436488Z",
     "iopub.status.idle": "2023-01-05T13:42:10.763835Z",
     "shell.execute_reply": "2023-01-05T13:42:10.762452Z"
    },
    "papermill": {
     "duration": 0.346455,
     "end_time": "2023-01-05T13:42:10.766838",
     "exception": false,
     "start_time": "2023-01-05T13:42:10.420383",
     "status": "completed"
    },
    "tags": []
   },
   "outputs": [
    {
     "data": {
      "image/png": "[encoded data removed]",
      "text/plain": [
       "<Figure size 360x360 with 1 Axes>"
      ]
     },
     "metadata": {
      "needs_background": "light"
     },
     "output_type": "display_data"
    }
   ],
   "source": [
    "# distribution of filter_price_max of searches\n",
    "\n",
    "# removing the set upper limit\n",
    "searches_maxprice_removed = searches[searches['filter_price_max'] <= 600]\n",
    "\n",
    "# distribution plot of filter_price_max column\n",
    "sns.displot(x=searches_maxprice_removed[\"filter_price_max\"], color='blue')\n",
    "plt.show()"
   ]
  },
  {
   "cell_type": "raw",
   "id": "b5478559",
   "metadata": {
    "papermill": {
     "duration": 0.013634,
     "end_time": "2023-01-05T13:42:10.794519",
     "exception": false,
     "start_time": "2023-01-05T13:42:10.780885",
     "status": "completed"
    },
    "tags": []
   },
   "source": [
    "Filter_price_max was chosen instead of filter_price_min due to the min usually being set at $0.\n",
    "\n",
    "To further help better visualize the trend we set the filter price max as less or equal to 600. 600 was chosen as the limit since only 5.31 % of the dataset has values greater than 600.\n",
    "\n",
    "Most people search for a room below $200/night with most searches around $100/night. 59% of people searched for rooms between $60 and $130 a night."
   ]
  },
  {
   "cell_type": "markdown",
   "id": "2987eece",
   "metadata": {
    "papermill": {
     "duration": 0.014552,
     "end_time": "2023-01-05T13:42:10.823144",
     "exception": false,
     "start_time": "2023-01-05T13:42:10.808592",
     "status": "completed"
    },
    "tags": []
   },
   "source": [
    "4) Let's calculate how soon people want rooms when booking."
   ]
  },
  {
   "cell_type": "code",
   "execution_count": 14,
   "id": "038fe315",
   "metadata": {
    "execution": {
     "iopub.execute_input": "2023-01-05T13:42:10.854043Z",
     "iopub.status.busy": "2023-01-05T13:42:10.853596Z",
     "iopub.status.idle": "2023-01-05T13:42:11.286024Z",
     "shell.execute_reply": "2023-01-05T13:42:11.284708Z"
    },
    "papermill": {
     "duration": 0.450823,
     "end_time": "2023-01-05T13:42:11.288726",
     "exception": false,
     "start_time": "2023-01-05T13:42:10.837903",
     "status": "completed"
    },
    "tags": []
   },
   "outputs": [
    {
     "name": "stdout",
     "output_type": "stream",
     "text": [
      "9.396423874415872 % \n",
      "\n"
     ]
    },
    {
     "data": {
      "image/png": "[encoded data removed]",
      "text/plain": [
       "<Figure size 360x360 with 1 Axes>"
      ]
     },
     "metadata": {
      "needs_background": "light"
     },
     "output_type": "display_data"
    }
   ],
   "source": [
    "# distribution of length_preperation of searches\n",
    "\n",
    "# percentage of dataset beyond 100 days\n",
    "distribution = searches[\"length_preperation\"] / np.timedelta64(1, 'D')\n",
    "print(len(distribution[distribution > 100]) / len(distribution)*100, '% \\n')\n",
    "\n",
    "# remove values beyond 100 days\n",
    "distribution = distribution[distribution < 100]\n",
    "\n",
    "# distribution plot of length_preperation column\n",
    "sns.displot(x=distribution, color='green')\n",
    "plt.show()"
   ]
  },
  {
   "cell_type": "markdown",
   "id": "22a60226",
   "metadata": {
    "papermill": {
     "duration": 0.015641,
     "end_time": "2023-01-05T13:42:11.319334",
     "exception": false,
     "start_time": "2023-01-05T13:42:11.303693",
     "status": "completed"
    },
    "tags": []
   },
   "source": [
    "100 days was chosen as the limit since only 9.40% of the dataset exists beyond that.\n",
    "\n",
    "Based on this data, around 37% of people search for a room within 2 weeks\n",
    "- 23.7% search for rooms within a week\n",
    "- 13.46% search for rooms between 1-2 weeks\n",
    "- 12.51% search for rooms between 2-3 weeks"
   ]
  },
  {
   "cell_type": "markdown",
   "id": "701d3d1e",
   "metadata": {
    "papermill": {
     "duration": 0.015154,
     "end_time": "2023-01-05T13:42:11.348887",
     "exception": false,
     "start_time": "2023-01-05T13:42:11.333733",
     "status": "completed"
    },
    "tags": []
   },
   "source": [
    "5) Let's find the distribution of the number of nights people want to stay."
   ]
  },
  {
   "cell_type": "code",
   "execution_count": 15,
   "id": "7991005c",
   "metadata": {
    "execution": {
     "iopub.execute_input": "2023-01-05T13:42:11.380250Z",
     "iopub.status.busy": "2023-01-05T13:42:11.379046Z",
     "iopub.status.idle": "2023-01-05T13:42:11.847159Z",
     "shell.execute_reply": "2023-01-05T13:42:11.846010Z"
    },
    "papermill": {
     "duration": 0.486352,
     "end_time": "2023-01-05T13:42:11.849610",
     "exception": false,
     "start_time": "2023-01-05T13:42:11.363258",
     "status": "completed"
    },
    "tags": []
   },
   "outputs": [
    {
     "name": "stdout",
     "output_type": "stream",
     "text": [
      "4.737387021854101 % \n",
      "\n"
     ]
    },
    {
     "data": {
      "image/png": "[encoded data removed]",
      "text/plain": [
       "<Figure size 360x360 with 1 Axes>"
      ]
     },
     "metadata": {
      "needs_background": "light"
     },
     "output_type": "display_data"
    }
   ],
   "source": [
    "# distribution of n_nights of searches\n",
    "\n",
    "# percentage of dataset beyond 20 nights\n",
    "print(len(searches[searches['n_nights'] > 20])/len(searches['n_nights'])*100, '% \\n')\n",
    "\n",
    "# remove n_nights beyond 20 days\n",
    "searches_within_twenty = searches[searches['n_nights'] < 20]\n",
    "\n",
    "# distribution plot of length_preperation column\n",
    "sns.displot(searches_within_twenty, x='n_nights', color = 'red')\n",
    "plt.show()"
   ]
  },
  {
   "cell_type": "markdown",
   "id": "63f54912",
   "metadata": {
    "papermill": {
     "duration": 0.014645,
     "end_time": "2023-01-05T13:42:11.880123",
     "exception": false,
     "start_time": "2023-01-05T13:42:11.865478",
     "status": "completed"
    },
    "tags": []
   },
   "source": [
    "Removing n_nights beyond 20 days since only 4.74% of the dataset exists beyond 20 days."
   ]
  },
  {
   "cell_type": "markdown",
   "id": "39373a63",
   "metadata": {
    "papermill": {
     "duration": 0.014179,
     "end_time": "2023-01-05T13:42:11.909771",
     "exception": false,
     "start_time": "2023-01-05T13:42:11.895592",
     "status": "completed"
    },
    "tags": []
   },
   "source": [
    "Around 70% of people want to stay between 1-4 days, mostly 2 or 3.\n",
    "\n",
    "People generally don’t want to stay for more than a week (only 15% want to stay more than a week)"
   ]
  },
  {
   "cell_type": "markdown",
   "id": "21be3291",
   "metadata": {
    "papermill": {
     "duration": 0.014,
     "end_time": "2023-01-05T13:42:11.938233",
     "exception": false,
     "start_time": "2023-01-05T13:42:11.924233",
     "status": "completed"
    },
    "tags": []
   },
   "source": [
    "<br>\n",
    "6) Let's calculate when people want to take a trip to Dublin.\n",
    "\n",
    "Use the check-in date to calculate this."
   ]
  },
  {
   "cell_type": "code",
   "execution_count": 16,
   "id": "4ce67f6d",
   "metadata": {
    "execution": {
     "iopub.execute_input": "2023-01-05T13:42:11.969802Z",
     "iopub.status.busy": "2023-01-05T13:42:11.969354Z",
     "iopub.status.idle": "2023-01-05T13:42:11.982993Z",
     "shell.execute_reply": "2023-01-05T13:42:11.982028Z"
    },
    "papermill": {
     "duration": 0.03245,
     "end_time": "2023-01-05T13:42:11.985313",
     "exception": false,
     "start_time": "2023-01-05T13:42:11.952863",
     "status": "completed"
    },
    "tags": []
   },
   "outputs": [
    {
     "data": {
      "text/plain": [
       "count    23888.000000\n",
       "mean         7.672765\n",
       "std         21.557614\n",
       "min          0.000000\n",
       "25%          2.000000\n",
       "50%          3.000000\n",
       "75%          5.000000\n",
       "max        399.000000\n",
       "Name: n_nights, dtype: float64"
      ]
     },
     "execution_count": 16,
     "metadata": {},
     "output_type": "execute_result"
    }
   ],
   "source": [
    "# 8 number summary of n_nights column\n",
    "searches['n_nights'].describe()"
   ]
  },
  {
   "cell_type": "code",
   "execution_count": 17,
   "id": "c2e5429e",
   "metadata": {
    "execution": {
     "iopub.execute_input": "2023-01-05T13:42:12.017601Z",
     "iopub.status.busy": "2023-01-05T13:42:12.016929Z",
     "iopub.status.idle": "2023-01-05T13:42:12.538435Z",
     "shell.execute_reply": "2023-01-05T13:42:12.537118Z"
    },
    "papermill": {
     "duration": 0.541086,
     "end_time": "2023-01-05T13:42:12.541211",
     "exception": false,
     "start_time": "2023-01-05T13:42:12.000125",
     "status": "completed"
    },
    "tags": []
   },
   "outputs": [
    {
     "data": {
      "image/png": "[encoded data removed]",
      "text/plain": [
       "<Figure size 360x360 with 1 Axes>"
      ]
     },
     "metadata": {
      "needs_background": "light"
     },
     "output_type": "display_data"
    }
   ],
   "source": [
    "# distribution of months of ds_checkin of searches\n",
    "checkin_month = pd.DatetimeIndex(searches['ds_checkin']).month\n",
    "\n",
    "# distribution plot of length_preperation column\n",
    "sns.displot(checkin_month, color = 'yellow')\n",
    "plt.show()"
   ]
  },
  {
   "cell_type": "markdown",
   "id": "ccb79e2c",
   "metadata": {
    "papermill": {
     "duration": 0.015242,
     "end_time": "2023-01-05T13:42:12.572292",
     "exception": false,
     "start_time": "2023-01-05T13:42:12.557050",
     "status": "completed"
    },
    "tags": []
   },
   "source": [
    "Used only the check-in month, cause checkout is usually within 5/6 days. The mean of `n_nights` after removing the upper outlier limit is 5.6, so assumed 5 or 6 days after the check-in date people usually checkout.\n",
    "\n",
    "83.74% of searches were in the October-December.\n",
    "\n",
    "Breakdown:\n",
    "- 45.05% in October\n",
    "- 26.1% in November\n",
    "- 12.6% in December"
   ]
  },
  {
   "cell_type": "markdown",
   "id": "965ccd04",
   "metadata": {
    "papermill": {
     "duration": 0.017022,
     "end_time": "2023-01-05T13:42:12.604902",
     "exception": false,
     "start_time": "2023-01-05T13:42:12.587880",
     "status": "completed"
    },
    "tags": []
   },
   "source": [
    "7) I want to understand which are the most common type of rooms searched for."
   ]
  },
  {
   "cell_type": "code",
   "execution_count": 18,
   "id": "8b567837",
   "metadata": {
    "execution": {
     "iopub.execute_input": "2023-01-05T13:42:12.639056Z",
     "iopub.status.busy": "2023-01-05T13:42:12.638612Z",
     "iopub.status.idle": "2023-01-05T13:42:12.648549Z",
     "shell.execute_reply": "2023-01-05T13:42:12.647225Z"
    },
    "papermill": {
     "duration": 0.029879,
     "end_time": "2023-01-05T13:42:12.651098",
     "exception": false,
     "start_time": "2023-01-05T13:42:12.621219",
     "status": "completed"
    },
    "tags": []
   },
   "outputs": [
    {
     "data": {
      "text/plain": [
       "array([',Entire home/apt,Entire home/apt,Private room,Private room', nan,\n",
       "       ',Entire home/apt',\n",
       "       'Entire home/apt,Entire home/apt,Private room,Private room',\n",
       "       'Entire home/apt', ',Shared room,Private room',\n",
       "       'Entire home/apt,Private room,Shared room,Private room,Shared room',\n",
       "       'Private room', 'Entire home/apt,Private room', ',Private room',\n",
       "       ',Entire home/apt,Private room',\n",
       "       ',Entire home/apt,Private room,Private room',\n",
       "       'Entire home/apt,Private room,Shared room',\n",
       "       ',Entire home/apt,Entire home/apt,Private room',\n",
       "       ',Entire home/apt,Entire home/apt,Shared room,Shared room'],\n",
       "      dtype=object)"
      ]
     },
     "execution_count": 18,
     "metadata": {},
     "output_type": "execute_result"
    }
   ],
   "source": [
    "# types of rooms searched for\n",
    "searches['filter_room_types'].unique()[0:15] # display first 15 unique values"
   ]
  },
  {
   "cell_type": "markdown",
   "id": "ece12c2a",
   "metadata": {
    "papermill": {
     "duration": 0.01513,
     "end_time": "2023-01-05T13:42:12.681686",
     "exception": false,
     "start_time": "2023-01-05T13:42:12.666556",
     "status": "completed"
    },
    "tags": []
   },
   "source": [
    "Most of the room types requested were entire home/apt and private rooms. Sometimes shared rooms. In the future, I can clean this column since most filter values are repeated within the same cell.\n",
    "\n",
    "On the Airbnb website, there are only 4 values in the type of place:\n",
    "- Entire Place\n",
    "- Private Room\n",
    "- Hotel Room\n",
    "- Shared Room\n",
    "\n",
    "I could also search how often these 4 strings occur."
   ]
  },
  {
   "cell_type": "markdown",
   "id": "3ac354a8",
   "metadata": {
    "papermill": {
     "duration": 0.014954,
     "end_time": "2023-01-05T13:42:12.712687",
     "exception": false,
     "start_time": "2023-01-05T13:42:12.697733",
     "status": "completed"
    },
    "tags": []
   },
   "source": [
    "8) The origin_country column  indicates which country the search came from. I can find the most common countries searched from."
   ]
  },
  {
   "cell_type": "code",
   "execution_count": 19,
   "id": "787ae624",
   "metadata": {
    "execution": {
     "iopub.execute_input": "2023-01-05T13:42:12.745206Z",
     "iopub.status.busy": "2023-01-05T13:42:12.744803Z",
     "iopub.status.idle": "2023-01-05T13:42:12.767594Z",
     "shell.execute_reply": "2023-01-05T13:42:12.766140Z"
    },
    "papermill": {
     "duration": 0.042326,
     "end_time": "2023-01-05T13:42:12.770338",
     "exception": false,
     "start_time": "2023-01-05T13:42:12.728012",
     "status": "completed"
    },
    "tags": []
   },
   "outputs": [
    {
     "data": {
      "text/html": [
       "<div>\n",
       "<style scoped>\n",
       "    .dataframe tbody tr th:only-of-type {\n",
       "        vertical-align: middle;\n",
       "    }\n",
       "\n",
       "    .dataframe tbody tr th {\n",
       "        vertical-align: top;\n",
       "    }\n",
       "\n",
       "    .dataframe thead th {\n",
       "        text-align: right;\n",
       "    }\n",
       "</style>\n",
       "<table border=\"1\" class=\"dataframe\">\n",
       "  <thead>\n",
       "    <tr style=\"text-align: right;\">\n",
       "      <th></th>\n",
       "      <th>count</th>\n",
       "    </tr>\n",
       "    <tr>\n",
       "      <th>origin_country</th>\n",
       "      <th></th>\n",
       "    </tr>\n",
       "  </thead>\n",
       "  <tbody>\n",
       "    <tr>\n",
       "      <th>IE</th>\n",
       "      <td>6608</td>\n",
       "    </tr>\n",
       "    <tr>\n",
       "      <th>US</th>\n",
       "      <td>5811</td>\n",
       "    </tr>\n",
       "    <tr>\n",
       "      <th>GB</th>\n",
       "      <td>4832</td>\n",
       "    </tr>\n",
       "    <tr>\n",
       "      <th>FR</th>\n",
       "      <td>3444</td>\n",
       "    </tr>\n",
       "    <tr>\n",
       "      <th>IT</th>\n",
       "      <td>2333</td>\n",
       "    </tr>\n",
       "    <tr>\n",
       "      <th>DE</th>\n",
       "      <td>2170</td>\n",
       "    </tr>\n",
       "    <tr>\n",
       "      <th>ES</th>\n",
       "      <td>1759</td>\n",
       "    </tr>\n",
       "    <tr>\n",
       "      <th>CA</th>\n",
       "      <td>1085</td>\n",
       "    </tr>\n",
       "    <tr>\n",
       "      <th>AU</th>\n",
       "      <td>962</td>\n",
       "    </tr>\n",
       "    <tr>\n",
       "      <th>NL</th>\n",
       "      <td>843</td>\n",
       "    </tr>\n",
       "    <tr>\n",
       "      <th>BR</th>\n",
       "      <td>636</td>\n",
       "    </tr>\n",
       "    <tr>\n",
       "      <th>CH</th>\n",
       "      <td>535</td>\n",
       "    </tr>\n",
       "    <tr>\n",
       "      <th>BE</th>\n",
       "      <td>386</td>\n",
       "    </tr>\n",
       "    <tr>\n",
       "      <th>AT</th>\n",
       "      <td>320</td>\n",
       "    </tr>\n",
       "    <tr>\n",
       "      <th>RU</th>\n",
       "      <td>274</td>\n",
       "    </tr>\n",
       "  </tbody>\n",
       "</table>\n",
       "</div>"
      ],
      "text/plain": [
       "                count\n",
       "origin_country       \n",
       "IE               6608\n",
       "US               5811\n",
       "GB               4832\n",
       "FR               3444\n",
       "IT               2333\n",
       "DE               2170\n",
       "ES               1759\n",
       "CA               1085\n",
       "AU                962\n",
       "NL                843\n",
       "BR                636\n",
       "CH                535\n",
       "BE                386\n",
       "AT                320\n",
       "RU                274"
      ]
     },
     "execution_count": 19,
     "metadata": {},
     "output_type": "execute_result"
    }
   ],
   "source": [
    "# find top 15 countries where searches originate from\n",
    "\n",
    "# group by origin country and finding the count of each country\n",
    "search_origin = searches.groupby(\"origin_country\").agg({'origin_country' : 'count'})\n",
    "search_origin.columns = ['count']\n",
    "\n",
    "search_origin = search_origin.sort_values('count', ascending = False) # sort count in descending order\n",
    "search_origin.nlargest(15, 'count') # find the 15 largest values"
   ]
  },
  {
   "cell_type": "markdown",
   "id": "0ff11299",
   "metadata": {
    "papermill": {
     "duration": 0.015396,
     "end_time": "2023-01-05T13:42:12.801708",
     "exception": false,
     "start_time": "2023-01-05T13:42:12.786312",
     "status": "completed"
    },
    "tags": []
   },
   "source": [
    "Ireland (IE), the United States (US), and Great Britain (GB) comprise 48% of searches. Dublin destinations could be promoted within these 3 countries more for the winter months."
   ]
  },
  {
   "cell_type": "markdown",
   "id": "281f1392",
   "metadata": {
    "papermill": {
     "duration": 0.015484,
     "end_time": "2023-01-05T13:42:12.832867",
     "exception": false,
     "start_time": "2023-01-05T13:42:12.817383",
     "status": "completed"
    },
    "tags": []
   },
   "source": [
    "# contacts Dataset"
   ]
  },
  {
   "cell_type": "code",
   "execution_count": 20,
   "id": "10c8728b",
   "metadata": {
    "execution": {
     "iopub.execute_input": "2023-01-05T13:42:12.866197Z",
     "iopub.status.busy": "2023-01-05T13:42:12.865383Z",
     "iopub.status.idle": "2023-01-05T13:42:12.881586Z",
     "shell.execute_reply": "2023-01-05T13:42:12.880532Z"
    },
    "papermill": {
     "duration": 0.036722,
     "end_time": "2023-01-05T13:42:12.885260",
     "exception": false,
     "start_time": "2023-01-05T13:42:12.848538",
     "status": "completed"
    },
    "tags": []
   },
   "outputs": [
    {
     "name": "stdout",
     "output_type": "stream",
     "text": [
      "<class 'pandas.core.frame.DataFrame'>\n",
      "RangeIndex: 7823 entries, 0 to 7822\n",
      "Data columns (total 11 columns):\n",
      " #   Column          Non-Null Count  Dtype \n",
      "---  ------          --------------  ----- \n",
      " 0   id_guest        7823 non-null   object\n",
      " 1   id_host         7823 non-null   object\n",
      " 2   id_listing      7823 non-null   object\n",
      " 3   ts_contact_at   7823 non-null   object\n",
      " 4   ts_reply_at     7219 non-null   object\n",
      " 5   ts_accepted_at  3627 non-null   object\n",
      " 6   ts_booking_at   2174 non-null   object\n",
      " 7   ds_checkin      7823 non-null   object\n",
      " 8   ds_checkout     7823 non-null   object\n",
      " 9   n_guests        7823 non-null   int64 \n",
      " 10  n_messages      7823 non-null   int64 \n",
      "dtypes: int64(2), object(9)\n",
      "memory usage: 672.4+ KB\n"
     ]
    }
   ],
   "source": [
    "# datatypes of contacts dataset\n",
    "contacts.info()"
   ]
  },
  {
   "cell_type": "code",
   "execution_count": 21,
   "id": "58b9f3cd",
   "metadata": {
    "execution": {
     "iopub.execute_input": "2023-01-05T13:42:12.921091Z",
     "iopub.status.busy": "2023-01-05T13:42:12.920678Z",
     "iopub.status.idle": "2023-01-05T13:42:12.975417Z",
     "shell.execute_reply": "2023-01-05T13:42:12.974236Z"
    },
    "papermill": {
     "duration": 0.075698,
     "end_time": "2023-01-05T13:42:12.978074",
     "exception": false,
     "start_time": "2023-01-05T13:42:12.902376",
     "status": "completed"
    },
    "tags": []
   },
   "outputs": [
    {
     "data": {
      "text/plain": [
       "id_guest                   object\n",
       "id_host                    object\n",
       "id_listing                 object\n",
       "ts_contact_at      datetime64[ns]\n",
       "ts_reply_at        datetime64[ns]\n",
       "ts_accepted_at     datetime64[ns]\n",
       "ts_booking_at      datetime64[ns]\n",
       "ds_checkin         datetime64[ns]\n",
       "ds_checkout        datetime64[ns]\n",
       "n_guests                    int64\n",
       "n_messages                  int64\n",
       "accepted                     bool\n",
       "length_stay       timedelta64[ns]\n",
       "dtype: object"
      ]
     },
     "metadata": {},
     "output_type": "display_data"
    },
    {
     "data": {
      "text/html": [
       "<div>\n",
       "<style scoped>\n",
       "    .dataframe tbody tr th:only-of-type {\n",
       "        vertical-align: middle;\n",
       "    }\n",
       "\n",
       "    .dataframe tbody tr th {\n",
       "        vertical-align: top;\n",
       "    }\n",
       "\n",
       "    .dataframe thead th {\n",
       "        text-align: right;\n",
       "    }\n",
       "</style>\n",
       "<table border=\"1\" class=\"dataframe\">\n",
       "  <thead>\n",
       "    <tr style=\"text-align: right;\">\n",
       "      <th></th>\n",
       "      <th>n_guests</th>\n",
       "      <th>n_messages</th>\n",
       "      <th>length_stay</th>\n",
       "    </tr>\n",
       "  </thead>\n",
       "  <tbody>\n",
       "    <tr>\n",
       "      <th>count</th>\n",
       "      <td>7823.000000</td>\n",
       "      <td>7823.000000</td>\n",
       "      <td>7823</td>\n",
       "    </tr>\n",
       "    <tr>\n",
       "      <th>mean</th>\n",
       "      <td>2.422600</td>\n",
       "      <td>6.319954</td>\n",
       "      <td>5 days 19:25:32.864629937</td>\n",
       "    </tr>\n",
       "    <tr>\n",
       "      <th>std</th>\n",
       "      <td>1.617347</td>\n",
       "      <td>6.472827</td>\n",
       "      <td>14 days 23:45:24.447710564</td>\n",
       "    </tr>\n",
       "    <tr>\n",
       "      <th>min</th>\n",
       "      <td>1.000000</td>\n",
       "      <td>1.000000</td>\n",
       "      <td>1 days 00:00:00</td>\n",
       "    </tr>\n",
       "    <tr>\n",
       "      <th>25%</th>\n",
       "      <td>1.000000</td>\n",
       "      <td>2.000000</td>\n",
       "      <td>2 days 00:00:00</td>\n",
       "    </tr>\n",
       "    <tr>\n",
       "      <th>50%</th>\n",
       "      <td>2.000000</td>\n",
       "      <td>4.000000</td>\n",
       "      <td>3 days 00:00:00</td>\n",
       "    </tr>\n",
       "    <tr>\n",
       "      <th>75%</th>\n",
       "      <td>3.000000</td>\n",
       "      <td>8.000000</td>\n",
       "      <td>5 days 00:00:00</td>\n",
       "    </tr>\n",
       "    <tr>\n",
       "      <th>max</th>\n",
       "      <td>16.000000</td>\n",
       "      <td>102.000000</td>\n",
       "      <td>334 days 00:00:00</td>\n",
       "    </tr>\n",
       "  </tbody>\n",
       "</table>\n",
       "</div>"
      ],
      "text/plain": [
       "          n_guests   n_messages                 length_stay\n",
       "count  7823.000000  7823.000000                        7823\n",
       "mean      2.422600     6.319954   5 days 19:25:32.864629937\n",
       "std       1.617347     6.472827  14 days 23:45:24.447710564\n",
       "min       1.000000     1.000000             1 days 00:00:00\n",
       "25%       1.000000     2.000000             2 days 00:00:00\n",
       "50%       2.000000     4.000000             3 days 00:00:00\n",
       "75%       3.000000     8.000000             5 days 00:00:00\n",
       "max      16.000000   102.000000           334 days 00:00:00"
      ]
     },
     "metadata": {},
     "output_type": "display_data"
    }
   ],
   "source": [
    "# manipulation of contacts dataset\n",
    "\n",
    "# convert date columns to datetime data type \n",
    "contacts['ts_contact_at'] = pd.to_datetime(contacts['ts_contact_at'])\n",
    "contacts['ts_reply_at'] = pd.to_datetime(contacts['ts_reply_at'])\n",
    "contacts['ts_accepted_at'] = pd.to_datetime(contacts['ts_accepted_at'])\n",
    "contacts['ts_booking_at'] = pd.to_datetime(contacts['ts_booking_at'])\n",
    "contacts['ds_checkin'] = pd.to_datetime(contacts['ds_checkin'])\n",
    "contacts['ds_checkout'] = pd.to_datetime(contacts['ds_checkout'])\n",
    "\n",
    "contacts['accepted'] = np.where(np.isnan(contacts['ts_accepted_at']), False, True)\n",
    "\n",
    "contacts['length_stay'] = contacts['ds_checkout'] - contacts['ds_checkin']\n",
    "\n",
    "# understand dataset with describe function\n",
    "display(contacts.dtypes)\n",
    "display(contacts.describe())"
   ]
  },
  {
   "cell_type": "code",
   "execution_count": 22,
   "id": "ea6fa420",
   "metadata": {
    "execution": {
     "iopub.execute_input": "2023-01-05T13:42:13.013291Z",
     "iopub.status.busy": "2023-01-05T13:42:13.012897Z",
     "iopub.status.idle": "2023-01-05T13:42:13.022645Z",
     "shell.execute_reply": "2023-01-05T13:42:13.021787Z"
    },
    "papermill": {
     "duration": 0.029908,
     "end_time": "2023-01-05T13:42:13.024969",
     "exception": false,
     "start_time": "2023-01-05T13:42:12.995061",
     "status": "completed"
    },
    "tags": []
   },
   "outputs": [
    {
     "data": {
      "text/plain": [
       "n_guests      2.441468\n",
       "n_messages    3.696440\n",
       "accepted      0.145883\n",
       "dtype: float64"
      ]
     },
     "metadata": {},
     "output_type": "display_data"
    }
   ],
   "source": [
    "# calculate skewness in contacts dataset\n",
    "display(contacts.skew(axis=0, numeric_only=True, skipna=True))"
   ]
  },
  {
   "cell_type": "markdown",
   "id": "838f02bc",
   "metadata": {
    "papermill": {
     "duration": 0.017113,
     "end_time": "2023-01-05T13:42:13.058530",
     "exception": false,
     "start_time": "2023-01-05T13:42:13.041417",
     "status": "completed"
    },
    "tags": []
   },
   "source": [
    "All columns have a Fisher-Pearson coefficient value greater than 1. Except for accepted, which could be due to it being derived from an existing column. \n",
    "\n",
    "Can experiment with box-cox transformation, a type of transformation method, to reduce skewness in the future. The criteria is that the data has to be positive. \n",
    "\n",
    "For my info: Another transformation method is the Square Root Transform."
   ]
  },
  {
   "cell_type": "markdown",
   "id": "a70b934f",
   "metadata": {
    "papermill": {
     "duration": 0.016627,
     "end_time": "2023-01-05T13:42:13.091953",
     "exception": false,
     "start_time": "2023-01-05T13:42:13.075326",
     "status": "completed"
    },
    "tags": []
   },
   "source": [
    "<br>\n",
    "1) Finding the distribution of the number of the guests staying.\n",
    "\n",
    "This would be useful in comparing how many guests were searched for vs how many guests the room was booked for."
   ]
  },
  {
   "cell_type": "code",
   "execution_count": 23,
   "id": "82f654e0",
   "metadata": {
    "execution": {
     "iopub.execute_input": "2023-01-05T13:42:13.127741Z",
     "iopub.status.busy": "2023-01-05T13:42:13.127068Z",
     "iopub.status.idle": "2023-01-05T13:42:13.665360Z",
     "shell.execute_reply": "2023-01-05T13:42:13.664045Z"
    },
    "papermill": {
     "duration": 0.55992,
     "end_time": "2023-01-05T13:42:13.668142",
     "exception": false,
     "start_time": "2023-01-05T13:42:13.108222",
     "status": "completed"
    },
    "tags": []
   },
   "outputs": [
    {
     "name": "stdout",
     "output_type": "stream",
     "text": [
      "1.4572414674677232 % \n",
      "\n"
     ]
    },
    {
     "data": {
      "image/png": "[encoded data removed]",
      "text/plain": [
       "<Figure size 421.25x360 with 1 Axes>"
      ]
     },
     "metadata": {
      "needs_background": "light"
     },
     "output_type": "display_data"
    }
   ],
   "source": [
    "# number of guests stayed\n",
    "print(len(contacts[contacts['n_guests'] >= 8])/len(contacts['n_guests'])*100, '% \\n')\n",
    "\n",
    "contacts_less8 = contacts[contacts['n_guests'] < 8]\n",
    "sns.displot(contacts_less8, x='n_guests', hue='accepted', multiple=\"dodge\")\n",
    "plt.show()"
   ]
  },
  {
   "cell_type": "markdown",
   "id": "ab956e9b",
   "metadata": {
    "papermill": {
     "duration": 0.016825,
     "end_time": "2023-01-05T13:42:13.701755",
     "exception": false,
     "start_time": "2023-01-05T13:42:13.684930",
     "status": "completed"
    },
    "tags": []
   },
   "source": [
    "Choosing less than 8 guests, since only 1.46% (114 values) of the contacts dataset has 8 or more guests. To better visualize the majority distribution we removed rows with 8 or more guests.\n",
    "\n",
    "2 guests is the most popular option to book, but 1 guest is the most popularly searched option (as observed from the search dataset). This leads me to believe there could potentially be a lack of supply of single guest rooms."
   ]
  },
  {
   "cell_type": "code",
   "execution_count": 24,
   "id": "8d7f464a",
   "metadata": {
    "execution": {
     "iopub.execute_input": "2023-01-05T13:42:13.737243Z",
     "iopub.status.busy": "2023-01-05T13:42:13.736816Z",
     "iopub.status.idle": "2023-01-05T13:42:13.745226Z",
     "shell.execute_reply": "2023-01-05T13:42:13.744055Z"
    },
    "papermill": {
     "duration": 0.029211,
     "end_time": "2023-01-05T13:42:13.748123",
     "exception": false,
     "start_time": "2023-01-05T13:42:13.718912",
     "status": "completed"
    },
    "tags": []
   },
   "outputs": [
    {
     "data": {
      "text/plain": [
       "0.5993934381031155"
      ]
     },
     "execution_count": 24,
     "metadata": {},
     "output_type": "execute_result"
    }
   ],
   "source": [
    "# conversion rate from accepting to booking\n",
    "contacts['ts_booking_at'].count() / contacts['ts_accepted_at'].count()"
   ]
  },
  {
   "cell_type": "markdown",
   "id": "d7d16e58",
   "metadata": {
    "papermill": {
     "duration": 0.017496,
     "end_time": "2023-01-05T13:42:13.782796",
     "exception": false,
     "start_time": "2023-01-05T13:42:13.765300",
     "status": "completed"
    },
    "tags": []
   },
   "source": [
    "As seen from the search dataset during the common check-in dates, the popular dates are October-December.\n",
    "\n",
    "2) I want to find out if there happen to be major difference between people rejected vs accepted."
   ]
  },
  {
   "cell_type": "code",
   "execution_count": 25,
   "id": "5dabd74c",
   "metadata": {
    "execution": {
     "iopub.execute_input": "2023-01-05T13:42:13.819595Z",
     "iopub.status.busy": "2023-01-05T13:42:13.819183Z",
     "iopub.status.idle": "2023-01-05T13:42:14.266353Z",
     "shell.execute_reply": "2023-01-05T13:42:14.265064Z"
    },
    "papermill": {
     "duration": 0.46845,
     "end_time": "2023-01-05T13:42:14.269049",
     "exception": false,
     "start_time": "2023-01-05T13:42:13.800599",
     "status": "completed"
    },
    "tags": []
   },
   "outputs": [
    {
     "data": {
      "image/png": "[encoded data removed]",
      "text/plain": [
       "<Figure size 421.25x360 with 1 Axes>"
      ]
     },
     "metadata": {
      "needs_background": "light"
     },
     "output_type": "display_data"
    }
   ],
   "source": [
    "# timeframe of when guests or accepted vs rejected\n",
    "contacts['month_checkin'] = contacts['ds_checkin'].dt.month # extract month from checkin date\n",
    "contacts_checkin = contacts[contacts['month_checkin'] > 9] # use only peak season months (Oct, Nov, Dec)\n",
    "\n",
    "# distribution of checkin among October, November, and December and split by acceptance\n",
    "sns.displot(contacts_checkin, x='month_checkin', hue='accepted', multiple=\"dodge\")\n",
    "plt.xticks([10, 11, 12])\n",
    "plt.show()"
   ]
  },
  {
   "cell_type": "markdown",
   "id": "e9e264c2",
   "metadata": {
    "papermill": {
     "duration": 0.017456,
     "end_time": "2023-01-05T13:42:14.303972",
     "exception": false,
     "start_time": "2023-01-05T13:42:14.286516",
     "status": "completed"
    },
    "tags": []
   },
   "source": [
    "There does not appear to be any major variation between accepted vs rejected users."
   ]
  },
  {
   "cell_type": "code",
   "execution_count": 26,
   "id": "886c991a",
   "metadata": {
    "execution": {
     "iopub.execute_input": "2023-01-05T13:42:14.340964Z",
     "iopub.status.busy": "2023-01-05T13:42:14.340185Z",
     "iopub.status.idle": "2023-01-05T13:42:14.388569Z",
     "shell.execute_reply": "2023-01-05T13:42:14.386638Z"
    },
    "papermill": {
     "duration": 0.070133,
     "end_time": "2023-01-05T13:42:14.392001",
     "exception": false,
     "start_time": "2023-01-05T13:42:14.321868",
     "status": "completed"
    },
    "tags": []
   },
   "outputs": [],
   "source": [
    "# merge datasets for more analysis\n",
    "merged_datasets = contacts.merge(searches, left_on='id_guest', right_on='id_user')"
   ]
  },
  {
   "cell_type": "code",
   "execution_count": 27,
   "id": "7955dea6",
   "metadata": {
    "execution": {
     "iopub.execute_input": "2023-01-05T13:42:14.429857Z",
     "iopub.status.busy": "2023-01-05T13:42:14.429388Z",
     "iopub.status.idle": "2023-01-05T13:42:15.150137Z",
     "shell.execute_reply": "2023-01-05T13:42:15.148966Z"
    },
    "papermill": {
     "duration": 0.742472,
     "end_time": "2023-01-05T13:42:15.152503",
     "exception": false,
     "start_time": "2023-01-05T13:42:14.410031",
     "status": "completed"
    },
    "tags": []
   },
   "outputs": [
    {
     "name": "stdout",
     "output_type": "stream",
     "text": [
      "6.335856462012895 % \n",
      "\n"
     ]
    },
    {
     "data": {
      "image/png": "[encoded data removed]",
      "text/plain": [
       "<Figure size 421.25x360 with 1 Axes>"
      ]
     },
     "metadata": {
      "needs_background": "light"
     },
     "output_type": "display_data"
    }
   ],
   "source": [
    "# check difference between prices searched between accepted/rejected applicants\n",
    "print(len(merged_datasets.loc[(merged_datasets['filter_price_max'] >= 600)])/len(merged_datasets['filter_price_max'])*100, \n",
    "      '% \\n')\n",
    "\n",
    "merged_pricemax_filter = merged_datasets.loc[(merged_datasets['filter_price_max'] <= 600)]\n",
    "\n",
    "sns.displot(merged_pricemax_filter, x=\"filter_price_max\", hue=\"accepted\", multiple=\"dodge\")\n",
    "plt.show()"
   ]
  },
  {
   "cell_type": "markdown",
   "id": "64e3c0bb",
   "metadata": {
    "papermill": {
     "duration": 0.016888,
     "end_time": "2023-01-05T13:42:15.187605",
     "exception": false,
     "start_time": "2023-01-05T13:42:15.170717",
     "status": "completed"
    },
    "tags": []
   },
   "source": [
    "To further help better visualize the trend we set the filter price max as less or equal to 600. 600 was chosen as the limit since only 6.33% of the dataset has values greater than 600."
   ]
  },
  {
   "cell_type": "code",
   "execution_count": 28,
   "id": "a91b87ba",
   "metadata": {
    "execution": {
     "iopub.execute_input": "2023-01-05T13:42:15.225570Z",
     "iopub.status.busy": "2023-01-05T13:42:15.225175Z",
     "iopub.status.idle": "2023-01-05T13:42:17.978469Z",
     "shell.execute_reply": "2023-01-05T13:42:17.977234Z"
    },
    "papermill": {
     "duration": 2.775073,
     "end_time": "2023-01-05T13:42:17.981142",
     "exception": false,
     "start_time": "2023-01-05T13:42:15.206069",
     "status": "completed"
    },
    "tags": []
   },
   "outputs": [
    {
     "data": {
      "text/html": [
       "<div>\n",
       "<style scoped>\n",
       "    .dataframe tbody tr th:only-of-type {\n",
       "        vertical-align: middle;\n",
       "    }\n",
       "\n",
       "    .dataframe tbody tr th {\n",
       "        vertical-align: top;\n",
       "    }\n",
       "\n",
       "    .dataframe thead th {\n",
       "        text-align: right;\n",
       "    }\n",
       "</style>\n",
       "<table border=\"1\" class=\"dataframe\">\n",
       "  <thead>\n",
       "    <tr style=\"text-align: right;\">\n",
       "      <th></th>\n",
       "      <th>accepted</th>\n",
       "    </tr>\n",
       "    <tr>\n",
       "      <th>classification_max_price</th>\n",
       "      <th></th>\n",
       "    </tr>\n",
       "  </thead>\n",
       "  <tbody>\n",
       "    <tr>\n",
       "      <th>0-100</th>\n",
       "      <td>0.411160</td>\n",
       "    </tr>\n",
       "    <tr>\n",
       "      <th>100-200</th>\n",
       "      <td>0.430308</td>\n",
       "    </tr>\n",
       "    <tr>\n",
       "      <th>200-300</th>\n",
       "      <td>0.431149</td>\n",
       "    </tr>\n",
       "    <tr>\n",
       "      <th>300-400</th>\n",
       "      <td>0.450488</td>\n",
       "    </tr>\n",
       "    <tr>\n",
       "      <th>400-500</th>\n",
       "      <td>0.485549</td>\n",
       "    </tr>\n",
       "    <tr>\n",
       "      <th>500-600</th>\n",
       "      <td>0.422297</td>\n",
       "    </tr>\n",
       "    <tr>\n",
       "      <th>600+</th>\n",
       "      <td>0.433122</td>\n",
       "    </tr>\n",
       "  </tbody>\n",
       "</table>\n",
       "</div>"
      ],
      "text/plain": [
       "                          accepted\n",
       "classification_max_price          \n",
       "0-100                     0.411160\n",
       "100-200                   0.430308\n",
       "200-300                   0.431149\n",
       "300-400                   0.450488\n",
       "400-500                   0.485549\n",
       "500-600                   0.422297\n",
       "600+                      0.433122"
      ]
     },
     "execution_count": 28,
     "metadata": {},
     "output_type": "execute_result"
    }
   ],
   "source": [
    "# classify dataset based on filter_price_max\n",
    "\n",
    "def label_price (row):\n",
    "    if (row['filter_price_max'] >= 0) & (row['filter_price_max'] < 100):\n",
    "        return '0-100'\n",
    "    \n",
    "    elif (row['filter_price_max'] >= 100) & (row['filter_price_max'] < 200):\n",
    "        return '100-200'\n",
    "\n",
    "    elif (row['filter_price_max'] >= 200) & (row['filter_price_max'] < 300):\n",
    "        return '200-300'\n",
    "    \n",
    "    elif (row['filter_price_max'] >= 300) & (row['filter_price_max'] < 400):\n",
    "        return '300-400'\n",
    "\n",
    "    elif (row['filter_price_max'] >= 400) & (row['filter_price_max'] < 500):\n",
    "        return '400-500'\n",
    "    \n",
    "    elif (row['filter_price_max'] >= 500) & (row['filter_price_max'] < 600):\n",
    "        return '500-600'\n",
    "    \n",
    "    else:\n",
    "        return '600+'\n",
    "\n",
    "merged_datasets['classification_max_price'] = merged_datasets.apply(lambda row: label_price(row), axis=1)\n",
    "\n",
    "merged_datasets.groupby('classification_max_price').agg({'accepted': 'mean'})"
   ]
  },
  {
   "cell_type": "markdown",
   "id": "f5c6221c",
   "metadata": {
    "papermill": {
     "duration": 0.017986,
     "end_time": "2023-01-05T13:42:18.017503",
     "exception": false,
     "start_time": "2023-01-05T13:42:17.999517",
     "status": "completed"
    },
    "tags": []
   },
   "source": [
    "As seen, more people are rejected compared than accepted at around 43% acceptance rate for all `filter_price_max`."
   ]
  },
  {
   "cell_type": "markdown",
   "id": "a727cc67",
   "metadata": {
    "papermill": {
     "duration": 0.017376,
     "end_time": "2023-01-05T13:42:18.052736",
     "exception": false,
     "start_time": "2023-01-05T13:42:18.035360",
     "status": "completed"
    },
    "tags": []
   },
   "source": [
    "<br>\n",
    "I wanted to find out of there are any differences in the acceptance rate by the country of origon of the potential guests. "
   ]
  },
  {
   "cell_type": "code",
   "execution_count": 29,
   "id": "271d7a9d",
   "metadata": {
    "execution": {
     "iopub.execute_input": "2023-01-05T13:42:18.090231Z",
     "iopub.status.busy": "2023-01-05T13:42:18.089835Z",
     "iopub.status.idle": "2023-01-05T13:42:18.152694Z",
     "shell.execute_reply": "2023-01-05T13:42:18.151464Z"
    },
    "papermill": {
     "duration": 0.084446,
     "end_time": "2023-01-05T13:42:18.155247",
     "exception": false,
     "start_time": "2023-01-05T13:42:18.070801",
     "status": "completed"
    },
    "tags": []
   },
   "outputs": [
    {
     "data": {
      "text/html": [
       "<div>\n",
       "<style scoped>\n",
       "    .dataframe tbody tr th:only-of-type {\n",
       "        vertical-align: middle;\n",
       "    }\n",
       "\n",
       "    .dataframe tbody tr th {\n",
       "        vertical-align: top;\n",
       "    }\n",
       "\n",
       "    .dataframe thead th {\n",
       "        text-align: right;\n",
       "    }\n",
       "</style>\n",
       "<table border=\"1\" class=\"dataframe\">\n",
       "  <thead>\n",
       "    <tr style=\"text-align: right;\">\n",
       "      <th></th>\n",
       "      <th>origin_country</th>\n",
       "      <th>accepted</th>\n",
       "      <th>count_accepted</th>\n",
       "      <th>count_country</th>\n",
       "      <th>acceptance_rate</th>\n",
       "    </tr>\n",
       "  </thead>\n",
       "  <tbody>\n",
       "    <tr>\n",
       "      <th>73</th>\n",
       "      <td>IN</td>\n",
       "      <td>True</td>\n",
       "      <td>138</td>\n",
       "      <td>874</td>\n",
       "      <td>0.157895</td>\n",
       "    </tr>\n",
       "    <tr>\n",
       "      <th>55</th>\n",
       "      <td>HR</td>\n",
       "      <td>True</td>\n",
       "      <td>159</td>\n",
       "      <td>530</td>\n",
       "      <td>0.300000</td>\n",
       "    </tr>\n",
       "    <tr>\n",
       "      <th>72</th>\n",
       "      <td>AT</td>\n",
       "      <td>True</td>\n",
       "      <td>83</td>\n",
       "      <td>239</td>\n",
       "      <td>0.347280</td>\n",
       "    </tr>\n",
       "    <tr>\n",
       "      <th>54</th>\n",
       "      <td>RU</td>\n",
       "      <td>True</td>\n",
       "      <td>83</td>\n",
       "      <td>239</td>\n",
       "      <td>0.347280</td>\n",
       "    </tr>\n",
       "    <tr>\n",
       "      <th>11</th>\n",
       "      <td>IT</td>\n",
       "      <td>True</td>\n",
       "      <td>1183</td>\n",
       "      <td>3137</td>\n",
       "      <td>0.377112</td>\n",
       "    </tr>\n",
       "    <tr>\n",
       "      <th>100</th>\n",
       "      <td>AE</td>\n",
       "      <td>True</td>\n",
       "      <td>59</td>\n",
       "      <td>154</td>\n",
       "      <td>0.383117</td>\n",
       "    </tr>\n",
       "    <tr>\n",
       "      <th>0</th>\n",
       "      <td>CA</td>\n",
       "      <td>True</td>\n",
       "      <td>407</td>\n",
       "      <td>993</td>\n",
       "      <td>0.409869</td>\n",
       "    </tr>\n",
       "    <tr>\n",
       "      <th>13</th>\n",
       "      <td>IE</td>\n",
       "      <td>True</td>\n",
       "      <td>1217</td>\n",
       "      <td>2951</td>\n",
       "      <td>0.412403</td>\n",
       "    </tr>\n",
       "    <tr>\n",
       "      <th>24</th>\n",
       "      <td>ES</td>\n",
       "      <td>True</td>\n",
       "      <td>794</td>\n",
       "      <td>1914</td>\n",
       "      <td>0.414838</td>\n",
       "    </tr>\n",
       "    <tr>\n",
       "      <th>49</th>\n",
       "      <td>RO</td>\n",
       "      <td>True</td>\n",
       "      <td>50</td>\n",
       "      <td>118</td>\n",
       "      <td>0.423729</td>\n",
       "    </tr>\n",
       "    <tr>\n",
       "      <th>78</th>\n",
       "      <td>CR</td>\n",
       "      <td>True</td>\n",
       "      <td>82</td>\n",
       "      <td>188</td>\n",
       "      <td>0.436170</td>\n",
       "    </tr>\n",
       "    <tr>\n",
       "      <th>6</th>\n",
       "      <td>GB</td>\n",
       "      <td>True</td>\n",
       "      <td>1610</td>\n",
       "      <td>3667</td>\n",
       "      <td>0.439051</td>\n",
       "    </tr>\n",
       "    <tr>\n",
       "      <th>25</th>\n",
       "      <td>BE</td>\n",
       "      <td>True</td>\n",
       "      <td>134</td>\n",
       "      <td>304</td>\n",
       "      <td>0.440789</td>\n",
       "    </tr>\n",
       "    <tr>\n",
       "      <th>38</th>\n",
       "      <td>BR</td>\n",
       "      <td>True</td>\n",
       "      <td>215</td>\n",
       "      <td>482</td>\n",
       "      <td>0.446058</td>\n",
       "    </tr>\n",
       "    <tr>\n",
       "      <th>27</th>\n",
       "      <td>AU</td>\n",
       "      <td>True</td>\n",
       "      <td>268</td>\n",
       "      <td>590</td>\n",
       "      <td>0.454237</td>\n",
       "    </tr>\n",
       "    <tr>\n",
       "      <th>17</th>\n",
       "      <td>FR</td>\n",
       "      <td>True</td>\n",
       "      <td>1526</td>\n",
       "      <td>3232</td>\n",
       "      <td>0.472153</td>\n",
       "    </tr>\n",
       "    <tr>\n",
       "      <th>12</th>\n",
       "      <td>CH</td>\n",
       "      <td>True</td>\n",
       "      <td>279</td>\n",
       "      <td>585</td>\n",
       "      <td>0.476923</td>\n",
       "    </tr>\n",
       "    <tr>\n",
       "      <th>7</th>\n",
       "      <td>US</td>\n",
       "      <td>True</td>\n",
       "      <td>2050</td>\n",
       "      <td>4298</td>\n",
       "      <td>0.476966</td>\n",
       "    </tr>\n",
       "    <tr>\n",
       "      <th>14</th>\n",
       "      <td>DE</td>\n",
       "      <td>True</td>\n",
       "      <td>745</td>\n",
       "      <td>1535</td>\n",
       "      <td>0.485342</td>\n",
       "    </tr>\n",
       "    <tr>\n",
       "      <th>31</th>\n",
       "      <td>NL</td>\n",
       "      <td>True</td>\n",
       "      <td>212</td>\n",
       "      <td>433</td>\n",
       "      <td>0.489607</td>\n",
       "    </tr>\n",
       "    <tr>\n",
       "      <th>46</th>\n",
       "      <td>SG</td>\n",
       "      <td>True</td>\n",
       "      <td>115</td>\n",
       "      <td>232</td>\n",
       "      <td>0.495690</td>\n",
       "    </tr>\n",
       "    <tr>\n",
       "      <th>65</th>\n",
       "      <td>PT</td>\n",
       "      <td>True</td>\n",
       "      <td>101</td>\n",
       "      <td>203</td>\n",
       "      <td>0.497537</td>\n",
       "    </tr>\n",
       "    <tr>\n",
       "      <th>1</th>\n",
       "      <td>DK</td>\n",
       "      <td>True</td>\n",
       "      <td>86</td>\n",
       "      <td>125</td>\n",
       "      <td>0.688000</td>\n",
       "    </tr>\n",
       "  </tbody>\n",
       "</table>\n",
       "</div>"
      ],
      "text/plain": [
       "    origin_country accepted  count_accepted  count_country  acceptance_rate\n",
       "73              IN     True             138            874         0.157895\n",
       "55              HR     True             159            530         0.300000\n",
       "72              AT     True              83            239         0.347280\n",
       "54              RU     True              83            239         0.347280\n",
       "11              IT     True            1183           3137         0.377112\n",
       "100             AE     True              59            154         0.383117\n",
       "0               CA     True             407            993         0.409869\n",
       "13              IE     True            1217           2951         0.412403\n",
       "24              ES     True             794           1914         0.414838\n",
       "49              RO     True              50            118         0.423729\n",
       "78              CR     True              82            188         0.436170\n",
       "6               GB     True            1610           3667         0.439051\n",
       "25              BE     True             134            304         0.440789\n",
       "38              BR     True             215            482         0.446058\n",
       "27              AU     True             268            590         0.454237\n",
       "17              FR     True            1526           3232         0.472153\n",
       "12              CH     True             279            585         0.476923\n",
       "7               US     True            2050           4298         0.476966\n",
       "14              DE     True             745           1535         0.485342\n",
       "31              NL     True             212            433         0.489607\n",
       "46              SG     True             115            232         0.495690\n",
       "65              PT     True             101            203         0.497537\n",
       "1               DK     True              86            125         0.688000"
      ]
     },
     "execution_count": 29,
     "metadata": {},
     "output_type": "execute_result"
    }
   ],
   "source": [
    "# find the acceptance rate by country\n",
    "dataset_country = merged_datasets[['origin_country', 'accepted']]\n",
    "\n",
    "# find acceptance count by country and accepted\n",
    "accepted_count = dataset_country.groupby(['origin_country', 'accepted']).agg({'origin_country':'count'})\n",
    "accepted_count.columns = ['count_accepted']\n",
    "\n",
    "# find acceptance count by country\n",
    "country_count = dataset_country.groupby(['origin_country']).agg({'origin_country':'count'})\n",
    "country_count.columns = ['count_country']\n",
    "\n",
    "# merge datasets for easier manipulation \n",
    "acceptance_country = pd.merge(dataset_country, accepted_count,  how='left', on=['origin_country','accepted']) # merge accepted count\n",
    "acceptance_country = acceptance_country.drop_duplicates()\n",
    "\n",
    "acceptance_country = pd.merge(acceptance_country, country_count, how='left', on=['origin_country']) # merge total country count\n",
    "acceptance_country = acceptance_country.sort_values(['count_country', 'accepted'], ascending = [False, True])\n",
    "acceptance_country = acceptance_country[acceptance_country['count_country'] >= 100] # 100 is used so there is a good amount of data to make assumptions\n",
    "acceptance_country = acceptance_country[acceptance_country['accepted'] == True]\n",
    "\n",
    "# divide count_accepted column by count_country column to find acceptance rate by country\n",
    "acceptance_country['acceptance_rate'] = acceptance_country['count_accepted']/acceptance_country['count_country']\n",
    "acceptance_country.sort_values(['acceptance_rate'], ascending = True)"
   ]
  },
  {
   "cell_type": "markdown",
   "id": "352d5241",
   "metadata": {
    "papermill": {
     "duration": 0.018264,
     "end_time": "2023-01-05T13:42:18.191565",
     "exception": false,
     "start_time": "2023-01-05T13:42:18.173301",
     "status": "completed"
    },
    "tags": []
   },
   "source": [
    "India (IN) has the lowest acceptance rate of 15%, which is half of the acceptance rate compared to the second lowest accepted country, Croatia (HR).\n",
    "\n",
    "Denmark (DK) has the highest acceptance rate but low application numbers. Might want to consider increasing marketing to lead to higher demand. "
   ]
  }
 ],
 "metadata": {
  "kernelspec": {
   "display_name": "Python 3",
   "language": "python",
   "name": "python3"
  },
  "language_info": {
   "codemirror_mode": {
    "name": "ipython",
    "version": 3
   },
   "file_extension": ".py",
   "mimetype": "text/x-python",
   "name": "python",
   "nbconvert_exporter": "python",
   "pygments_lexer": "ipython3",
   "version": "3.7.12"
  },
  "papermill": {
   "default_parameters": {},
   "duration": 22.017375,
   "end_time": "2023-01-05T13:42:19.033383",
   "environment_variables": {},
   "exception": null,
   "input_path": "__notebook__.ipynb",
   "output_path": "__notebook__.ipynb",
   "parameters": {},
   "start_time": "2023-01-05T13:41:57.016008",
   "version": "2.3.4"
  }
 },
 "nbformat": 4,
 "nbformat_minor": 5
}
