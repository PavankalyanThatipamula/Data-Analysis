{
 "cells": [
  {
   "cell_type": "code",
   "execution_count": 3,
   "id": "7b304f2a",
   "metadata": {},
   "outputs": [],
   "source": [
    "import pandas as pd\n",
    "import numpy as np\n",
    "import scipy.stats as ss\n"
   ]
  },
  {
   "cell_type": "code",
   "execution_count": 4,
   "id": "d20195ca",
   "metadata": {},
   "outputs": [
    {
     "name": "stderr",
     "output_type": "stream",
     "text": [
      "C:\\Users\\Pavan Kalyan\\AppData\\Local\\Temp\\ipykernel_21780\\3586747877.py:1: DtypeWarning: Columns (11) have mixed types. Specify dtype option on import or set low_memory=False.\n",
      "  df = pd.read_csv(r\"autos.csv\")\n"
     ]
    },
    {
     "data": {
      "text/html": [
       "<div>\n",
       "<style scoped>\n",
       "    .dataframe tbody tr th:only-of-type {\n",
       "        vertical-align: middle;\n",
       "    }\n",
       "\n",
       "    .dataframe tbody tr th {\n",
       "        vertical-align: top;\n",
       "    }\n",
       "\n",
       "    .dataframe thead th {\n",
       "        text-align: right;\n",
       "    }\n",
       "</style>\n",
       "<table border=\"1\" class=\"dataframe\">\n",
       "  <thead>\n",
       "    <tr style=\"text-align: right;\">\n",
       "      <th></th>\n",
       "      <th>dateCrawled</th>\n",
       "      <th>name</th>\n",
       "      <th>seller</th>\n",
       "      <th>offerType</th>\n",
       "      <th>price</th>\n",
       "      <th>abtest</th>\n",
       "      <th>vehicleType</th>\n",
       "      <th>yearOfRegistration</th>\n",
       "      <th>gearbox</th>\n",
       "      <th>powerPS</th>\n",
       "      <th>model</th>\n",
       "      <th>kilometer</th>\n",
       "      <th>monthOfRegistration</th>\n",
       "      <th>fuelType</th>\n",
       "      <th>brand</th>\n",
       "      <th>notRepairedDamage</th>\n",
       "      <th>dateCreated</th>\n",
       "      <th>nrOfPictures</th>\n",
       "      <th>postalCode</th>\n",
       "      <th>lastSeen</th>\n",
       "    </tr>\n",
       "  </thead>\n",
       "  <tbody>\n",
       "    <tr>\n",
       "      <th>0</th>\n",
       "      <td>24-03-2016 11:52</td>\n",
       "      <td>Golf_3_1.6</td>\n",
       "      <td>privat</td>\n",
       "      <td>Angebot</td>\n",
       "      <td>480.0</td>\n",
       "      <td>test</td>\n",
       "      <td>NaN</td>\n",
       "      <td>1993.0</td>\n",
       "      <td>manuell</td>\n",
       "      <td>0.0</td>\n",
       "      <td>golf</td>\n",
       "      <td>150000</td>\n",
       "      <td>0.0</td>\n",
       "      <td>benzin</td>\n",
       "      <td>volkswagen</td>\n",
       "      <td>NaN</td>\n",
       "      <td>24-03-2016 00:00</td>\n",
       "      <td>0.0</td>\n",
       "      <td>70435.0</td>\n",
       "      <td>07-04-2016 03:16</td>\n",
       "    </tr>\n",
       "    <tr>\n",
       "      <th>1</th>\n",
       "      <td>24-03-2016 10:58</td>\n",
       "      <td>A5_Sportback_2.7_Tdi</td>\n",
       "      <td>privat</td>\n",
       "      <td>Angebot</td>\n",
       "      <td>18300.0</td>\n",
       "      <td>test</td>\n",
       "      <td>coupe</td>\n",
       "      <td>2011.0</td>\n",
       "      <td>manuell</td>\n",
       "      <td>190.0</td>\n",
       "      <td>NaN</td>\n",
       "      <td>125000</td>\n",
       "      <td>5.0</td>\n",
       "      <td>diesel</td>\n",
       "      <td>audi</td>\n",
       "      <td>ja</td>\n",
       "      <td>24-03-2016 00:00</td>\n",
       "      <td>0.0</td>\n",
       "      <td>66954.0</td>\n",
       "      <td>07-04-2016 01:46</td>\n",
       "    </tr>\n",
       "    <tr>\n",
       "      <th>2</th>\n",
       "      <td>14-03-2016 12:52</td>\n",
       "      <td>Jeep_Grand_Cherokee_\"Overland\"</td>\n",
       "      <td>privat</td>\n",
       "      <td>Angebot</td>\n",
       "      <td>9800.0</td>\n",
       "      <td>test</td>\n",
       "      <td>suv</td>\n",
       "      <td>2004.0</td>\n",
       "      <td>automatik</td>\n",
       "      <td>163.0</td>\n",
       "      <td>grand</td>\n",
       "      <td>125000</td>\n",
       "      <td>8.0</td>\n",
       "      <td>diesel</td>\n",
       "      <td>jeep</td>\n",
       "      <td>NaN</td>\n",
       "      <td>14-03-2016 00:00</td>\n",
       "      <td>0.0</td>\n",
       "      <td>90480.0</td>\n",
       "      <td>05-04-2016 12:47</td>\n",
       "    </tr>\n",
       "    <tr>\n",
       "      <th>3</th>\n",
       "      <td>17-03-2016 16:54</td>\n",
       "      <td>GOLF_4_1_4__3TÜRER</td>\n",
       "      <td>privat</td>\n",
       "      <td>Angebot</td>\n",
       "      <td>1500.0</td>\n",
       "      <td>test</td>\n",
       "      <td>kleinwagen</td>\n",
       "      <td>2001.0</td>\n",
       "      <td>manuell</td>\n",
       "      <td>75.0</td>\n",
       "      <td>golf</td>\n",
       "      <td>150000</td>\n",
       "      <td>6.0</td>\n",
       "      <td>benzin</td>\n",
       "      <td>volkswagen</td>\n",
       "      <td>nein</td>\n",
       "      <td>17-03-2016 00:00</td>\n",
       "      <td>0.0</td>\n",
       "      <td>91074.0</td>\n",
       "      <td>17-03-2016 17:40</td>\n",
       "    </tr>\n",
       "    <tr>\n",
       "      <th>4</th>\n",
       "      <td>31-03-2016 17:25</td>\n",
       "      <td>Skoda_Fabia_1.4_TDI_PD_Classic</td>\n",
       "      <td>privat</td>\n",
       "      <td>Angebot</td>\n",
       "      <td>3600.0</td>\n",
       "      <td>test</td>\n",
       "      <td>kleinwagen</td>\n",
       "      <td>2008.0</td>\n",
       "      <td>manuell</td>\n",
       "      <td>69.0</td>\n",
       "      <td>fabia</td>\n",
       "      <td>90000</td>\n",
       "      <td>7.0</td>\n",
       "      <td>diesel</td>\n",
       "      <td>skoda</td>\n",
       "      <td>nein</td>\n",
       "      <td>31-03-2016 00:00</td>\n",
       "      <td>0.0</td>\n",
       "      <td>60437.0</td>\n",
       "      <td>06-04-2016 10:17</td>\n",
       "    </tr>\n",
       "  </tbody>\n",
       "</table>\n",
       "</div>"
      ],
      "text/plain": [
       "        dateCrawled                            name  seller offerType  \\\n",
       "0  24-03-2016 11:52                      Golf_3_1.6  privat   Angebot   \n",
       "1  24-03-2016 10:58            A5_Sportback_2.7_Tdi  privat   Angebot   \n",
       "2  14-03-2016 12:52  Jeep_Grand_Cherokee_\"Overland\"  privat   Angebot   \n",
       "3  17-03-2016 16:54              GOLF_4_1_4__3TÜRER  privat   Angebot   \n",
       "4  31-03-2016 17:25  Skoda_Fabia_1.4_TDI_PD_Classic  privat   Angebot   \n",
       "\n",
       "     price abtest vehicleType  yearOfRegistration    gearbox  powerPS  model  \\\n",
       "0    480.0   test         NaN              1993.0    manuell      0.0   golf   \n",
       "1  18300.0   test       coupe              2011.0    manuell    190.0    NaN   \n",
       "2   9800.0   test         suv              2004.0  automatik    163.0  grand   \n",
       "3   1500.0   test  kleinwagen              2001.0    manuell     75.0   golf   \n",
       "4   3600.0   test  kleinwagen              2008.0    manuell     69.0  fabia   \n",
       "\n",
       "  kilometer  monthOfRegistration fuelType       brand notRepairedDamage  \\\n",
       "0    150000                  0.0   benzin  volkswagen               NaN   \n",
       "1    125000                  5.0   diesel        audi                ja   \n",
       "2    125000                  8.0   diesel        jeep               NaN   \n",
       "3    150000                  6.0   benzin  volkswagen              nein   \n",
       "4     90000                  7.0   diesel       skoda              nein   \n",
       "\n",
       "        dateCreated  nrOfPictures  postalCode          lastSeen  \n",
       "0  24-03-2016 00:00           0.0     70435.0  07-04-2016 03:16  \n",
       "1  24-03-2016 00:00           0.0     66954.0  07-04-2016 01:46  \n",
       "2  14-03-2016 00:00           0.0     90480.0  05-04-2016 12:47  \n",
       "3  17-03-2016 00:00           0.0     91074.0  17-03-2016 17:40  \n",
       "4  31-03-2016 00:00           0.0     60437.0  06-04-2016 10:17  "
      ]
     },
     "execution_count": 4,
     "metadata": {},
     "output_type": "execute_result"
    }
   ],
   "source": [
    "df = pd.read_csv(r\"autos.csv\")\n",
    "df.head()"
   ]
  },
  {
   "cell_type": "code",
   "execution_count": 5,
   "id": "9118680d",
   "metadata": {},
   "outputs": [
    {
     "data": {
      "text/plain": [
       "(371540, 20)"
      ]
     },
     "execution_count": 5,
     "metadata": {},
     "output_type": "execute_result"
    }
   ],
   "source": [
    "df.shape"
   ]
  },
  {
   "cell_type": "code",
   "execution_count": 6,
   "id": "bb9a4049",
   "metadata": {},
   "outputs": [
    {
     "data": {
      "text/plain": [
       "dateCrawled             object\n",
       "name                    object\n",
       "seller                  object\n",
       "offerType               object\n",
       "price                  float64\n",
       "abtest                  object\n",
       "vehicleType             object\n",
       "yearOfRegistration     float64\n",
       "gearbox                 object\n",
       "powerPS                float64\n",
       "model                   object\n",
       "kilometer               object\n",
       "monthOfRegistration    float64\n",
       "fuelType                object\n",
       "brand                   object\n",
       "notRepairedDamage       object\n",
       "dateCreated             object\n",
       "nrOfPictures           float64\n",
       "postalCode             float64\n",
       "lastSeen                object\n",
       "dtype: object"
      ]
     },
     "execution_count": 6,
     "metadata": {},
     "output_type": "execute_result"
    }
   ],
   "source": [
    "df.dtypes"
   ]
  },
  {
   "cell_type": "code",
   "execution_count": null,
   "id": "4793f117",
   "metadata": {},
   "outputs": [],
   "source": []
  },
  {
   "cell_type": "raw",
   "id": "8b7c49d9",
   "metadata": {},
   "source": [
    "dateCrawled = When the ad was first crawled\n",
    "name = name of the car model\n",
    "seller = Private seller or dealer\n",
    "offerType\n",
    "price = price listed on the add to sell the car\n",
    "abtest\n",
    "vehicleType = coupe/sedan/wagon\n",
    "yearOfRegistration = Year of first registration of the car\n",
    "gearbox = Auto / manual\n",
    "powerPS = horse power of the car in PS (Metric horsepower)\n",
    "model\n",
    "Kilometer = amount of kilometers the car had driven\n",
    "month of registration = Month of first registration\n",
    "fuelType = Diesel / Petrol\n",
    "brand\n",
    "notRepairedDamage = Whether the car has damage not repaired\n",
    "dateCreated = the date of which the ad at Ebay was created\n",
    "nrOfPictures = number of pictures in the ad (bug in crawler)\n",
    "postalCode = postcode of the car location (in germany)\n",
    "lastSeenOnline = when the crawler saw this ad last online"
   ]
  },
  {
   "cell_type": "markdown",
   "id": "065126e0",
   "metadata": {},
   "source": [
    "We can also notice that some columns contain german words,Let fix this columns"
   ]
  },
  {
   "cell_type": "code",
   "execution_count": 7,
   "id": "1f560f07",
   "metadata": {},
   "outputs": [
    {
     "data": {
      "text/plain": [
       "Index(['dateCrawled', 'name', 'seller', 'offerType', 'price', 'abtest',\n",
       "       'vehicleType', 'yearOfRegistration', 'gearbox', 'powerPS', 'model',\n",
       "       'kilometer', 'monthOfRegistration', 'fuelType', 'brand',\n",
       "       'notRepairedDamage', 'dateCreated', 'nrOfPictures', 'postalCode',\n",
       "       'lastSeen'],\n",
       "      dtype='object')"
      ]
     },
     "execution_count": 7,
     "metadata": {},
     "output_type": "execute_result"
    }
   ],
   "source": [
    "df.columns"
   ]
  },
  {
   "cell_type": "code",
   "execution_count": 8,
   "id": "1528dca2",
   "metadata": {},
   "outputs": [],
   "source": [
    "df.columns = ['dateCrawled', 'Name', 'Seller', 'Offer_type', 'Price', 'Ab_test',\n",
    "       'Vehicle_type', 'Registration_year', 'Gearbox', 'Power_PS', 'Model',\n",
    "       'Kilometer', 'Registration_month', 'fuel_type', 'brand',\n",
    "       'Unrepaired_damage', 'Date_created','no_of_Pictures', 'Postal_code', 'Last_seen']"
   ]
  },
  {
   "cell_type": "code",
   "execution_count": 9,
   "id": "ab5442d1",
   "metadata": {},
   "outputs": [
    {
     "data": {
      "text/plain": [
       "Index(['dateCrawled', 'Name', 'Seller', 'Offer_type', 'Price', 'Ab_test',\n",
       "       'Vehicle_type', 'Registration_year', 'Gearbox', 'Power_PS', 'Model',\n",
       "       'Kilometer', 'Registration_month', 'fuel_type', 'brand',\n",
       "       'Unrepaired_damage', 'Date_created', 'no_of_Pictures', 'Postal_code',\n",
       "       'Last_seen'],\n",
       "      dtype='object')"
      ]
     },
     "execution_count": 9,
     "metadata": {},
     "output_type": "execute_result"
    }
   ],
   "source": [
    "df.columns"
   ]
  },
  {
   "cell_type": "code",
   "execution_count": null,
   "id": "16047e82",
   "metadata": {},
   "outputs": [],
   "source": []
  },
  {
   "cell_type": "code",
   "execution_count": 10,
   "id": "82b6dff2",
   "metadata": {},
   "outputs": [
    {
     "name": "stdout",
     "output_type": "stream",
     "text": [
      "<class 'pandas.core.frame.DataFrame'>\n",
      "RangeIndex: 371540 entries, 0 to 371539\n",
      "Data columns (total 20 columns):\n",
      " #   Column              Non-Null Count   Dtype  \n",
      "---  ------              --------------   -----  \n",
      " 0   dateCrawled         371539 non-null  object \n",
      " 1   Name                371539 non-null  object \n",
      " 2   Seller              371538 non-null  object \n",
      " 3   Offer_type          371538 non-null  object \n",
      " 4   Price               371538 non-null  float64\n",
      " 5   Ab_test             371538 non-null  object \n",
      " 6   Vehicle_type        333669 non-null  object \n",
      " 7   Registration_year   371537 non-null  float64\n",
      " 8   Gearbox             351329 non-null  object \n",
      " 9   Power_PS            371538 non-null  float64\n",
      " 10  Model               351054 non-null  object \n",
      " 11  Kilometer           371538 non-null  object \n",
      " 12  Registration_month  371537 non-null  float64\n",
      " 13  fuel_type           338151 non-null  object \n",
      " 14  brand               371537 non-null  object \n",
      " 15  Unrepaired_damage   299477 non-null  object \n",
      " 16  Date_created        371537 non-null  object \n",
      " 17  no_of_Pictures      371537 non-null  float64\n",
      " 18  Postal_code         371537 non-null  float64\n",
      " 19  Last_seen           371537 non-null  object \n",
      "dtypes: float64(6), object(14)\n",
      "memory usage: 56.7+ MB\n"
     ]
    }
   ],
   "source": [
    "df.info()"
   ]
  },
  {
   "cell_type": "code",
   "execution_count": 11,
   "id": "2be007bc",
   "metadata": {},
   "outputs": [
    {
     "data": {
      "text/plain": [
       "dateCrawled               1\n",
       "Name                      1\n",
       "Seller                    2\n",
       "Offer_type                2\n",
       "Price                     2\n",
       "Ab_test                   2\n",
       "Vehicle_type          37871\n",
       "Registration_year         3\n",
       "Gearbox               20211\n",
       "Power_PS                  2\n",
       "Model                 20486\n",
       "Kilometer                 2\n",
       "Registration_month        3\n",
       "fuel_type             33389\n",
       "brand                     3\n",
       "Unrepaired_damage     72063\n",
       "Date_created              3\n",
       "no_of_Pictures            3\n",
       "Postal_code               3\n",
       "Last_seen                 3\n",
       "dtype: int64"
      ]
     },
     "execution_count": 11,
     "metadata": {},
     "output_type": "execute_result"
    }
   ],
   "source": [
    "df.isnull().sum()"
   ]
  },
  {
   "cell_type": "code",
   "execution_count": 12,
   "id": "6fdff886",
   "metadata": {},
   "outputs": [
    {
     "data": {
      "text/html": [
       "<div>\n",
       "<style scoped>\n",
       "    .dataframe tbody tr th:only-of-type {\n",
       "        vertical-align: middle;\n",
       "    }\n",
       "\n",
       "    .dataframe tbody tr th {\n",
       "        vertical-align: top;\n",
       "    }\n",
       "\n",
       "    .dataframe thead th {\n",
       "        text-align: right;\n",
       "    }\n",
       "</style>\n",
       "<table border=\"1\" class=\"dataframe\">\n",
       "  <thead>\n",
       "    <tr style=\"text-align: right;\">\n",
       "      <th></th>\n",
       "      <th>dateCrawled</th>\n",
       "      <th>Name</th>\n",
       "      <th>Seller</th>\n",
       "      <th>Offer_type</th>\n",
       "      <th>Price</th>\n",
       "      <th>Ab_test</th>\n",
       "      <th>Vehicle_type</th>\n",
       "      <th>Registration_year</th>\n",
       "      <th>Gearbox</th>\n",
       "      <th>Power_PS</th>\n",
       "      <th>Model</th>\n",
       "      <th>Kilometer</th>\n",
       "      <th>Registration_month</th>\n",
       "      <th>fuel_type</th>\n",
       "      <th>brand</th>\n",
       "      <th>Unrepaired_damage</th>\n",
       "      <th>Date_created</th>\n",
       "      <th>no_of_Pictures</th>\n",
       "      <th>Postal_code</th>\n",
       "      <th>Last_seen</th>\n",
       "    </tr>\n",
       "  </thead>\n",
       "  <tbody>\n",
       "    <tr>\n",
       "      <th>142235</th>\n",
       "      <td>27-03-2016 22:51</td>\n",
       "      <td>\"SUCHE_OPEL_VECTRA_B.\"SUCHE\",privat,Angebot,0,...</td>\n",
       "      <td>NaN</td>\n",
       "      <td>NaN</td>\n",
       "      <td>NaN</td>\n",
       "      <td>NaN</td>\n",
       "      <td>NaN</td>\n",
       "      <td>NaN</td>\n",
       "      <td>NaN</td>\n",
       "      <td>NaN</td>\n",
       "      <td>NaN</td>\n",
       "      <td>NaN</td>\n",
       "      <td>NaN</td>\n",
       "      <td>NaN</td>\n",
       "      <td>NaN</td>\n",
       "      <td>NaN</td>\n",
       "      <td>NaN</td>\n",
       "      <td>NaN</td>\n",
       "      <td>NaN</td>\n",
       "      <td>NaN</td>\n",
       "    </tr>\n",
       "    <tr>\n",
       "      <th>142236</th>\n",
       "      <td>NaN</td>\n",
       "      <td>NaN</td>\n",
       "      <td>NaN</td>\n",
       "      <td>NaN</td>\n",
       "      <td>NaN</td>\n",
       "      <td>NaN</td>\n",
       "      <td>NaN</td>\n",
       "      <td>NaN</td>\n",
       "      <td>NaN</td>\n",
       "      <td>NaN</td>\n",
       "      <td>NaN</td>\n",
       "      <td>NaN</td>\n",
       "      <td>NaN</td>\n",
       "      <td>NaN</td>\n",
       "      <td>NaN</td>\n",
       "      <td>NaN</td>\n",
       "      <td>NaN</td>\n",
       "      <td>NaN</td>\n",
       "      <td>NaN</td>\n",
       "      <td>NaN</td>\n",
       "    </tr>\n",
       "    <tr>\n",
       "      <th>142237</th>\n",
       "      <td>ell</td>\n",
       "      <td>90</td>\n",
       "      <td>golf</td>\n",
       "      <td>150000</td>\n",
       "      <td>4.0</td>\n",
       "      <td>benzin</td>\n",
       "      <td>volkswagen</td>\n",
       "      <td>NaN</td>\n",
       "      <td>25-03-2016 00:00</td>\n",
       "      <td>0.0</td>\n",
       "      <td>48429</td>\n",
       "      <td>30-03-2016 00:44</td>\n",
       "      <td>NaN</td>\n",
       "      <td>NaN</td>\n",
       "      <td>NaN</td>\n",
       "      <td>NaN</td>\n",
       "      <td>NaN</td>\n",
       "      <td>NaN</td>\n",
       "      <td>NaN</td>\n",
       "      <td>NaN</td>\n",
       "    </tr>\n",
       "  </tbody>\n",
       "</table>\n",
       "</div>"
      ],
      "text/plain": [
       "             dateCrawled                                               Name  \\\n",
       "142235  27-03-2016 22:51  \"SUCHE_OPEL_VECTRA_B.\"SUCHE\",privat,Angebot,0,...   \n",
       "142236               NaN                                                NaN   \n",
       "142237               ell                                                 90   \n",
       "\n",
       "       Seller Offer_type  Price Ab_test Vehicle_type  Registration_year  \\\n",
       "142235    NaN        NaN    NaN     NaN          NaN                NaN   \n",
       "142236    NaN        NaN    NaN     NaN          NaN                NaN   \n",
       "142237   golf     150000    4.0  benzin   volkswagen                NaN   \n",
       "\n",
       "                 Gearbox  Power_PS  Model         Kilometer  \\\n",
       "142235               NaN       NaN    NaN               NaN   \n",
       "142236               NaN       NaN    NaN               NaN   \n",
       "142237  25-03-2016 00:00       0.0  48429  30-03-2016 00:44   \n",
       "\n",
       "        Registration_month fuel_type brand Unrepaired_damage Date_created  \\\n",
       "142235                 NaN       NaN   NaN               NaN          NaN   \n",
       "142236                 NaN       NaN   NaN               NaN          NaN   \n",
       "142237                 NaN       NaN   NaN               NaN          NaN   \n",
       "\n",
       "        no_of_Pictures  Postal_code Last_seen  \n",
       "142235             NaN          NaN       NaN  \n",
       "142236             NaN          NaN       NaN  \n",
       "142237             NaN          NaN       NaN  "
      ]
     },
     "execution_count": 12,
     "metadata": {},
     "output_type": "execute_result"
    }
   ],
   "source": [
    "df[df['brand'].isnull()]"
   ]
  },
  {
   "cell_type": "code",
   "execution_count": 13,
   "id": "303aeeb5",
   "metadata": {},
   "outputs": [],
   "source": [
    "df.drop(142235,inplace = True)"
   ]
  },
  {
   "cell_type": "code",
   "execution_count": 14,
   "id": "6c3cf61d",
   "metadata": {},
   "outputs": [
    {
     "data": {
      "text/html": [
       "<div>\n",
       "<style scoped>\n",
       "    .dataframe tbody tr th:only-of-type {\n",
       "        vertical-align: middle;\n",
       "    }\n",
       "\n",
       "    .dataframe tbody tr th {\n",
       "        vertical-align: top;\n",
       "    }\n",
       "\n",
       "    .dataframe thead th {\n",
       "        text-align: right;\n",
       "    }\n",
       "</style>\n",
       "<table border=\"1\" class=\"dataframe\">\n",
       "  <thead>\n",
       "    <tr style=\"text-align: right;\">\n",
       "      <th></th>\n",
       "      <th>dateCrawled</th>\n",
       "      <th>Name</th>\n",
       "      <th>Seller</th>\n",
       "      <th>Offer_type</th>\n",
       "      <th>Price</th>\n",
       "      <th>Ab_test</th>\n",
       "      <th>Vehicle_type</th>\n",
       "      <th>Registration_year</th>\n",
       "      <th>Gearbox</th>\n",
       "      <th>Power_PS</th>\n",
       "      <th>Model</th>\n",
       "      <th>Kilometer</th>\n",
       "      <th>Registration_month</th>\n",
       "      <th>fuel_type</th>\n",
       "      <th>brand</th>\n",
       "      <th>Unrepaired_damage</th>\n",
       "      <th>Date_created</th>\n",
       "      <th>no_of_Pictures</th>\n",
       "      <th>Postal_code</th>\n",
       "      <th>Last_seen</th>\n",
       "    </tr>\n",
       "  </thead>\n",
       "  <tbody>\n",
       "    <tr>\n",
       "      <th>142236</th>\n",
       "      <td>NaN</td>\n",
       "      <td>NaN</td>\n",
       "      <td>NaN</td>\n",
       "      <td>NaN</td>\n",
       "      <td>NaN</td>\n",
       "      <td>NaN</td>\n",
       "      <td>NaN</td>\n",
       "      <td>NaN</td>\n",
       "      <td>NaN</td>\n",
       "      <td>NaN</td>\n",
       "      <td>NaN</td>\n",
       "      <td>NaN</td>\n",
       "      <td>NaN</td>\n",
       "      <td>NaN</td>\n",
       "      <td>NaN</td>\n",
       "      <td>NaN</td>\n",
       "      <td>NaN</td>\n",
       "      <td>NaN</td>\n",
       "      <td>NaN</td>\n",
       "      <td>NaN</td>\n",
       "    </tr>\n",
       "    <tr>\n",
       "      <th>142237</th>\n",
       "      <td>ell</td>\n",
       "      <td>90</td>\n",
       "      <td>golf</td>\n",
       "      <td>150000</td>\n",
       "      <td>4.0</td>\n",
       "      <td>benzin</td>\n",
       "      <td>volkswagen</td>\n",
       "      <td>NaN</td>\n",
       "      <td>25-03-2016 00:00</td>\n",
       "      <td>0.0</td>\n",
       "      <td>48429</td>\n",
       "      <td>30-03-2016 00:44</td>\n",
       "      <td>NaN</td>\n",
       "      <td>NaN</td>\n",
       "      <td>NaN</td>\n",
       "      <td>NaN</td>\n",
       "      <td>NaN</td>\n",
       "      <td>NaN</td>\n",
       "      <td>NaN</td>\n",
       "      <td>NaN</td>\n",
       "    </tr>\n",
       "  </tbody>\n",
       "</table>\n",
       "</div>"
      ],
      "text/plain": [
       "       dateCrawled Name Seller Offer_type  Price Ab_test Vehicle_type  \\\n",
       "142236         NaN  NaN    NaN        NaN    NaN     NaN          NaN   \n",
       "142237         ell   90   golf     150000    4.0  benzin   volkswagen   \n",
       "\n",
       "        Registration_year           Gearbox  Power_PS  Model  \\\n",
       "142236                NaN               NaN       NaN    NaN   \n",
       "142237                NaN  25-03-2016 00:00       0.0  48429   \n",
       "\n",
       "               Kilometer  Registration_month fuel_type brand  \\\n",
       "142236               NaN                 NaN       NaN   NaN   \n",
       "142237  30-03-2016 00:44                 NaN       NaN   NaN   \n",
       "\n",
       "       Unrepaired_damage Date_created  no_of_Pictures  Postal_code Last_seen  \n",
       "142236               NaN          NaN             NaN          NaN       NaN  \n",
       "142237               NaN          NaN             NaN          NaN       NaN  "
      ]
     },
     "execution_count": 14,
     "metadata": {},
     "output_type": "execute_result"
    }
   ],
   "source": [
    "df[df['brand'].isnull()]"
   ]
  },
  {
   "cell_type": "code",
   "execution_count": 15,
   "id": "9fb31fdf",
   "metadata": {},
   "outputs": [
    {
     "data": {
      "text/html": [
       "<div>\n",
       "<style scoped>\n",
       "    .dataframe tbody tr th:only-of-type {\n",
       "        vertical-align: middle;\n",
       "    }\n",
       "\n",
       "    .dataframe tbody tr th {\n",
       "        vertical-align: top;\n",
       "    }\n",
       "\n",
       "    .dataframe thead th {\n",
       "        text-align: right;\n",
       "    }\n",
       "</style>\n",
       "<table border=\"1\" class=\"dataframe\">\n",
       "  <thead>\n",
       "    <tr style=\"text-align: right;\">\n",
       "      <th></th>\n",
       "      <th>dateCrawled</th>\n",
       "      <th>Name</th>\n",
       "      <th>Seller</th>\n",
       "      <th>Offer_type</th>\n",
       "      <th>Price</th>\n",
       "      <th>Ab_test</th>\n",
       "      <th>Vehicle_type</th>\n",
       "      <th>Registration_year</th>\n",
       "      <th>Gearbox</th>\n",
       "      <th>Power_PS</th>\n",
       "      <th>Model</th>\n",
       "      <th>Kilometer</th>\n",
       "      <th>Registration_month</th>\n",
       "      <th>fuel_type</th>\n",
       "      <th>brand</th>\n",
       "      <th>Unrepaired_damage</th>\n",
       "      <th>Date_created</th>\n",
       "      <th>no_of_Pictures</th>\n",
       "      <th>Postal_code</th>\n",
       "      <th>Last_seen</th>\n",
       "    </tr>\n",
       "  </thead>\n",
       "  <tbody>\n",
       "    <tr>\n",
       "      <th>142236</th>\n",
       "      <td>NaN</td>\n",
       "      <td>NaN</td>\n",
       "      <td>NaN</td>\n",
       "      <td>NaN</td>\n",
       "      <td>NaN</td>\n",
       "      <td>NaN</td>\n",
       "      <td>NaN</td>\n",
       "      <td>NaN</td>\n",
       "      <td>NaN</td>\n",
       "      <td>NaN</td>\n",
       "      <td>NaN</td>\n",
       "      <td>NaN</td>\n",
       "      <td>NaN</td>\n",
       "      <td>NaN</td>\n",
       "      <td>NaN</td>\n",
       "      <td>NaN</td>\n",
       "      <td>NaN</td>\n",
       "      <td>NaN</td>\n",
       "      <td>NaN</td>\n",
       "      <td>NaN</td>\n",
       "    </tr>\n",
       "    <tr>\n",
       "      <th>142237</th>\n",
       "      <td>ell</td>\n",
       "      <td>90</td>\n",
       "      <td>golf</td>\n",
       "      <td>150000</td>\n",
       "      <td>4.0</td>\n",
       "      <td>benzin</td>\n",
       "      <td>volkswagen</td>\n",
       "      <td>NaN</td>\n",
       "      <td>25-03-2016 00:00</td>\n",
       "      <td>0.0</td>\n",
       "      <td>48429</td>\n",
       "      <td>30-03-2016 00:44</td>\n",
       "      <td>NaN</td>\n",
       "      <td>NaN</td>\n",
       "      <td>NaN</td>\n",
       "      <td>NaN</td>\n",
       "      <td>NaN</td>\n",
       "      <td>NaN</td>\n",
       "      <td>NaN</td>\n",
       "      <td>NaN</td>\n",
       "    </tr>\n",
       "  </tbody>\n",
       "</table>\n",
       "</div>"
      ],
      "text/plain": [
       "       dateCrawled Name Seller Offer_type  Price Ab_test Vehicle_type  \\\n",
       "142236         NaN  NaN    NaN        NaN    NaN     NaN          NaN   \n",
       "142237         ell   90   golf     150000    4.0  benzin   volkswagen   \n",
       "\n",
       "        Registration_year           Gearbox  Power_PS  Model  \\\n",
       "142236                NaN               NaN       NaN    NaN   \n",
       "142237                NaN  25-03-2016 00:00       0.0  48429   \n",
       "\n",
       "               Kilometer  Registration_month fuel_type brand  \\\n",
       "142236               NaN                 NaN       NaN   NaN   \n",
       "142237  30-03-2016 00:44                 NaN       NaN   NaN   \n",
       "\n",
       "       Unrepaired_damage Date_created  no_of_Pictures  Postal_code Last_seen  \n",
       "142236               NaN          NaN             NaN          NaN       NaN  \n",
       "142237               NaN          NaN             NaN          NaN       NaN  "
      ]
     },
     "execution_count": 15,
     "metadata": {},
     "output_type": "execute_result"
    }
   ],
   "source": [
    "df[df['Postal_code'].isnull()]"
   ]
  },
  {
   "cell_type": "code",
   "execution_count": 16,
   "id": "cd2c1918",
   "metadata": {},
   "outputs": [],
   "source": [
    "df.drop(142237,inplace = True)"
   ]
  },
  {
   "cell_type": "code",
   "execution_count": 17,
   "id": "328c64c0",
   "metadata": {},
   "outputs": [
    {
     "data": {
      "text/plain": [
       "dateCrawled               1\n",
       "Name                      1\n",
       "Seller                    1\n",
       "Offer_type                1\n",
       "Price                     1\n",
       "Ab_test                   1\n",
       "Vehicle_type          37870\n",
       "Registration_year         1\n",
       "Gearbox               20210\n",
       "Power_PS                  1\n",
       "Model                 20485\n",
       "Kilometer                 1\n",
       "Registration_month        1\n",
       "fuel_type             33387\n",
       "brand                     1\n",
       "Unrepaired_damage     72061\n",
       "Date_created              1\n",
       "no_of_Pictures            1\n",
       "Postal_code               1\n",
       "Last_seen                 1\n",
       "dtype: int64"
      ]
     },
     "execution_count": 17,
     "metadata": {},
     "output_type": "execute_result"
    }
   ],
   "source": [
    "df.isnull().sum()"
   ]
  },
  {
   "cell_type": "raw",
   "id": "fe7c4e8e",
   "metadata": {},
   "source": [
    "5 Columns like \n",
    "Vehicle_type,\n",
    "Gearbox,\n",
    "Model,\n",
    "Fuel_type,\n",
    "Unrepaired_damage are having null values.so we need to impute or drop the null values"
   ]
  },
  {
   "cell_type": "code",
   "execution_count": 18,
   "id": "102b6fb8",
   "metadata": {},
   "outputs": [
    {
     "data": {
      "text/plain": [
       "dateCrawled            0.000269\n",
       "Name                   0.000269\n",
       "Seller                 0.000269\n",
       "Offer_type             0.000269\n",
       "Price                  0.000269\n",
       "Ab_test                0.000269\n",
       "Vehicle_type          10.192766\n",
       "Registration_year      0.000269\n",
       "Gearbox                5.439551\n",
       "Power_PS               0.000269\n",
       "Model                  5.513568\n",
       "Kilometer              0.000269\n",
       "Registration_month     0.000269\n",
       "fuel_type              8.986160\n",
       "brand                  0.000269\n",
       "Unrepaired_damage     19.395324\n",
       "Date_created           0.000269\n",
       "no_of_Pictures         0.000269\n",
       "Postal_code            0.000269\n",
       "Last_seen              0.000269\n",
       "dtype: float64"
      ]
     },
     "execution_count": 18,
     "metadata": {},
     "output_type": "execute_result"
    }
   ],
   "source": [
    "### Percentage isnull values columns wise\n",
    "df.isnull().sum()/df.shape[0]*100"
   ]
  },
  {
   "cell_type": "code",
   "execution_count": 19,
   "id": "4f1222ee",
   "metadata": {},
   "outputs": [
    {
     "data": {
      "text/plain": [
       "<Axes: >"
      ]
     },
     "execution_count": 19,
     "metadata": {},
     "output_type": "execute_result"
    },
    {
     "data": {
      "image/png": "[encoded data removed]",
      "text/plain": [
       "<Figure size 640x480 with 1 Axes>"
      ]
     },
     "metadata": {},
     "output_type": "display_data"
    }
   ],
   "source": [
    "a =df.isnull().sum()\n",
    "a.plot(kind = 'bar')"
   ]
  },
  {
   "cell_type": "code",
   "execution_count": 20,
   "id": "7e68059c",
   "metadata": {},
   "outputs": [
    {
     "data": {
      "text/plain": [
       "184028"
      ]
     },
     "execution_count": 20,
     "metadata": {},
     "output_type": "execute_result"
    }
   ],
   "source": [
    "### Total Null Values\n",
    "df.isnull().sum().sum()"
   ]
  },
  {
   "cell_type": "code",
   "execution_count": 21,
   "id": "7d7abc38",
   "metadata": {},
   "outputs": [
    {
     "data": {
      "text/plain": [
       "(371538, 20)"
      ]
     },
     "execution_count": 21,
     "metadata": {},
     "output_type": "execute_result"
    }
   ],
   "source": [
    "df.shape"
   ]
  },
  {
   "cell_type": "code",
   "execution_count": 22,
   "id": "c0488383",
   "metadata": {},
   "outputs": [
    {
     "data": {
      "text/plain": [
       "49.53140728539207"
      ]
     },
     "execution_count": 22,
     "metadata": {},
     "output_type": "execute_result"
    }
   ],
   "source": [
    "df.isnull().sum().sum()/df.shape[0]*100"
   ]
  },
  {
   "cell_type": "code",
   "execution_count": null,
   "id": "ce49372a",
   "metadata": {},
   "outputs": [],
   "source": []
  },
  {
   "cell_type": "markdown",
   "id": "235a903a",
   "metadata": {},
   "source": [
    "### Change 'dateCrawled' column to datetime dtype\n",
    "df['dateCrawled']= pd.to_datetime(df['dateCrawled'])"
   ]
  },
  {
   "cell_type": "code",
   "execution_count": 23,
   "id": "b341a260",
   "metadata": {},
   "outputs": [
    {
     "name": "stdout",
     "output_type": "stream",
     "text": [
      "<class 'pandas.core.series.Series'>\n",
      "Int64Index: 371538 entries, 0 to 371539\n",
      "Series name: dateCrawled\n",
      "Non-Null Count   Dtype \n",
      "--------------   ----- \n",
      "371537 non-null  object\n",
      "dtypes: object(1)\n",
      "memory usage: 5.7+ MB\n"
     ]
    }
   ],
   "source": [
    "df['dateCrawled'].info()"
   ]
  },
  {
   "cell_type": "code",
   "execution_count": null,
   "id": "6ce63e53",
   "metadata": {},
   "outputs": [],
   "source": []
  },
  {
   "cell_type": "code",
   "execution_count": 24,
   "id": "364cfad4",
   "metadata": {},
   "outputs": [
    {
     "data": {
      "text/html": [
       "<div>\n",
       "<style scoped>\n",
       "    .dataframe tbody tr th:only-of-type {\n",
       "        vertical-align: middle;\n",
       "    }\n",
       "\n",
       "    .dataframe tbody tr th {\n",
       "        vertical-align: top;\n",
       "    }\n",
       "\n",
       "    .dataframe thead th {\n",
       "        text-align: right;\n",
       "    }\n",
       "</style>\n",
       "<table border=\"1\" class=\"dataframe\">\n",
       "  <thead>\n",
       "    <tr style=\"text-align: right;\">\n",
       "      <th></th>\n",
       "      <th>dateCrawled</th>\n",
       "      <th>Name</th>\n",
       "      <th>Seller</th>\n",
       "      <th>Offer_type</th>\n",
       "      <th>Ab_test</th>\n",
       "      <th>Vehicle_type</th>\n",
       "      <th>Gearbox</th>\n",
       "      <th>Model</th>\n",
       "      <th>Kilometer</th>\n",
       "      <th>fuel_type</th>\n",
       "      <th>brand</th>\n",
       "      <th>Unrepaired_damage</th>\n",
       "      <th>Date_created</th>\n",
       "      <th>Last_seen</th>\n",
       "    </tr>\n",
       "  </thead>\n",
       "  <tbody>\n",
       "    <tr>\n",
       "      <th>count</th>\n",
       "      <td>371537</td>\n",
       "      <td>371537</td>\n",
       "      <td>371537</td>\n",
       "      <td>371537</td>\n",
       "      <td>371537</td>\n",
       "      <td>333668</td>\n",
       "      <td>351328</td>\n",
       "      <td>351053</td>\n",
       "      <td>371537</td>\n",
       "      <td>338151</td>\n",
       "      <td>371537</td>\n",
       "      <td>299477</td>\n",
       "      <td>371537</td>\n",
       "      <td>371537</td>\n",
       "    </tr>\n",
       "    <tr>\n",
       "      <th>unique</th>\n",
       "      <td>15622</td>\n",
       "      <td>233524</td>\n",
       "      <td>2</td>\n",
       "      <td>2</td>\n",
       "      <td>2</td>\n",
       "      <td>8</td>\n",
       "      <td>2</td>\n",
       "      <td>251</td>\n",
       "      <td>26</td>\n",
       "      <td>7</td>\n",
       "      <td>40</td>\n",
       "      <td>2</td>\n",
       "      <td>114</td>\n",
       "      <td>18705</td>\n",
       "    </tr>\n",
       "    <tr>\n",
       "      <th>top</th>\n",
       "      <td>05-03-2016 14:25</td>\n",
       "      <td>Ford_Fiesta</td>\n",
       "      <td>privat</td>\n",
       "      <td>Angebot</td>\n",
       "      <td>test</td>\n",
       "      <td>limousine</td>\n",
       "      <td>manuell</td>\n",
       "      <td>golf</td>\n",
       "      <td>150000</td>\n",
       "      <td>benzin</td>\n",
       "      <td>volkswagen</td>\n",
       "      <td>nein</td>\n",
       "      <td>03-04-2016 00:00</td>\n",
       "      <td>07-04-2016 06:45</td>\n",
       "    </tr>\n",
       "    <tr>\n",
       "      <th>freq</th>\n",
       "      <td>68</td>\n",
       "      <td>657</td>\n",
       "      <td>371534</td>\n",
       "      <td>371525</td>\n",
       "      <td>192591</td>\n",
       "      <td>95896</td>\n",
       "      <td>274219</td>\n",
       "      <td>30070</td>\n",
       "      <td>219435</td>\n",
       "      <td>223863</td>\n",
       "      <td>79640</td>\n",
       "      <td>263189</td>\n",
       "      <td>14451</td>\n",
       "      <td>708</td>\n",
       "    </tr>\n",
       "  </tbody>\n",
       "</table>\n",
       "</div>"
      ],
      "text/plain": [
       "             dateCrawled         Name  Seller Offer_type Ab_test Vehicle_type  \\\n",
       "count             371537       371537  371537     371537  371537       333668   \n",
       "unique             15622       233524       2          2       2            8   \n",
       "top     05-03-2016 14:25  Ford_Fiesta  privat    Angebot    test    limousine   \n",
       "freq                  68          657  371534     371525  192591        95896   \n",
       "\n",
       "        Gearbox   Model  Kilometer fuel_type       brand Unrepaired_damage  \\\n",
       "count    351328  351053     371537    338151      371537            299477   \n",
       "unique        2     251         26         7          40                 2   \n",
       "top     manuell    golf     150000    benzin  volkswagen              nein   \n",
       "freq     274219   30070     219435    223863       79640            263189   \n",
       "\n",
       "            Date_created         Last_seen  \n",
       "count             371537            371537  \n",
       "unique               114             18705  \n",
       "top     03-04-2016 00:00  07-04-2016 06:45  \n",
       "freq               14451               708  "
      ]
     },
     "execution_count": 24,
     "metadata": {},
     "output_type": "execute_result"
    }
   ],
   "source": [
    "df.describe(include = 'object')"
   ]
  },
  {
   "cell_type": "code",
   "execution_count": 25,
   "id": "61ac97e0",
   "metadata": {},
   "outputs": [
    {
     "data": {
      "text/plain": [
       "privat        371534\n",
       "gewerblich         3\n",
       "Name: Seller, dtype: int64"
      ]
     },
     "execution_count": 25,
     "metadata": {},
     "output_type": "execute_result"
    }
   ],
   "source": [
    "df['Seller'].value_counts()"
   ]
  },
  {
   "cell_type": "markdown",
   "id": "157485e6",
   "metadata": {},
   "source": [
    "-  Seller column  has 2 unique values and “gewerblich” value has only 3 records. So, this column has no distinguishing information for the model. This column can be dropped, but first the records that has “gewerblich” value should be removed."
   ]
  },
  {
   "cell_type": "code",
   "execution_count": 26,
   "id": "a0221c08",
   "metadata": {},
   "outputs": [
    {
     "data": {
      "text/html": [
       "<div>\n",
       "<style scoped>\n",
       "    .dataframe tbody tr th:only-of-type {\n",
       "        vertical-align: middle;\n",
       "    }\n",
       "\n",
       "    .dataframe tbody tr th {\n",
       "        vertical-align: top;\n",
       "    }\n",
       "\n",
       "    .dataframe thead th {\n",
       "        text-align: right;\n",
       "    }\n",
       "</style>\n",
       "<table border=\"1\" class=\"dataframe\">\n",
       "  <thead>\n",
       "    <tr style=\"text-align: right;\">\n",
       "      <th></th>\n",
       "      <th>dateCrawled</th>\n",
       "      <th>Name</th>\n",
       "      <th>Seller</th>\n",
       "      <th>Offer_type</th>\n",
       "      <th>Price</th>\n",
       "      <th>Ab_test</th>\n",
       "      <th>Vehicle_type</th>\n",
       "      <th>Registration_year</th>\n",
       "      <th>Gearbox</th>\n",
       "      <th>Power_PS</th>\n",
       "      <th>Model</th>\n",
       "      <th>Kilometer</th>\n",
       "      <th>Registration_month</th>\n",
       "      <th>fuel_type</th>\n",
       "      <th>brand</th>\n",
       "      <th>Unrepaired_damage</th>\n",
       "      <th>Date_created</th>\n",
       "      <th>no_of_Pictures</th>\n",
       "      <th>Postal_code</th>\n",
       "      <th>Last_seen</th>\n",
       "    </tr>\n",
       "  </thead>\n",
       "  <tbody>\n",
       "    <tr>\n",
       "      <th>59155</th>\n",
       "      <td>15-03-2016 18:06</td>\n",
       "      <td>Verkaufe_mehrere_Fahrzeuge_zum_Verschrotten</td>\n",
       "      <td>gewerblich</td>\n",
       "      <td>Angebot</td>\n",
       "      <td>100.0</td>\n",
       "      <td>control</td>\n",
       "      <td>kombi</td>\n",
       "      <td>2000.0</td>\n",
       "      <td>manuell</td>\n",
       "      <td>0.0</td>\n",
       "      <td>megane</td>\n",
       "      <td>150000</td>\n",
       "      <td>8.0</td>\n",
       "      <td>benzin</td>\n",
       "      <td>renault</td>\n",
       "      <td>NaN</td>\n",
       "      <td>15-03-2016 00:00</td>\n",
       "      <td>0.0</td>\n",
       "      <td>65232.0</td>\n",
       "      <td>06-04-2016 17:15</td>\n",
       "    </tr>\n",
       "    <tr>\n",
       "      <th>149405</th>\n",
       "      <td>22-03-2016 09:54</td>\n",
       "      <td>Chevrolet_Matiz_1.Hd_TÜV11/2017</td>\n",
       "      <td>gewerblich</td>\n",
       "      <td>Angebot</td>\n",
       "      <td>1100.0</td>\n",
       "      <td>test</td>\n",
       "      <td>kleinwagen</td>\n",
       "      <td>2006.0</td>\n",
       "      <td>manuell</td>\n",
       "      <td>38.0</td>\n",
       "      <td>matiz</td>\n",
       "      <td>150000</td>\n",
       "      <td>10.0</td>\n",
       "      <td>benzin</td>\n",
       "      <td>chevrolet</td>\n",
       "      <td>nein</td>\n",
       "      <td>22-03-2016 00:00</td>\n",
       "      <td>0.0</td>\n",
       "      <td>7973.0</td>\n",
       "      <td>05-04-2016 21:15</td>\n",
       "    </tr>\n",
       "    <tr>\n",
       "      <th>186193</th>\n",
       "      <td>14-03-2016 15:58</td>\n",
       "      <td>BMW_2000_AUTOMATIK_H_ZULASSUNG</td>\n",
       "      <td>gewerblich</td>\n",
       "      <td>Angebot</td>\n",
       "      <td>6900.0</td>\n",
       "      <td>control</td>\n",
       "      <td>limousine</td>\n",
       "      <td>1967.0</td>\n",
       "      <td>automatik</td>\n",
       "      <td>101.0</td>\n",
       "      <td>andere</td>\n",
       "      <td>70000</td>\n",
       "      <td>8.0</td>\n",
       "      <td>benzin</td>\n",
       "      <td>bmw</td>\n",
       "      <td>nein</td>\n",
       "      <td>14-03-2016 00:00</td>\n",
       "      <td>0.0</td>\n",
       "      <td>73614.0</td>\n",
       "      <td>05-04-2016 19:45</td>\n",
       "    </tr>\n",
       "  </tbody>\n",
       "</table>\n",
       "</div>"
      ],
      "text/plain": [
       "             dateCrawled                                         Name  \\\n",
       "59155   15-03-2016 18:06  Verkaufe_mehrere_Fahrzeuge_zum_Verschrotten   \n",
       "149405  22-03-2016 09:54              Chevrolet_Matiz_1.Hd_TÜV11/2017   \n",
       "186193  14-03-2016 15:58               BMW_2000_AUTOMATIK_H_ZULASSUNG   \n",
       "\n",
       "            Seller Offer_type   Price  Ab_test Vehicle_type  \\\n",
       "59155   gewerblich    Angebot   100.0  control        kombi   \n",
       "149405  gewerblich    Angebot  1100.0     test   kleinwagen   \n",
       "186193  gewerblich    Angebot  6900.0  control    limousine   \n",
       "\n",
       "        Registration_year    Gearbox  Power_PS   Model Kilometer  \\\n",
       "59155              2000.0    manuell       0.0  megane    150000   \n",
       "149405             2006.0    manuell      38.0   matiz    150000   \n",
       "186193             1967.0  automatik     101.0  andere     70000   \n",
       "\n",
       "        Registration_month fuel_type      brand Unrepaired_damage  \\\n",
       "59155                  8.0    benzin    renault               NaN   \n",
       "149405                10.0    benzin  chevrolet              nein   \n",
       "186193                 8.0    benzin        bmw              nein   \n",
       "\n",
       "            Date_created  no_of_Pictures  Postal_code         Last_seen  \n",
       "59155   15-03-2016 00:00             0.0      65232.0  06-04-2016 17:15  \n",
       "149405  22-03-2016 00:00             0.0       7973.0  05-04-2016 21:15  \n",
       "186193  14-03-2016 00:00             0.0      73614.0  05-04-2016 19:45  "
      ]
     },
     "execution_count": 26,
     "metadata": {},
     "output_type": "execute_result"
    }
   ],
   "source": [
    "df[df['Seller']== 'gewerblich']"
   ]
  },
  {
   "cell_type": "code",
   "execution_count": 27,
   "id": "32888ea2",
   "metadata": {},
   "outputs": [],
   "source": [
    "df.drop([59155,149405,186193],inplace = True)"
   ]
  },
  {
   "cell_type": "code",
   "execution_count": 28,
   "id": "13a716f2",
   "metadata": {},
   "outputs": [],
   "source": [
    "df.drop(columns = 'Seller',inplace = True)"
   ]
  },
  {
   "cell_type": "code",
   "execution_count": null,
   "id": "f0e356c4",
   "metadata": {},
   "outputs": [],
   "source": []
  },
  {
   "cell_type": "markdown",
   "id": "ee5cbeec",
   "metadata": {},
   "source": [
    "## Offertype"
   ]
  },
  {
   "cell_type": "code",
   "execution_count": 29,
   "id": "bd72c9a5",
   "metadata": {},
   "outputs": [
    {
     "data": {
      "text/plain": [
       "<Axes: >"
      ]
     },
     "execution_count": 29,
     "metadata": {},
     "output_type": "execute_result"
    },
    {
     "data": {
      "image/png": "[encoded data removed]",
      "text/plain": [
       "<Figure size 640x480 with 1 Axes>"
      ]
     },
     "metadata": {},
     "output_type": "display_data"
    }
   ],
   "source": [
    "df['Offer_type'].value_counts().plot(kind = 'bar')"
   ]
  },
  {
   "cell_type": "markdown",
   "id": "fdb45d68",
   "metadata": {},
   "source": [
    "- Based on bar graphpf Offer_type and column description, this column has 2 unique values. gesuch value has only 12 records. So, this column has no distinguishing information for the model. This column can be dropped, after removing the records that has gesuch value."
   ]
  },
  {
   "cell_type": "code",
   "execution_count": 30,
   "id": "e6a08d50",
   "metadata": {},
   "outputs": [
    {
     "data": {
      "text/html": [
       "<div>\n",
       "<style scoped>\n",
       "    .dataframe tbody tr th:only-of-type {\n",
       "        vertical-align: middle;\n",
       "    }\n",
       "\n",
       "    .dataframe tbody tr th {\n",
       "        vertical-align: top;\n",
       "    }\n",
       "\n",
       "    .dataframe thead th {\n",
       "        text-align: right;\n",
       "    }\n",
       "</style>\n",
       "<table border=\"1\" class=\"dataframe\">\n",
       "  <thead>\n",
       "    <tr style=\"text-align: right;\">\n",
       "      <th></th>\n",
       "      <th>dateCrawled</th>\n",
       "      <th>Name</th>\n",
       "      <th>Offer_type</th>\n",
       "      <th>Price</th>\n",
       "      <th>Ab_test</th>\n",
       "      <th>Vehicle_type</th>\n",
       "      <th>Registration_year</th>\n",
       "      <th>Gearbox</th>\n",
       "      <th>Power_PS</th>\n",
       "      <th>Model</th>\n",
       "      <th>Kilometer</th>\n",
       "      <th>Registration_month</th>\n",
       "      <th>fuel_type</th>\n",
       "      <th>brand</th>\n",
       "      <th>Unrepaired_damage</th>\n",
       "      <th>Date_created</th>\n",
       "      <th>no_of_Pictures</th>\n",
       "      <th>Postal_code</th>\n",
       "      <th>Last_seen</th>\n",
       "    </tr>\n",
       "  </thead>\n",
       "  <tbody>\n",
       "    <tr>\n",
       "      <th>16744</th>\n",
       "      <td>03-04-2016 15:48</td>\n",
       "      <td>Suche_VW_T5_Multivan</td>\n",
       "      <td>Gesuch</td>\n",
       "      <td>0.0</td>\n",
       "      <td>test</td>\n",
       "      <td>bus</td>\n",
       "      <td>2005.0</td>\n",
       "      <td>NaN</td>\n",
       "      <td>0.0</td>\n",
       "      <td>transporter</td>\n",
       "      <td>150000</td>\n",
       "      <td>0.0</td>\n",
       "      <td>NaN</td>\n",
       "      <td>volkswagen</td>\n",
       "      <td>NaN</td>\n",
       "      <td>03-04-2016 00:00</td>\n",
       "      <td>0.0</td>\n",
       "      <td>29690.0</td>\n",
       "      <td>05-04-2016 15:16</td>\n",
       "    </tr>\n",
       "    <tr>\n",
       "      <th>90921</th>\n",
       "      <td>27-03-2016 14:55</td>\n",
       "      <td>Suche_einen_originalen_VW_Golf_2_Fire_and_Ice_G60</td>\n",
       "      <td>Gesuch</td>\n",
       "      <td>19999.0</td>\n",
       "      <td>control</td>\n",
       "      <td>NaN</td>\n",
       "      <td>1990.0</td>\n",
       "      <td>NaN</td>\n",
       "      <td>0.0</td>\n",
       "      <td>golf</td>\n",
       "      <td>5000</td>\n",
       "      <td>0.0</td>\n",
       "      <td>NaN</td>\n",
       "      <td>volkswagen</td>\n",
       "      <td>NaN</td>\n",
       "      <td>27-03-2016 00:00</td>\n",
       "      <td>0.0</td>\n",
       "      <td>50181.0</td>\n",
       "      <td>07-04-2016 11:45</td>\n",
       "    </tr>\n",
       "    <tr>\n",
       "      <th>144166</th>\n",
       "      <td>14-03-2016 18:51</td>\n",
       "      <td>[SUCHE]_BMW_e46_Coupe_330ci_M_Paket_Facelift__...</td>\n",
       "      <td>Gesuch</td>\n",
       "      <td>0.0</td>\n",
       "      <td>test</td>\n",
       "      <td>coupe</td>\n",
       "      <td>2004.0</td>\n",
       "      <td>manuell</td>\n",
       "      <td>0.0</td>\n",
       "      <td>3er</td>\n",
       "      <td>150000</td>\n",
       "      <td>1.0</td>\n",
       "      <td>benzin</td>\n",
       "      <td>bmw</td>\n",
       "      <td>nein</td>\n",
       "      <td>14-03-2016 00:00</td>\n",
       "      <td>0.0</td>\n",
       "      <td>86956.0</td>\n",
       "      <td>25-03-2016 06:17</td>\n",
       "    </tr>\n",
       "    <tr>\n",
       "      <th>150412</th>\n",
       "      <td>07-03-2016 21:37</td>\n",
       "      <td>Suche_Mercedes_300D__W124__Silberdistel_metall...</td>\n",
       "      <td>Gesuch</td>\n",
       "      <td>0.0</td>\n",
       "      <td>control</td>\n",
       "      <td>NaN</td>\n",
       "      <td>1985.0</td>\n",
       "      <td>NaN</td>\n",
       "      <td>109.0</td>\n",
       "      <td>e_klasse</td>\n",
       "      <td>150000</td>\n",
       "      <td>0.0</td>\n",
       "      <td>NaN</td>\n",
       "      <td>mercedes_benz</td>\n",
       "      <td>NaN</td>\n",
       "      <td>07-03-2016 00:00</td>\n",
       "      <td>0.0</td>\n",
       "      <td>68169.0</td>\n",
       "      <td>07-03-2016 21:37</td>\n",
       "    </tr>\n",
       "    <tr>\n",
       "      <th>164800</th>\n",
       "      <td>28-03-2016 15:56</td>\n",
       "      <td>Suche_bitte_hilfe</td>\n",
       "      <td>Gesuch</td>\n",
       "      <td>0.0</td>\n",
       "      <td>control</td>\n",
       "      <td>NaN</td>\n",
       "      <td>2016.0</td>\n",
       "      <td>manuell</td>\n",
       "      <td>0.0</td>\n",
       "      <td>astra</td>\n",
       "      <td>20000</td>\n",
       "      <td>2.0</td>\n",
       "      <td>diesel</td>\n",
       "      <td>opel</td>\n",
       "      <td>nein</td>\n",
       "      <td>28-03-2016 00:00</td>\n",
       "      <td>0.0</td>\n",
       "      <td>26215.0</td>\n",
       "      <td>28-03-2016 15:56</td>\n",
       "    </tr>\n",
       "    <tr>\n",
       "      <th>183728</th>\n",
       "      <td>11-03-2016 10:57</td>\n",
       "      <td>Clio_3_Bremsen_vorne_und_hinten_wechseln__EILT!!</td>\n",
       "      <td>Gesuch</td>\n",
       "      <td>0.0</td>\n",
       "      <td>test</td>\n",
       "      <td>kleinwagen</td>\n",
       "      <td>2005.0</td>\n",
       "      <td>manuell</td>\n",
       "      <td>0.0</td>\n",
       "      <td>clio</td>\n",
       "      <td>150000</td>\n",
       "      <td>12.0</td>\n",
       "      <td>benzin</td>\n",
       "      <td>renault</td>\n",
       "      <td>nein</td>\n",
       "      <td>11-03-2016 00:00</td>\n",
       "      <td>0.0</td>\n",
       "      <td>79423.0</td>\n",
       "      <td>11-03-2016 23:46</td>\n",
       "    </tr>\n",
       "    <tr>\n",
       "      <th>251371</th>\n",
       "      <td>21-03-2016 07:55</td>\n",
       "      <td>SZUKAM_taniego_TRANSPORTU_auta_do_Polski</td>\n",
       "      <td>Gesuch</td>\n",
       "      <td>150.0</td>\n",
       "      <td>control</td>\n",
       "      <td>NaN</td>\n",
       "      <td>2000.0</td>\n",
       "      <td>NaN</td>\n",
       "      <td>0.0</td>\n",
       "      <td>NaN</td>\n",
       "      <td>5000</td>\n",
       "      <td>1.0</td>\n",
       "      <td>NaN</td>\n",
       "      <td>sonstige_autos</td>\n",
       "      <td>NaN</td>\n",
       "      <td>21-03-2016 00:00</td>\n",
       "      <td>0.0</td>\n",
       "      <td>50129.0</td>\n",
       "      <td>22-03-2016 11:45</td>\n",
       "    </tr>\n",
       "    <tr>\n",
       "      <th>285255</th>\n",
       "      <td>15-03-2016 18:55</td>\n",
       "      <td>Trabant_gesucht!!!!</td>\n",
       "      <td>Gesuch</td>\n",
       "      <td>2000.0</td>\n",
       "      <td>control</td>\n",
       "      <td>NaN</td>\n",
       "      <td>1980.0</td>\n",
       "      <td>NaN</td>\n",
       "      <td>0.0</td>\n",
       "      <td>andere</td>\n",
       "      <td>50000</td>\n",
       "      <td>0.0</td>\n",
       "      <td>NaN</td>\n",
       "      <td>trabant</td>\n",
       "      <td>NaN</td>\n",
       "      <td>15-03-2016 00:00</td>\n",
       "      <td>0.0</td>\n",
       "      <td>1609.0</td>\n",
       "      <td>20-03-2016 16:16</td>\n",
       "    </tr>\n",
       "    <tr>\n",
       "      <th>315244</th>\n",
       "      <td>28-03-2016 19:55</td>\n",
       "      <td>Ford_Fiesta_2005_mit_Unfallschaden</td>\n",
       "      <td>Gesuch</td>\n",
       "      <td>1550.0</td>\n",
       "      <td>control</td>\n",
       "      <td>kleinwagen</td>\n",
       "      <td>2005.0</td>\n",
       "      <td>manuell</td>\n",
       "      <td>90.0</td>\n",
       "      <td>fiesta</td>\n",
       "      <td>150000</td>\n",
       "      <td>3.0</td>\n",
       "      <td>diesel</td>\n",
       "      <td>ford</td>\n",
       "      <td>ja</td>\n",
       "      <td>28-03-2016 00:00</td>\n",
       "      <td>0.0</td>\n",
       "      <td>30827.0</td>\n",
       "      <td>28-03-2016 19:55</td>\n",
       "    </tr>\n",
       "    <tr>\n",
       "      <th>327216</th>\n",
       "      <td>13-03-2016 07:52</td>\n",
       "      <td>Kaufe_Bastlerfahrzeuge_aller_art.</td>\n",
       "      <td>Gesuch</td>\n",
       "      <td>555.0</td>\n",
       "      <td>test</td>\n",
       "      <td>NaN</td>\n",
       "      <td>2000.0</td>\n",
       "      <td>manuell</td>\n",
       "      <td>55.0</td>\n",
       "      <td>NaN</td>\n",
       "      <td>150000</td>\n",
       "      <td>3.0</td>\n",
       "      <td>NaN</td>\n",
       "      <td>sonstige_autos</td>\n",
       "      <td>ja</td>\n",
       "      <td>13-03-2016 00:00</td>\n",
       "      <td>0.0</td>\n",
       "      <td>34308.0</td>\n",
       "      <td>25-03-2016 12:48</td>\n",
       "    </tr>\n",
       "    <tr>\n",
       "      <th>357806</th>\n",
       "      <td>25-03-2016 20:50</td>\n",
       "      <td>Suche_BMW_e46_M3_Coupé_!_kein_M1_M4_M5_M6</td>\n",
       "      <td>Gesuch</td>\n",
       "      <td>20000.0</td>\n",
       "      <td>control</td>\n",
       "      <td>NaN</td>\n",
       "      <td>2005.0</td>\n",
       "      <td>NaN</td>\n",
       "      <td>0.0</td>\n",
       "      <td>NaN</td>\n",
       "      <td>5000</td>\n",
       "      <td>0.0</td>\n",
       "      <td>NaN</td>\n",
       "      <td>bmw</td>\n",
       "      <td>NaN</td>\n",
       "      <td>25-03-2016 00:00</td>\n",
       "      <td>0.0</td>\n",
       "      <td>66111.0</td>\n",
       "      <td>07-04-2016 03:17</td>\n",
       "    </tr>\n",
       "    <tr>\n",
       "      <th>360595</th>\n",
       "      <td>26-03-2016 14:42</td>\n",
       "      <td>Tausche_oder_verkaufe_Ford_Galaxy_2_3_Liter_Be...</td>\n",
       "      <td>Gesuch</td>\n",
       "      <td>0.0</td>\n",
       "      <td>control</td>\n",
       "      <td>bus</td>\n",
       "      <td>1998.0</td>\n",
       "      <td>manuell</td>\n",
       "      <td>147.0</td>\n",
       "      <td>galaxy</td>\n",
       "      <td>150000</td>\n",
       "      <td>6.0</td>\n",
       "      <td>benzin</td>\n",
       "      <td>ford</td>\n",
       "      <td>nein</td>\n",
       "      <td>26-03-2016 00:00</td>\n",
       "      <td>0.0</td>\n",
       "      <td>53819.0</td>\n",
       "      <td>31-03-2016 09:45</td>\n",
       "    </tr>\n",
       "  </tbody>\n",
       "</table>\n",
       "</div>"
      ],
      "text/plain": [
       "             dateCrawled                                               Name  \\\n",
       "16744   03-04-2016 15:48                               Suche_VW_T5_Multivan   \n",
       "90921   27-03-2016 14:55  Suche_einen_originalen_VW_Golf_2_Fire_and_Ice_G60   \n",
       "144166  14-03-2016 18:51  [SUCHE]_BMW_e46_Coupe_330ci_M_Paket_Facelift__...   \n",
       "150412  07-03-2016 21:37  Suche_Mercedes_300D__W124__Silberdistel_metall...   \n",
       "164800  28-03-2016 15:56                                  Suche_bitte_hilfe   \n",
       "183728  11-03-2016 10:57   Clio_3_Bremsen_vorne_und_hinten_wechseln__EILT!!   \n",
       "251371  21-03-2016 07:55           SZUKAM_taniego_TRANSPORTU_auta_do_Polski   \n",
       "285255  15-03-2016 18:55                                Trabant_gesucht!!!!   \n",
       "315244  28-03-2016 19:55                 Ford_Fiesta_2005_mit_Unfallschaden   \n",
       "327216  13-03-2016 07:52                  Kaufe_Bastlerfahrzeuge_aller_art.   \n",
       "357806  25-03-2016 20:50          Suche_BMW_e46_M3_Coupé_!_kein_M1_M4_M5_M6   \n",
       "360595  26-03-2016 14:42  Tausche_oder_verkaufe_Ford_Galaxy_2_3_Liter_Be...   \n",
       "\n",
       "       Offer_type    Price  Ab_test Vehicle_type  Registration_year  Gearbox  \\\n",
       "16744      Gesuch      0.0     test          bus             2005.0      NaN   \n",
       "90921      Gesuch  19999.0  control          NaN             1990.0      NaN   \n",
       "144166     Gesuch      0.0     test        coupe             2004.0  manuell   \n",
       "150412     Gesuch      0.0  control          NaN             1985.0      NaN   \n",
       "164800     Gesuch      0.0  control          NaN             2016.0  manuell   \n",
       "183728     Gesuch      0.0     test   kleinwagen             2005.0  manuell   \n",
       "251371     Gesuch    150.0  control          NaN             2000.0      NaN   \n",
       "285255     Gesuch   2000.0  control          NaN             1980.0      NaN   \n",
       "315244     Gesuch   1550.0  control   kleinwagen             2005.0  manuell   \n",
       "327216     Gesuch    555.0     test          NaN             2000.0  manuell   \n",
       "357806     Gesuch  20000.0  control          NaN             2005.0      NaN   \n",
       "360595     Gesuch      0.0  control          bus             1998.0  manuell   \n",
       "\n",
       "        Power_PS        Model Kilometer  Registration_month fuel_type  \\\n",
       "16744        0.0  transporter    150000                 0.0       NaN   \n",
       "90921        0.0         golf      5000                 0.0       NaN   \n",
       "144166       0.0          3er    150000                 1.0    benzin   \n",
       "150412     109.0     e_klasse    150000                 0.0       NaN   \n",
       "164800       0.0        astra     20000                 2.0    diesel   \n",
       "183728       0.0         clio    150000                12.0    benzin   \n",
       "251371       0.0          NaN      5000                 1.0       NaN   \n",
       "285255       0.0       andere     50000                 0.0       NaN   \n",
       "315244      90.0       fiesta    150000                 3.0    diesel   \n",
       "327216      55.0          NaN    150000                 3.0       NaN   \n",
       "357806       0.0          NaN      5000                 0.0       NaN   \n",
       "360595     147.0       galaxy    150000                 6.0    benzin   \n",
       "\n",
       "                 brand Unrepaired_damage      Date_created  no_of_Pictures  \\\n",
       "16744       volkswagen               NaN  03-04-2016 00:00             0.0   \n",
       "90921       volkswagen               NaN  27-03-2016 00:00             0.0   \n",
       "144166             bmw              nein  14-03-2016 00:00             0.0   \n",
       "150412   mercedes_benz               NaN  07-03-2016 00:00             0.0   \n",
       "164800            opel              nein  28-03-2016 00:00             0.0   \n",
       "183728         renault              nein  11-03-2016 00:00             0.0   \n",
       "251371  sonstige_autos               NaN  21-03-2016 00:00             0.0   \n",
       "285255         trabant               NaN  15-03-2016 00:00             0.0   \n",
       "315244            ford                ja  28-03-2016 00:00             0.0   \n",
       "327216  sonstige_autos                ja  13-03-2016 00:00             0.0   \n",
       "357806             bmw               NaN  25-03-2016 00:00             0.0   \n",
       "360595            ford              nein  26-03-2016 00:00             0.0   \n",
       "\n",
       "        Postal_code         Last_seen  \n",
       "16744       29690.0  05-04-2016 15:16  \n",
       "90921       50181.0  07-04-2016 11:45  \n",
       "144166      86956.0  25-03-2016 06:17  \n",
       "150412      68169.0  07-03-2016 21:37  \n",
       "164800      26215.0  28-03-2016 15:56  \n",
       "183728      79423.0  11-03-2016 23:46  \n",
       "251371      50129.0  22-03-2016 11:45  \n",
       "285255       1609.0  20-03-2016 16:16  \n",
       "315244      30827.0  28-03-2016 19:55  \n",
       "327216      34308.0  25-03-2016 12:48  \n",
       "357806      66111.0  07-04-2016 03:17  \n",
       "360595      53819.0  31-03-2016 09:45  "
      ]
     },
     "execution_count": 30,
     "metadata": {},
     "output_type": "execute_result"
    }
   ],
   "source": [
    "df[df['Offer_type']== 'Gesuch']"
   ]
  },
  {
   "cell_type": "code",
   "execution_count": 31,
   "id": "dbc93f35",
   "metadata": {},
   "outputs": [],
   "source": [
    "df.drop(df[df['Offer_type']== 'Gesuch'].index,inplace = True) # Dropping records of Gesuch"
   ]
  },
  {
   "cell_type": "code",
   "execution_count": 32,
   "id": "1bfbc666",
   "metadata": {},
   "outputs": [],
   "source": [
    "df.drop(columns = 'Offer_type',inplace = True)"
   ]
  },
  {
   "cell_type": "code",
   "execution_count": null,
   "id": "dec70b26",
   "metadata": {},
   "outputs": [],
   "source": []
  },
  {
   "cell_type": "code",
   "execution_count": 33,
   "id": "4dbfaf0c",
   "metadata": {},
   "outputs": [
    {
     "data": {
      "text/html": [
       "<div>\n",
       "<style scoped>\n",
       "    .dataframe tbody tr th:only-of-type {\n",
       "        vertical-align: middle;\n",
       "    }\n",
       "\n",
       "    .dataframe tbody tr th {\n",
       "        vertical-align: top;\n",
       "    }\n",
       "\n",
       "    .dataframe thead th {\n",
       "        text-align: right;\n",
       "    }\n",
       "</style>\n",
       "<table border=\"1\" class=\"dataframe\">\n",
       "  <thead>\n",
       "    <tr style=\"text-align: right;\">\n",
       "      <th></th>\n",
       "      <th>dateCrawled</th>\n",
       "      <th>Name</th>\n",
       "      <th>Ab_test</th>\n",
       "      <th>Vehicle_type</th>\n",
       "      <th>Gearbox</th>\n",
       "      <th>Model</th>\n",
       "      <th>Kilometer</th>\n",
       "      <th>fuel_type</th>\n",
       "      <th>brand</th>\n",
       "      <th>Unrepaired_damage</th>\n",
       "      <th>Date_created</th>\n",
       "      <th>Last_seen</th>\n",
       "    </tr>\n",
       "  </thead>\n",
       "  <tbody>\n",
       "    <tr>\n",
       "      <th>count</th>\n",
       "      <td>371522</td>\n",
       "      <td>371522</td>\n",
       "      <td>371522</td>\n",
       "      <td>333660</td>\n",
       "      <td>351319</td>\n",
       "      <td>351041</td>\n",
       "      <td>371522</td>\n",
       "      <td>338143</td>\n",
       "      <td>371522</td>\n",
       "      <td>299469</td>\n",
       "      <td>371522</td>\n",
       "      <td>371522</td>\n",
       "    </tr>\n",
       "    <tr>\n",
       "      <th>unique</th>\n",
       "      <td>15622</td>\n",
       "      <td>233510</td>\n",
       "      <td>2</td>\n",
       "      <td>8</td>\n",
       "      <td>2</td>\n",
       "      <td>251</td>\n",
       "      <td>26</td>\n",
       "      <td>7</td>\n",
       "      <td>40</td>\n",
       "      <td>2</td>\n",
       "      <td>114</td>\n",
       "      <td>18705</td>\n",
       "    </tr>\n",
       "    <tr>\n",
       "      <th>top</th>\n",
       "      <td>05-03-2016 14:25</td>\n",
       "      <td>Ford_Fiesta</td>\n",
       "      <td>test</td>\n",
       "      <td>limousine</td>\n",
       "      <td>manuell</td>\n",
       "      <td>golf</td>\n",
       "      <td>150000</td>\n",
       "      <td>benzin</td>\n",
       "      <td>volkswagen</td>\n",
       "      <td>nein</td>\n",
       "      <td>03-04-2016 00:00</td>\n",
       "      <td>07-04-2016 06:45</td>\n",
       "    </tr>\n",
       "    <tr>\n",
       "      <th>freq</th>\n",
       "      <td>68</td>\n",
       "      <td>657</td>\n",
       "      <td>192586</td>\n",
       "      <td>95895</td>\n",
       "      <td>274211</td>\n",
       "      <td>30069</td>\n",
       "      <td>219429</td>\n",
       "      <td>223857</td>\n",
       "      <td>79638</td>\n",
       "      <td>263183</td>\n",
       "      <td>14450</td>\n",
       "      <td>708</td>\n",
       "    </tr>\n",
       "  </tbody>\n",
       "</table>\n",
       "</div>"
      ],
      "text/plain": [
       "             dateCrawled         Name Ab_test Vehicle_type  Gearbox   Model  \\\n",
       "count             371522       371522  371522       333660   351319  351041   \n",
       "unique             15622       233510       2            8        2     251   \n",
       "top     05-03-2016 14:25  Ford_Fiesta    test    limousine  manuell    golf   \n",
       "freq                  68          657  192586        95895   274211   30069   \n",
       "\n",
       "        Kilometer fuel_type       brand Unrepaired_damage      Date_created  \\\n",
       "count      371522    338143      371522            299469            371522   \n",
       "unique         26         7          40                 2               114   \n",
       "top        150000    benzin  volkswagen              nein  03-04-2016 00:00   \n",
       "freq       219429    223857       79638            263183             14450   \n",
       "\n",
       "               Last_seen  \n",
       "count             371522  \n",
       "unique             18705  \n",
       "top     07-04-2016 06:45  \n",
       "freq                 708  "
      ]
     },
     "execution_count": 33,
     "metadata": {},
     "output_type": "execute_result"
    }
   ],
   "source": [
    "df.describe(include = 'object')"
   ]
  },
  {
   "cell_type": "code",
   "execution_count": 34,
   "id": "e5879149",
   "metadata": {},
   "outputs": [
    {
     "data": {
      "text/html": [
       "<div>\n",
       "<style scoped>\n",
       "    .dataframe tbody tr th:only-of-type {\n",
       "        vertical-align: middle;\n",
       "    }\n",
       "\n",
       "    .dataframe tbody tr th {\n",
       "        vertical-align: top;\n",
       "    }\n",
       "\n",
       "    .dataframe thead th {\n",
       "        text-align: right;\n",
       "    }\n",
       "</style>\n",
       "<table border=\"1\" class=\"dataframe\">\n",
       "  <thead>\n",
       "    <tr style=\"text-align: right;\">\n",
       "      <th></th>\n",
       "      <th>Price</th>\n",
       "      <th>Registration_year</th>\n",
       "      <th>Power_PS</th>\n",
       "      <th>Registration_month</th>\n",
       "      <th>no_of_Pictures</th>\n",
       "      <th>Postal_code</th>\n",
       "    </tr>\n",
       "  </thead>\n",
       "  <tbody>\n",
       "    <tr>\n",
       "      <th>count</th>\n",
       "      <td>3.715220e+05</td>\n",
       "      <td>371522.000000</td>\n",
       "      <td>371522.000000</td>\n",
       "      <td>371522.000000</td>\n",
       "      <td>371522.0</td>\n",
       "      <td>371522.000000</td>\n",
       "    </tr>\n",
       "    <tr>\n",
       "      <th>mean</th>\n",
       "      <td>1.729604e+04</td>\n",
       "      <td>2004.578160</td>\n",
       "      <td>115.552363</td>\n",
       "      <td>5.734559</td>\n",
       "      <td>0.0</td>\n",
       "      <td>50820.768829</td>\n",
       "    </tr>\n",
       "    <tr>\n",
       "      <th>std</th>\n",
       "      <td>3.587983e+06</td>\n",
       "      <td>92.867329</td>\n",
       "      <td>192.140359</td>\n",
       "      <td>3.712347</td>\n",
       "      <td>0.0</td>\n",
       "      <td>25799.111910</td>\n",
       "    </tr>\n",
       "    <tr>\n",
       "      <th>min</th>\n",
       "      <td>0.000000e+00</td>\n",
       "      <td>1000.000000</td>\n",
       "      <td>0.000000</td>\n",
       "      <td>0.000000</td>\n",
       "      <td>0.0</td>\n",
       "      <td>1067.000000</td>\n",
       "    </tr>\n",
       "    <tr>\n",
       "      <th>25%</th>\n",
       "      <td>1.150000e+03</td>\n",
       "      <td>1999.000000</td>\n",
       "      <td>70.000000</td>\n",
       "      <td>3.000000</td>\n",
       "      <td>0.0</td>\n",
       "      <td>30459.000000</td>\n",
       "    </tr>\n",
       "    <tr>\n",
       "      <th>50%</th>\n",
       "      <td>2.950000e+03</td>\n",
       "      <td>2003.000000</td>\n",
       "      <td>105.000000</td>\n",
       "      <td>6.000000</td>\n",
       "      <td>0.0</td>\n",
       "      <td>49610.000000</td>\n",
       "    </tr>\n",
       "    <tr>\n",
       "      <th>75%</th>\n",
       "      <td>7.200000e+03</td>\n",
       "      <td>2008.000000</td>\n",
       "      <td>150.000000</td>\n",
       "      <td>9.000000</td>\n",
       "      <td>0.0</td>\n",
       "      <td>71546.000000</td>\n",
       "    </tr>\n",
       "    <tr>\n",
       "      <th>max</th>\n",
       "      <td>2.147484e+09</td>\n",
       "      <td>9999.000000</td>\n",
       "      <td>20000.000000</td>\n",
       "      <td>12.000000</td>\n",
       "      <td>0.0</td>\n",
       "      <td>99998.000000</td>\n",
       "    </tr>\n",
       "  </tbody>\n",
       "</table>\n",
       "</div>"
      ],
      "text/plain": [
       "              Price  Registration_year       Power_PS  Registration_month  \\\n",
       "count  3.715220e+05      371522.000000  371522.000000       371522.000000   \n",
       "mean   1.729604e+04        2004.578160     115.552363            5.734559   \n",
       "std    3.587983e+06          92.867329     192.140359            3.712347   \n",
       "min    0.000000e+00        1000.000000       0.000000            0.000000   \n",
       "25%    1.150000e+03        1999.000000      70.000000            3.000000   \n",
       "50%    2.950000e+03        2003.000000     105.000000            6.000000   \n",
       "75%    7.200000e+03        2008.000000     150.000000            9.000000   \n",
       "max    2.147484e+09        9999.000000   20000.000000           12.000000   \n",
       "\n",
       "       no_of_Pictures    Postal_code  \n",
       "count        371522.0  371522.000000  \n",
       "mean              0.0   50820.768829  \n",
       "std               0.0   25799.111910  \n",
       "min               0.0    1067.000000  \n",
       "25%               0.0   30459.000000  \n",
       "50%               0.0   49610.000000  \n",
       "75%               0.0   71546.000000  \n",
       "max               0.0   99998.000000  "
      ]
     },
     "execution_count": 34,
     "metadata": {},
     "output_type": "execute_result"
    }
   ],
   "source": [
    "df.describe()"
   ]
  },
  {
   "cell_type": "markdown",
   "id": "c550a8ab",
   "metadata": {},
   "source": [
    "# No_of_Pictures\n",
    "- No_of_Pictures columns has only one unique value .so it can be drop from dataset"
   ]
  },
  {
   "cell_type": "code",
   "execution_count": 35,
   "id": "5b51cd1a",
   "metadata": {},
   "outputs": [],
   "source": [
    "df.drop(columns = 'no_of_Pictures',inplace = True)"
   ]
  },
  {
   "cell_type": "code",
   "execution_count": null,
   "id": "dd09ef08",
   "metadata": {},
   "outputs": [],
   "source": []
  },
  {
   "cell_type": "code",
   "execution_count": 36,
   "id": "09278c40",
   "metadata": {},
   "outputs": [],
   "source": [
    "df['Price'] =df['Price'].astype('object')"
   ]
  },
  {
   "cell_type": "code",
   "execution_count": 37,
   "id": "5fc98f81",
   "metadata": {},
   "outputs": [
    {
     "data": {
      "text/plain": [
       "dateCrawled            object\n",
       "Name                   object\n",
       "Price                  object\n",
       "Ab_test                object\n",
       "Vehicle_type           object\n",
       "Registration_year     float64\n",
       "Gearbox                object\n",
       "Power_PS              float64\n",
       "Model                  object\n",
       "Kilometer              object\n",
       "Registration_month    float64\n",
       "fuel_type              object\n",
       "brand                  object\n",
       "Unrepaired_damage      object\n",
       "Date_created           object\n",
       "Postal_code           float64\n",
       "Last_seen              object\n",
       "dtype: object"
      ]
     },
     "execution_count": 37,
     "metadata": {},
     "output_type": "execute_result"
    }
   ],
   "source": [
    "df.dtypes"
   ]
  },
  {
   "cell_type": "code",
   "execution_count": 38,
   "id": "d9311146",
   "metadata": {},
   "outputs": [
    {
     "data": {
      "text/html": [
       "<div>\n",
       "<style scoped>\n",
       "    .dataframe tbody tr th:only-of-type {\n",
       "        vertical-align: middle;\n",
       "    }\n",
       "\n",
       "    .dataframe tbody tr th {\n",
       "        vertical-align: top;\n",
       "    }\n",
       "\n",
       "    .dataframe thead th {\n",
       "        text-align: right;\n",
       "    }\n",
       "</style>\n",
       "<table border=\"1\" class=\"dataframe\">\n",
       "  <thead>\n",
       "    <tr style=\"text-align: right;\">\n",
       "      <th></th>\n",
       "      <th>dateCrawled</th>\n",
       "      <th>Name</th>\n",
       "      <th>Price</th>\n",
       "      <th>Ab_test</th>\n",
       "      <th>Vehicle_type</th>\n",
       "      <th>Gearbox</th>\n",
       "      <th>Model</th>\n",
       "      <th>Kilometer</th>\n",
       "      <th>fuel_type</th>\n",
       "      <th>brand</th>\n",
       "      <th>Unrepaired_damage</th>\n",
       "      <th>Date_created</th>\n",
       "      <th>Last_seen</th>\n",
       "    </tr>\n",
       "  </thead>\n",
       "  <tbody>\n",
       "    <tr>\n",
       "      <th>count</th>\n",
       "      <td>371522</td>\n",
       "      <td>371522</td>\n",
       "      <td>371522.0</td>\n",
       "      <td>371522</td>\n",
       "      <td>333660</td>\n",
       "      <td>351319</td>\n",
       "      <td>351041</td>\n",
       "      <td>371522</td>\n",
       "      <td>338143</td>\n",
       "      <td>371522</td>\n",
       "      <td>299469</td>\n",
       "      <td>371522</td>\n",
       "      <td>371522</td>\n",
       "    </tr>\n",
       "    <tr>\n",
       "      <th>unique</th>\n",
       "      <td>15622</td>\n",
       "      <td>233510</td>\n",
       "      <td>5597.0</td>\n",
       "      <td>2</td>\n",
       "      <td>8</td>\n",
       "      <td>2</td>\n",
       "      <td>251</td>\n",
       "      <td>26</td>\n",
       "      <td>7</td>\n",
       "      <td>40</td>\n",
       "      <td>2</td>\n",
       "      <td>114</td>\n",
       "      <td>18705</td>\n",
       "    </tr>\n",
       "    <tr>\n",
       "      <th>top</th>\n",
       "      <td>05-03-2016 14:25</td>\n",
       "      <td>Ford_Fiesta</td>\n",
       "      <td>0.0</td>\n",
       "      <td>test</td>\n",
       "      <td>limousine</td>\n",
       "      <td>manuell</td>\n",
       "      <td>golf</td>\n",
       "      <td>150000</td>\n",
       "      <td>benzin</td>\n",
       "      <td>volkswagen</td>\n",
       "      <td>nein</td>\n",
       "      <td>03-04-2016 00:00</td>\n",
       "      <td>07-04-2016 06:45</td>\n",
       "    </tr>\n",
       "    <tr>\n",
       "      <th>freq</th>\n",
       "      <td>68</td>\n",
       "      <td>657</td>\n",
       "      <td>10772.0</td>\n",
       "      <td>192586</td>\n",
       "      <td>95895</td>\n",
       "      <td>274211</td>\n",
       "      <td>30069</td>\n",
       "      <td>219429</td>\n",
       "      <td>223857</td>\n",
       "      <td>79638</td>\n",
       "      <td>263183</td>\n",
       "      <td>14450</td>\n",
       "      <td>708</td>\n",
       "    </tr>\n",
       "  </tbody>\n",
       "</table>\n",
       "</div>"
      ],
      "text/plain": [
       "             dateCrawled         Name     Price Ab_test Vehicle_type  Gearbox  \\\n",
       "count             371522       371522  371522.0  371522       333660   351319   \n",
       "unique             15622       233510    5597.0       2            8        2   \n",
       "top     05-03-2016 14:25  Ford_Fiesta       0.0    test    limousine  manuell   \n",
       "freq                  68          657   10772.0  192586        95895   274211   \n",
       "\n",
       "         Model  Kilometer fuel_type       brand Unrepaired_damage  \\\n",
       "count   351041     371522    338143      371522            299469   \n",
       "unique     251         26         7          40                 2   \n",
       "top       golf     150000    benzin  volkswagen              nein   \n",
       "freq     30069     219429    223857       79638            263183   \n",
       "\n",
       "            Date_created         Last_seen  \n",
       "count             371522            371522  \n",
       "unique               114             18705  \n",
       "top     03-04-2016 00:00  07-04-2016 06:45  \n",
       "freq               14450               708  "
      ]
     },
     "execution_count": 38,
     "metadata": {},
     "output_type": "execute_result"
    }
   ],
   "source": [
    "df.describe(include = 'object')"
   ]
  },
  {
   "cell_type": "code",
   "execution_count": 39,
   "id": "5e0954e9",
   "metadata": {},
   "outputs": [
    {
     "data": {
      "text/plain": [
       "<Axes: ylabel='Frequency'>"
      ]
     },
     "execution_count": 39,
     "metadata": {},
     "output_type": "execute_result"
    },
    {
     "data": {
      "image/png": "[encoded data removed]",
      "text/plain": [
       "<Figure size 640x480 with 1 Axes>"
      ]
     },
     "metadata": {},
     "output_type": "display_data"
    }
   ],
   "source": [
    "df['Price'].value_counts().plot(kind = 'hist')"
   ]
  },
  {
   "cell_type": "markdown",
   "id": "72bb70f1",
   "metadata": {},
   "source": [
    "Based on histogram of price column and its description, this column has 10772 records that has 0 value which means the car is free. To make dataset more consistent, prices values which are 0."
   ]
  },
  {
   "cell_type": "code",
   "execution_count": 40,
   "id": "6efd55dc",
   "metadata": {},
   "outputs": [
    {
     "data": {
      "text/plain": [
       "10772"
      ]
     },
     "execution_count": 40,
     "metadata": {},
     "output_type": "execute_result"
    }
   ],
   "source": [
    "df[df['Price']==0]['Price'].count()"
   ]
  },
  {
   "cell_type": "code",
   "execution_count": 41,
   "id": "c00b82bb",
   "metadata": {},
   "outputs": [],
   "source": [
    "df.drop(df[df['Price']== 0].index,inplace= True)"
   ]
  },
  {
   "cell_type": "code",
   "execution_count": 42,
   "id": "a83d9524",
   "metadata": {},
   "outputs": [
    {
     "data": {
      "text/plain": [
       "(360751, 17)"
      ]
     },
     "execution_count": 42,
     "metadata": {},
     "output_type": "execute_result"
    }
   ],
   "source": [
    "df.drop(df[df['Price']== '0'].index).shape"
   ]
  },
  {
   "cell_type": "code",
   "execution_count": null,
   "id": "f97c36f7",
   "metadata": {},
   "outputs": [],
   "source": []
  },
  {
   "cell_type": "markdown",
   "id": "dfb61a5c",
   "metadata": {},
   "source": [
    "### Power_Ps\n"
   ]
  },
  {
   "cell_type": "code",
   "execution_count": 43,
   "id": "d93c7c3f",
   "metadata": {},
   "outputs": [
    {
     "data": {
      "text/plain": [
       "count    360750.000000\n",
       "mean        116.578123\n",
       "std         190.607696\n",
       "min           0.000000\n",
       "25%          72.000000\n",
       "50%         105.000000\n",
       "75%         150.000000\n",
       "max       20000.000000\n",
       "Name: Power_PS, dtype: float64"
      ]
     },
     "execution_count": 43,
     "metadata": {},
     "output_type": "execute_result"
    }
   ],
   "source": [
    "df['Power_PS'].describe()"
   ]
  },
  {
   "cell_type": "markdown",
   "id": "85df4e7c",
   "metadata": {},
   "source": [
    "Based on the describtion of Power_PS min value = 0 and max value = 20000 , it can have power_ps of engine of car b/w 0 to 1000. it can be removed records of extreme values of power_ps columns"
   ]
  },
  {
   "cell_type": "code",
   "execution_count": 44,
   "id": "07a06557",
   "metadata": {},
   "outputs": [
    {
     "data": {
      "text/html": [
       "<div>\n",
       "<style scoped>\n",
       "    .dataframe tbody tr th:only-of-type {\n",
       "        vertical-align: middle;\n",
       "    }\n",
       "\n",
       "    .dataframe tbody tr th {\n",
       "        vertical-align: top;\n",
       "    }\n",
       "\n",
       "    .dataframe thead th {\n",
       "        text-align: right;\n",
       "    }\n",
       "</style>\n",
       "<table border=\"1\" class=\"dataframe\">\n",
       "  <thead>\n",
       "    <tr style=\"text-align: right;\">\n",
       "      <th></th>\n",
       "      <th>dateCrawled</th>\n",
       "      <th>Name</th>\n",
       "      <th>Price</th>\n",
       "      <th>Ab_test</th>\n",
       "      <th>Vehicle_type</th>\n",
       "      <th>Registration_year</th>\n",
       "      <th>Gearbox</th>\n",
       "      <th>Power_PS</th>\n",
       "      <th>Model</th>\n",
       "      <th>Kilometer</th>\n",
       "      <th>Registration_month</th>\n",
       "      <th>fuel_type</th>\n",
       "      <th>brand</th>\n",
       "      <th>Unrepaired_damage</th>\n",
       "      <th>Date_created</th>\n",
       "      <th>Postal_code</th>\n",
       "      <th>Last_seen</th>\n",
       "    </tr>\n",
       "  </thead>\n",
       "  <tbody>\n",
       "    <tr>\n",
       "      <th>0</th>\n",
       "      <td>24-03-2016 11:52</td>\n",
       "      <td>Golf_3_1.6</td>\n",
       "      <td>480.0</td>\n",
       "      <td>test</td>\n",
       "      <td>NaN</td>\n",
       "      <td>1993.0</td>\n",
       "      <td>manuell</td>\n",
       "      <td>0.0</td>\n",
       "      <td>golf</td>\n",
       "      <td>150000</td>\n",
       "      <td>0.0</td>\n",
       "      <td>benzin</td>\n",
       "      <td>volkswagen</td>\n",
       "      <td>NaN</td>\n",
       "      <td>24-03-2016 00:00</td>\n",
       "      <td>70435.0</td>\n",
       "      <td>07-04-2016 03:16</td>\n",
       "    </tr>\n",
       "    <tr>\n",
       "      <th>15</th>\n",
       "      <td>11-03-2016 21:39</td>\n",
       "      <td>KA_Lufthansa_Edition_450€_VB</td>\n",
       "      <td>450.0</td>\n",
       "      <td>test</td>\n",
       "      <td>kleinwagen</td>\n",
       "      <td>1910.0</td>\n",
       "      <td>NaN</td>\n",
       "      <td>0.0</td>\n",
       "      <td>ka</td>\n",
       "      <td>5000</td>\n",
       "      <td>0.0</td>\n",
       "      <td>benzin</td>\n",
       "      <td>ford</td>\n",
       "      <td>NaN</td>\n",
       "      <td>11-03-2016 00:00</td>\n",
       "      <td>24148.0</td>\n",
       "      <td>19-03-2016 08:46</td>\n",
       "    </tr>\n",
       "    <tr>\n",
       "      <th>32</th>\n",
       "      <td>15-03-2016 20:59</td>\n",
       "      <td>Golf_3_....._1.4</td>\n",
       "      <td>245.0</td>\n",
       "      <td>test</td>\n",
       "      <td>limousine</td>\n",
       "      <td>1994.0</td>\n",
       "      <td>NaN</td>\n",
       "      <td>0.0</td>\n",
       "      <td>golf</td>\n",
       "      <td>150000</td>\n",
       "      <td>2.0</td>\n",
       "      <td>benzin</td>\n",
       "      <td>volkswagen</td>\n",
       "      <td>nein</td>\n",
       "      <td>15-03-2016 00:00</td>\n",
       "      <td>44145.0</td>\n",
       "      <td>17-03-2016 18:17</td>\n",
       "    </tr>\n",
       "    <tr>\n",
       "      <th>37</th>\n",
       "      <td>28-03-2016 17:50</td>\n",
       "      <td>Renault_Kangoo_1.9_Diesel</td>\n",
       "      <td>1500.0</td>\n",
       "      <td>test</td>\n",
       "      <td>NaN</td>\n",
       "      <td>2016.0</td>\n",
       "      <td>NaN</td>\n",
       "      <td>0.0</td>\n",
       "      <td>kangoo</td>\n",
       "      <td>150000</td>\n",
       "      <td>1.0</td>\n",
       "      <td>diesel</td>\n",
       "      <td>renault</td>\n",
       "      <td>nein</td>\n",
       "      <td>28-03-2016 00:00</td>\n",
       "      <td>46483.0</td>\n",
       "      <td>30-03-2016 09:18</td>\n",
       "    </tr>\n",
       "    <tr>\n",
       "      <th>54</th>\n",
       "      <td>17-03-2016 07:56</td>\n",
       "      <td>Opel_signum_1.9_cdti</td>\n",
       "      <td>4700.0</td>\n",
       "      <td>control</td>\n",
       "      <td>kombi</td>\n",
       "      <td>2005.0</td>\n",
       "      <td>manuell</td>\n",
       "      <td>0.0</td>\n",
       "      <td>signum</td>\n",
       "      <td>150000</td>\n",
       "      <td>0.0</td>\n",
       "      <td>NaN</td>\n",
       "      <td>opel</td>\n",
       "      <td>nein</td>\n",
       "      <td>17-03-2016 00:00</td>\n",
       "      <td>88433.0</td>\n",
       "      <td>04-04-2016 04:17</td>\n",
       "    </tr>\n",
       "    <tr>\n",
       "      <th>...</th>\n",
       "      <td>...</td>\n",
       "      <td>...</td>\n",
       "      <td>...</td>\n",
       "      <td>...</td>\n",
       "      <td>...</td>\n",
       "      <td>...</td>\n",
       "      <td>...</td>\n",
       "      <td>...</td>\n",
       "      <td>...</td>\n",
       "      <td>...</td>\n",
       "      <td>...</td>\n",
       "      <td>...</td>\n",
       "      <td>...</td>\n",
       "      <td>...</td>\n",
       "      <td>...</td>\n",
       "      <td>...</td>\n",
       "      <td>...</td>\n",
       "    </tr>\n",
       "    <tr>\n",
       "      <th>371505</th>\n",
       "      <td>05-03-2016 18:57</td>\n",
       "      <td>Top_Zustand</td>\n",
       "      <td>3299.0</td>\n",
       "      <td>test</td>\n",
       "      <td>NaN</td>\n",
       "      <td>2005.0</td>\n",
       "      <td>automatik</td>\n",
       "      <td>0.0</td>\n",
       "      <td>outlander</td>\n",
       "      <td>150000</td>\n",
       "      <td>4.0</td>\n",
       "      <td>benzin</td>\n",
       "      <td>mitsubishi</td>\n",
       "      <td>NaN</td>\n",
       "      <td>05-03-2016 00:00</td>\n",
       "      <td>17034.0</td>\n",
       "      <td>06-03-2016 04:17</td>\n",
       "    </tr>\n",
       "    <tr>\n",
       "      <th>371507</th>\n",
       "      <td>31-03-2016 19:52</td>\n",
       "      <td>Opel_Tigra</td>\n",
       "      <td>180.0</td>\n",
       "      <td>control</td>\n",
       "      <td>NaN</td>\n",
       "      <td>1995.0</td>\n",
       "      <td>NaN</td>\n",
       "      <td>0.0</td>\n",
       "      <td>NaN</td>\n",
       "      <td>125000</td>\n",
       "      <td>3.0</td>\n",
       "      <td>benzin</td>\n",
       "      <td>opel</td>\n",
       "      <td>NaN</td>\n",
       "      <td>31-03-2016 00:00</td>\n",
       "      <td>41470.0</td>\n",
       "      <td>06-04-2016 14:18</td>\n",
       "    </tr>\n",
       "    <tr>\n",
       "      <th>371516</th>\n",
       "      <td>07-03-2016 17:06</td>\n",
       "      <td>220_cdi_Benz</td>\n",
       "      <td>2600.0</td>\n",
       "      <td>control</td>\n",
       "      <td>NaN</td>\n",
       "      <td>2005.0</td>\n",
       "      <td>automatik</td>\n",
       "      <td>0.0</td>\n",
       "      <td>c_klasse</td>\n",
       "      <td>150000</td>\n",
       "      <td>9.0</td>\n",
       "      <td>NaN</td>\n",
       "      <td>mercedes_benz</td>\n",
       "      <td>NaN</td>\n",
       "      <td>07-03-2016 00:00</td>\n",
       "      <td>61169.0</td>\n",
       "      <td>08-03-2016 21:28</td>\n",
       "    </tr>\n",
       "    <tr>\n",
       "      <th>371533</th>\n",
       "      <td>27-03-2016 20:36</td>\n",
       "      <td>Opel_Zafira_1.6_Elegance_TÜV_12/16</td>\n",
       "      <td>1150.0</td>\n",
       "      <td>control</td>\n",
       "      <td>bus</td>\n",
       "      <td>2000.0</td>\n",
       "      <td>manuell</td>\n",
       "      <td>0.0</td>\n",
       "      <td>zafira</td>\n",
       "      <td>150000</td>\n",
       "      <td>3.0</td>\n",
       "      <td>benzin</td>\n",
       "      <td>opel</td>\n",
       "      <td>nein</td>\n",
       "      <td>27-03-2016 00:00</td>\n",
       "      <td>26624.0</td>\n",
       "      <td>29-03-2016 10:17</td>\n",
       "    </tr>\n",
       "    <tr>\n",
       "      <th>371535</th>\n",
       "      <td>14-03-2016 17:48</td>\n",
       "      <td>Suche_t4___vito_ab_6_sitze</td>\n",
       "      <td>2200.0</td>\n",
       "      <td>test</td>\n",
       "      <td>NaN</td>\n",
       "      <td>2005.0</td>\n",
       "      <td>NaN</td>\n",
       "      <td>0.0</td>\n",
       "      <td>NaN</td>\n",
       "      <td>20000</td>\n",
       "      <td>1.0</td>\n",
       "      <td>NaN</td>\n",
       "      <td>sonstige_autos</td>\n",
       "      <td>NaN</td>\n",
       "      <td>14-03-2016 00:00</td>\n",
       "      <td>39576.0</td>\n",
       "      <td>06-04-2016 00:46</td>\n",
       "    </tr>\n",
       "  </tbody>\n",
       "</table>\n",
       "<p>37231 rows × 17 columns</p>\n",
       "</div>"
      ],
      "text/plain": [
       "             dateCrawled                                Name   Price  Ab_test  \\\n",
       "0       24-03-2016 11:52                          Golf_3_1.6   480.0     test   \n",
       "15      11-03-2016 21:39        KA_Lufthansa_Edition_450€_VB   450.0     test   \n",
       "32      15-03-2016 20:59                    Golf_3_....._1.4   245.0     test   \n",
       "37      28-03-2016 17:50           Renault_Kangoo_1.9_Diesel  1500.0     test   \n",
       "54      17-03-2016 07:56                Opel_signum_1.9_cdti  4700.0  control   \n",
       "...                  ...                                 ...     ...      ...   \n",
       "371505  05-03-2016 18:57                         Top_Zustand  3299.0     test   \n",
       "371507  31-03-2016 19:52                          Opel_Tigra   180.0  control   \n",
       "371516  07-03-2016 17:06                        220_cdi_Benz  2600.0  control   \n",
       "371533  27-03-2016 20:36  Opel_Zafira_1.6_Elegance_TÜV_12/16  1150.0  control   \n",
       "371535  14-03-2016 17:48          Suche_t4___vito_ab_6_sitze  2200.0     test   \n",
       "\n",
       "       Vehicle_type  Registration_year    Gearbox  Power_PS      Model  \\\n",
       "0               NaN             1993.0    manuell       0.0       golf   \n",
       "15       kleinwagen             1910.0        NaN       0.0         ka   \n",
       "32        limousine             1994.0        NaN       0.0       golf   \n",
       "37              NaN             2016.0        NaN       0.0     kangoo   \n",
       "54            kombi             2005.0    manuell       0.0     signum   \n",
       "...             ...                ...        ...       ...        ...   \n",
       "371505          NaN             2005.0  automatik       0.0  outlander   \n",
       "371507          NaN             1995.0        NaN       0.0        NaN   \n",
       "371516          NaN             2005.0  automatik       0.0   c_klasse   \n",
       "371533          bus             2000.0    manuell       0.0     zafira   \n",
       "371535          NaN             2005.0        NaN       0.0        NaN   \n",
       "\n",
       "       Kilometer  Registration_month fuel_type           brand  \\\n",
       "0         150000                 0.0    benzin      volkswagen   \n",
       "15          5000                 0.0    benzin            ford   \n",
       "32        150000                 2.0    benzin      volkswagen   \n",
       "37        150000                 1.0    diesel         renault   \n",
       "54        150000                 0.0       NaN            opel   \n",
       "...          ...                 ...       ...             ...   \n",
       "371505    150000                 4.0    benzin      mitsubishi   \n",
       "371507    125000                 3.0    benzin            opel   \n",
       "371516    150000                 9.0       NaN   mercedes_benz   \n",
       "371533    150000                 3.0    benzin            opel   \n",
       "371535     20000                 1.0       NaN  sonstige_autos   \n",
       "\n",
       "       Unrepaired_damage      Date_created  Postal_code         Last_seen  \n",
       "0                    NaN  24-03-2016 00:00      70435.0  07-04-2016 03:16  \n",
       "15                   NaN  11-03-2016 00:00      24148.0  19-03-2016 08:46  \n",
       "32                  nein  15-03-2016 00:00      44145.0  17-03-2016 18:17  \n",
       "37                  nein  28-03-2016 00:00      46483.0  30-03-2016 09:18  \n",
       "54                  nein  17-03-2016 00:00      88433.0  04-04-2016 04:17  \n",
       "...                  ...               ...          ...               ...  \n",
       "371505               NaN  05-03-2016 00:00      17034.0  06-03-2016 04:17  \n",
       "371507               NaN  31-03-2016 00:00      41470.0  06-04-2016 14:18  \n",
       "371516               NaN  07-03-2016 00:00      61169.0  08-03-2016 21:28  \n",
       "371533              nein  27-03-2016 00:00      26624.0  29-03-2016 10:17  \n",
       "371535               NaN  14-03-2016 00:00      39576.0  06-04-2016 00:46  \n",
       "\n",
       "[37231 rows x 17 columns]"
      ]
     },
     "execution_count": 44,
     "metadata": {},
     "output_type": "execute_result"
    }
   ],
   "source": [
    "df[(df['Power_PS']>1001)|(df['Power_PS']==0)]"
   ]
  },
  {
   "cell_type": "code",
   "execution_count": 45,
   "id": "bb6f36c9",
   "metadata": {},
   "outputs": [],
   "source": [
    "df.drop(df[(df['Power_PS']>1001)|(df['Power_PS']==0)].index,inplace = True)"
   ]
  },
  {
   "cell_type": "code",
   "execution_count": 46,
   "id": "7e73f735",
   "metadata": {},
   "outputs": [
    {
     "data": {
      "text/html": [
       "<div>\n",
       "<style scoped>\n",
       "    .dataframe tbody tr th:only-of-type {\n",
       "        vertical-align: middle;\n",
       "    }\n",
       "\n",
       "    .dataframe tbody tr th {\n",
       "        vertical-align: top;\n",
       "    }\n",
       "\n",
       "    .dataframe thead th {\n",
       "        text-align: right;\n",
       "    }\n",
       "</style>\n",
       "<table border=\"1\" class=\"dataframe\">\n",
       "  <thead>\n",
       "    <tr style=\"text-align: right;\">\n",
       "      <th></th>\n",
       "      <th>Registration_year</th>\n",
       "      <th>Power_PS</th>\n",
       "      <th>Registration_month</th>\n",
       "      <th>Postal_code</th>\n",
       "    </tr>\n",
       "  </thead>\n",
       "  <tbody>\n",
       "    <tr>\n",
       "      <th>count</th>\n",
       "      <td>323519.000000</td>\n",
       "      <td>323519.000000</td>\n",
       "      <td>323519.000000</td>\n",
       "      <td>323519.000000</td>\n",
       "    </tr>\n",
       "    <tr>\n",
       "      <th>mean</th>\n",
       "      <td>2003.847351</td>\n",
       "      <td>126.198205</td>\n",
       "      <td>5.975983</td>\n",
       "      <td>51478.325103</td>\n",
       "    </tr>\n",
       "    <tr>\n",
       "      <th>std</th>\n",
       "      <td>35.772283</td>\n",
       "      <td>63.101476</td>\n",
       "      <td>3.588217</td>\n",
       "      <td>25780.875591</td>\n",
       "    </tr>\n",
       "    <tr>\n",
       "      <th>min</th>\n",
       "      <td>1000.000000</td>\n",
       "      <td>1.000000</td>\n",
       "      <td>0.000000</td>\n",
       "      <td>1067.000000</td>\n",
       "    </tr>\n",
       "    <tr>\n",
       "      <th>25%</th>\n",
       "      <td>1999.000000</td>\n",
       "      <td>80.000000</td>\n",
       "      <td>3.000000</td>\n",
       "      <td>31137.000000</td>\n",
       "    </tr>\n",
       "    <tr>\n",
       "      <th>50%</th>\n",
       "      <td>2004.000000</td>\n",
       "      <td>116.000000</td>\n",
       "      <td>6.000000</td>\n",
       "      <td>50674.000000</td>\n",
       "    </tr>\n",
       "    <tr>\n",
       "      <th>75%</th>\n",
       "      <td>2008.000000</td>\n",
       "      <td>150.000000</td>\n",
       "      <td>9.000000</td>\n",
       "      <td>72351.000000</td>\n",
       "    </tr>\n",
       "    <tr>\n",
       "      <th>max</th>\n",
       "      <td>9999.000000</td>\n",
       "      <td>1001.000000</td>\n",
       "      <td>12.000000</td>\n",
       "      <td>99998.000000</td>\n",
       "    </tr>\n",
       "  </tbody>\n",
       "</table>\n",
       "</div>"
      ],
      "text/plain": [
       "       Registration_year       Power_PS  Registration_month    Postal_code\n",
       "count      323519.000000  323519.000000       323519.000000  323519.000000\n",
       "mean         2003.847351     126.198205            5.975983   51478.325103\n",
       "std            35.772283      63.101476            3.588217   25780.875591\n",
       "min          1000.000000       1.000000            0.000000    1067.000000\n",
       "25%          1999.000000      80.000000            3.000000   31137.000000\n",
       "50%          2004.000000     116.000000            6.000000   50674.000000\n",
       "75%          2008.000000     150.000000            9.000000   72351.000000\n",
       "max          9999.000000    1001.000000           12.000000   99998.000000"
      ]
     },
     "execution_count": 46,
     "metadata": {},
     "output_type": "execute_result"
    }
   ],
   "source": [
    "df.describe()"
   ]
  },
  {
   "cell_type": "code",
   "execution_count": 47,
   "id": "2b6a3d92",
   "metadata": {},
   "outputs": [
    {
     "data": {
      "text/html": [
       "<div>\n",
       "<style scoped>\n",
       "    .dataframe tbody tr th:only-of-type {\n",
       "        vertical-align: middle;\n",
       "    }\n",
       "\n",
       "    .dataframe tbody tr th {\n",
       "        vertical-align: top;\n",
       "    }\n",
       "\n",
       "    .dataframe thead th {\n",
       "        text-align: right;\n",
       "    }\n",
       "</style>\n",
       "<table border=\"1\" class=\"dataframe\">\n",
       "  <thead>\n",
       "    <tr style=\"text-align: right;\">\n",
       "      <th></th>\n",
       "      <th>dateCrawled</th>\n",
       "      <th>Name</th>\n",
       "      <th>Price</th>\n",
       "      <th>Ab_test</th>\n",
       "      <th>Vehicle_type</th>\n",
       "      <th>Gearbox</th>\n",
       "      <th>Model</th>\n",
       "      <th>Kilometer</th>\n",
       "      <th>fuel_type</th>\n",
       "      <th>brand</th>\n",
       "      <th>Unrepaired_damage</th>\n",
       "      <th>Date_created</th>\n",
       "      <th>Last_seen</th>\n",
       "    </tr>\n",
       "  </thead>\n",
       "  <tbody>\n",
       "    <tr>\n",
       "      <th>count</th>\n",
       "      <td>323519</td>\n",
       "      <td>323519</td>\n",
       "      <td>323519.0</td>\n",
       "      <td>323519</td>\n",
       "      <td>301930</td>\n",
       "      <td>317291</td>\n",
       "      <td>310408</td>\n",
       "      <td>323519</td>\n",
       "      <td>303456</td>\n",
       "      <td>323519</td>\n",
       "      <td>275731</td>\n",
       "      <td>323519</td>\n",
       "      <td>323519</td>\n",
       "    </tr>\n",
       "    <tr>\n",
       "      <th>unique</th>\n",
       "      <td>15377</td>\n",
       "      <td>199400</td>\n",
       "      <td>5464.0</td>\n",
       "      <td>2</td>\n",
       "      <td>8</td>\n",
       "      <td>2</td>\n",
       "      <td>250</td>\n",
       "      <td>26</td>\n",
       "      <td>7</td>\n",
       "      <td>40</td>\n",
       "      <td>2</td>\n",
       "      <td>111</td>\n",
       "      <td>17873</td>\n",
       "    </tr>\n",
       "    <tr>\n",
       "      <th>top</th>\n",
       "      <td>05-03-2016 14:25</td>\n",
       "      <td>BMW_318i</td>\n",
       "      <td>1500.0</td>\n",
       "      <td>test</td>\n",
       "      <td>limousine</td>\n",
       "      <td>manuell</td>\n",
       "      <td>golf</td>\n",
       "      <td>150000</td>\n",
       "      <td>benzin</td>\n",
       "      <td>volkswagen</td>\n",
       "      <td>nein</td>\n",
       "      <td>03-04-2016 00:00</td>\n",
       "      <td>07-04-2016 06:45</td>\n",
       "    </tr>\n",
       "    <tr>\n",
       "      <th>freq</th>\n",
       "      <td>63</td>\n",
       "      <td>621</td>\n",
       "      <td>4645.0</td>\n",
       "      <td>167569</td>\n",
       "      <td>87453</td>\n",
       "      <td>246327</td>\n",
       "      <td>26835</td>\n",
       "      <td>188260</td>\n",
       "      <td>199279</td>\n",
       "      <td>69513</td>\n",
       "      <td>245778</td>\n",
       "      <td>12811</td>\n",
       "      <td>634</td>\n",
       "    </tr>\n",
       "  </tbody>\n",
       "</table>\n",
       "</div>"
      ],
      "text/plain": [
       "             dateCrawled      Name     Price Ab_test Vehicle_type  Gearbox  \\\n",
       "count             323519    323519  323519.0  323519       301930   317291   \n",
       "unique             15377    199400    5464.0       2            8        2   \n",
       "top     05-03-2016 14:25  BMW_318i    1500.0    test    limousine  manuell   \n",
       "freq                  63       621    4645.0  167569        87453   246327   \n",
       "\n",
       "         Model  Kilometer fuel_type       brand Unrepaired_damage  \\\n",
       "count   310408     323519    303456      323519            275731   \n",
       "unique     250         26         7          40                 2   \n",
       "top       golf     150000    benzin  volkswagen              nein   \n",
       "freq     26835     188260    199279       69513            245778   \n",
       "\n",
       "            Date_created         Last_seen  \n",
       "count             323519            323519  \n",
       "unique               111             17873  \n",
       "top     03-04-2016 00:00  07-04-2016 06:45  \n",
       "freq               12811               634  "
      ]
     },
     "execution_count": 47,
     "metadata": {},
     "output_type": "execute_result"
    }
   ],
   "source": [
    "df.describe(include = 'object')"
   ]
  },
  {
   "cell_type": "code",
   "execution_count": null,
   "id": "6960a941",
   "metadata": {},
   "outputs": [],
   "source": []
  },
  {
   "cell_type": "code",
   "execution_count": 48,
   "id": "e2785719",
   "metadata": {
    "scrolled": true
   },
   "outputs": [
    {
     "data": {
      "text/plain": [
       "dateCrawled               1\n",
       "Name                      1\n",
       "Price                     1\n",
       "Ab_test                   1\n",
       "Vehicle_type          21590\n",
       "Registration_year         1\n",
       "Gearbox                6229\n",
       "Power_PS                  1\n",
       "Model                 13112\n",
       "Kilometer                 1\n",
       "Registration_month        1\n",
       "fuel_type             20064\n",
       "brand                     1\n",
       "Unrepaired_damage     47789\n",
       "Date_created              1\n",
       "Postal_code               1\n",
       "Last_seen                 1\n",
       "dtype: int64"
      ]
     },
     "execution_count": 48,
     "metadata": {},
     "output_type": "execute_result"
    }
   ],
   "source": [
    "df.isnull().sum()"
   ]
  },
  {
   "cell_type": "markdown",
   "id": "5f93925e",
   "metadata": {},
   "source": [
    "# Registration_year"
   ]
  },
  {
   "cell_type": "code",
   "execution_count": 49,
   "id": "881adc46",
   "metadata": {},
   "outputs": [
    {
     "data": {
      "text/plain": [
       "count    323519.000000\n",
       "mean       2003.847351\n",
       "std          35.772283\n",
       "min        1000.000000\n",
       "25%        1999.000000\n",
       "50%        2004.000000\n",
       "75%        2008.000000\n",
       "max        9999.000000\n",
       "Name: Registration_year, dtype: float64"
      ]
     },
     "execution_count": 49,
     "metadata": {},
     "output_type": "execute_result"
    }
   ],
   "source": [
    "df['Registration_year'].describe()"
   ]
  },
  {
   "cell_type": "markdown",
   "id": "1c0e81ef",
   "metadata": {},
   "source": [
    "Registration_year column contain min year of 1000 and max year of 9999, it is invalied values . Registration_year can be between 1900,2023"
   ]
  },
  {
   "cell_type": "code",
   "execution_count": 50,
   "id": "16fe4982",
   "metadata": {
    "scrolled": false
   },
   "outputs": [
    {
     "data": {
      "text/plain": [
       "(36, 17)"
      ]
     },
     "execution_count": 50,
     "metadata": {},
     "output_type": "execute_result"
    }
   ],
   "source": [
    "df[(df['Registration_year']<1900)|(df['Registration_year']>2023)].shape"
   ]
  },
  {
   "cell_type": "code",
   "execution_count": 51,
   "id": "1c8ac07f",
   "metadata": {},
   "outputs": [],
   "source": [
    "df.drop(df[(df['Registration_year']<1900)|(df['Registration_year']>2023)].index,inplace = True)"
   ]
  },
  {
   "cell_type": "code",
   "execution_count": null,
   "id": "67f291c3",
   "metadata": {},
   "outputs": [],
   "source": []
  },
  {
   "cell_type": "code",
   "execution_count": 52,
   "id": "482cd41b",
   "metadata": {},
   "outputs": [
    {
     "data": {
      "text/plain": [
       "33.59671575719356"
      ]
     },
     "execution_count": 52,
     "metadata": {},
     "output_type": "execute_result"
    }
   ],
   "source": [
    "df.isnull().sum().sum()/df.shape[0]*100"
   ]
  },
  {
   "cell_type": "code",
   "execution_count": 54,
   "id": "d90041a5",
   "metadata": {},
   "outputs": [
    {
     "data": {
      "text/plain": [
       "dateCrawled               1\n",
       "Name                      1\n",
       "Price                     1\n",
       "Ab_test                   1\n",
       "Vehicle_type          21554\n",
       "Registration_year         1\n",
       "Gearbox                6210\n",
       "Power_PS                  1\n",
       "Model                 13099\n",
       "Kilometer                 1\n",
       "Registration_month        1\n",
       "fuel_type             20045\n",
       "brand                     1\n",
       "Unrepaired_damage     47760\n",
       "Date_created              1\n",
       "Postal_code               1\n",
       "Last_seen                 1\n",
       "dtype: int64"
      ]
     },
     "execution_count": 54,
     "metadata": {},
     "output_type": "execute_result"
    }
   ],
   "source": [
    "df.isnull().sum()"
   ]
  },
  {
   "cell_type": "code",
   "execution_count": 55,
   "id": "bc22aa31",
   "metadata": {},
   "outputs": [
    {
     "data": {
      "text/html": [
       "<div>\n",
       "<style scoped>\n",
       "    .dataframe tbody tr th:only-of-type {\n",
       "        vertical-align: middle;\n",
       "    }\n",
       "\n",
       "    .dataframe tbody tr th {\n",
       "        vertical-align: top;\n",
       "    }\n",
       "\n",
       "    .dataframe thead th {\n",
       "        text-align: right;\n",
       "    }\n",
       "</style>\n",
       "<table border=\"1\" class=\"dataframe\">\n",
       "  <thead>\n",
       "    <tr style=\"text-align: right;\">\n",
       "      <th></th>\n",
       "      <th>dateCrawled</th>\n",
       "      <th>Name</th>\n",
       "      <th>Price</th>\n",
       "      <th>Ab_test</th>\n",
       "      <th>Vehicle_type</th>\n",
       "      <th>Registration_year</th>\n",
       "      <th>Gearbox</th>\n",
       "      <th>Power_PS</th>\n",
       "      <th>Model</th>\n",
       "      <th>Kilometer</th>\n",
       "      <th>Registration_month</th>\n",
       "      <th>fuel_type</th>\n",
       "      <th>brand</th>\n",
       "      <th>Unrepaired_damage</th>\n",
       "      <th>Date_created</th>\n",
       "      <th>Postal_code</th>\n",
       "      <th>Last_seen</th>\n",
       "    </tr>\n",
       "  </thead>\n",
       "  <tbody>\n",
       "    <tr>\n",
       "      <th>142236</th>\n",
       "      <td>NaN</td>\n",
       "      <td>NaN</td>\n",
       "      <td>NaN</td>\n",
       "      <td>NaN</td>\n",
       "      <td>NaN</td>\n",
       "      <td>NaN</td>\n",
       "      <td>NaN</td>\n",
       "      <td>NaN</td>\n",
       "      <td>NaN</td>\n",
       "      <td>NaN</td>\n",
       "      <td>NaN</td>\n",
       "      <td>NaN</td>\n",
       "      <td>NaN</td>\n",
       "      <td>NaN</td>\n",
       "      <td>NaN</td>\n",
       "      <td>NaN</td>\n",
       "      <td>NaN</td>\n",
       "    </tr>\n",
       "  </tbody>\n",
       "</table>\n",
       "</div>"
      ],
      "text/plain": [
       "       dateCrawled Name Price Ab_test Vehicle_type  Registration_year Gearbox  \\\n",
       "142236         NaN  NaN   NaN     NaN          NaN                NaN     NaN   \n",
       "\n",
       "        Power_PS Model Kilometer  Registration_month fuel_type brand  \\\n",
       "142236       NaN   NaN       NaN                 NaN       NaN   NaN   \n",
       "\n",
       "       Unrepaired_damage Date_created  Postal_code Last_seen  \n",
       "142236               NaN          NaN          NaN       NaN  "
      ]
     },
     "execution_count": 55,
     "metadata": {},
     "output_type": "execute_result"
    }
   ],
   "source": [
    "df[df['dateCrawled'].isnull()]"
   ]
  },
  {
   "cell_type": "code",
   "execution_count": 56,
   "id": "552ccc73",
   "metadata": {},
   "outputs": [],
   "source": [
    "df.drop(df[df['dateCrawled'].isnull()].index,inplace = True)"
   ]
  },
  {
   "cell_type": "markdown",
   "id": "71c388fa",
   "metadata": {},
   "source": [
    "# Duplicates"
   ]
  },
  {
   "cell_type": "code",
   "execution_count": 72,
   "id": "59f7c875",
   "metadata": {},
   "outputs": [
    {
     "data": {
      "text/plain": [
       "(64, 17)"
      ]
     },
     "execution_count": 72,
     "metadata": {},
     "output_type": "execute_result"
    }
   ],
   "source": [
    "df[df.duplicated()].shape"
   ]
  },
  {
   "cell_type": "code",
   "execution_count": 73,
   "id": "59eb3bbc",
   "metadata": {},
   "outputs": [],
   "source": [
    "df.drop_duplicates(inplace = True)"
   ]
  },
  {
   "cell_type": "code",
   "execution_count": 79,
   "id": "84e38a9a",
   "metadata": {},
   "outputs": [
    {
     "data": {
      "text/plain": [
       "(248058, 17)"
      ]
     },
     "execution_count": 79,
     "metadata": {},
     "output_type": "execute_result"
    }
   ],
   "source": [
    "df.shape"
   ]
  },
  {
   "cell_type": "code",
   "execution_count": null,
   "id": "d4e4dbda",
   "metadata": {},
   "outputs": [],
   "source": []
  },
  {
   "cell_type": "markdown",
   "id": "467296db",
   "metadata": {},
   "source": [
    "# Null values"
   ]
  },
  {
   "cell_type": "code",
   "execution_count": 77,
   "id": "f3e95b2a",
   "metadata": {},
   "outputs": [],
   "source": [
    "df.dropna(inplace = True)"
   ]
  },
  {
   "cell_type": "code",
   "execution_count": 78,
   "id": "8feee544",
   "metadata": {},
   "outputs": [
    {
     "data": {
      "text/plain": [
       "(248058, 17)"
      ]
     },
     "execution_count": 78,
     "metadata": {},
     "output_type": "execute_result"
    }
   ],
   "source": [
    "df.dropna().shape"
   ]
  },
  {
   "cell_type": "code",
   "execution_count": 81,
   "id": "9fb4f79e",
   "metadata": {
    "scrolled": true
   },
   "outputs": [
    {
     "data": {
      "text/plain": [
       "dateCrawled           0\n",
       "Name                  0\n",
       "Price                 0\n",
       "Ab_test               0\n",
       "Vehicle_type          0\n",
       "Registration_year     0\n",
       "Gearbox               0\n",
       "Power_PS              0\n",
       "Model                 0\n",
       "Kilometer             0\n",
       "Registration_month    0\n",
       "fuel_type             0\n",
       "brand                 0\n",
       "Unrepaired_damage     0\n",
       "Date_created          0\n",
       "Postal_code           0\n",
       "Last_seen             0\n",
       "dtype: int64"
      ]
     },
     "execution_count": 81,
     "metadata": {},
     "output_type": "execute_result"
    }
   ],
   "source": [
    "df.isnull().sum()"
   ]
  },
  {
   "cell_type": "code",
   "execution_count": null,
   "id": "6ee40845",
   "metadata": {},
   "outputs": [],
   "source": []
  },
  {
   "cell_type": "markdown",
   "id": "97f5e6c9",
   "metadata": {},
   "source": [
    "# Exporting file to .Csv file"
   ]
  },
  {
   "cell_type": "code",
   "execution_count": 84,
   "id": "85b40a7b",
   "metadata": {},
   "outputs": [],
   "source": [
    "df.to_csv('AUTOS.csv')"
   ]
  },
  {
   "cell_type": "code",
   "execution_count": null,
   "id": "f1677688",
   "metadata": {},
   "outputs": [],
   "source": []
  },
  {
   "cell_type": "markdown",
   "id": "c8a1c9d3",
   "metadata": {},
   "source": [
    "# Changing Dtypes"
   ]
  },
  {
   "cell_type": "code",
   "execution_count": 1,
   "id": "cac6a4bd",
   "metadata": {},
   "outputs": [],
   "source": [
    "import pandas as pd"
   ]
  },
  {
   "cell_type": "code",
   "execution_count": 2,
   "id": "1a4bd9d0",
   "metadata": {},
   "outputs": [
    {
     "data": {
      "text/html": [
       "<div>\n",
       "<style scoped>\n",
       "    .dataframe tbody tr th:only-of-type {\n",
       "        vertical-align: middle;\n",
       "    }\n",
       "\n",
       "    .dataframe tbody tr th {\n",
       "        vertical-align: top;\n",
       "    }\n",
       "\n",
       "    .dataframe thead th {\n",
       "        text-align: right;\n",
       "    }\n",
       "</style>\n",
       "<table border=\"1\" class=\"dataframe\">\n",
       "  <thead>\n",
       "    <tr style=\"text-align: right;\">\n",
       "      <th></th>\n",
       "      <th>dateCrawled</th>\n",
       "      <th>Name</th>\n",
       "      <th>Price</th>\n",
       "      <th>Ab_test</th>\n",
       "      <th>Vehicle_type</th>\n",
       "      <th>Registration_year</th>\n",
       "      <th>Gearbox</th>\n",
       "      <th>Power_PS</th>\n",
       "      <th>Model</th>\n",
       "      <th>Kilometer</th>\n",
       "      <th>Registration_month</th>\n",
       "      <th>fuel_type</th>\n",
       "      <th>brand</th>\n",
       "      <th>Unrepaired_damage</th>\n",
       "      <th>Date_created</th>\n",
       "      <th>Postal_code</th>\n",
       "      <th>Last_seen</th>\n",
       "    </tr>\n",
       "  </thead>\n",
       "  <tbody>\n",
       "    <tr>\n",
       "      <th>0</th>\n",
       "      <td>2016-03-17 16:54:00</td>\n",
       "      <td>GOLF_4_1_4__3TÜRER</td>\n",
       "      <td>1500</td>\n",
       "      <td>test</td>\n",
       "      <td>kleinwagen</td>\n",
       "      <td>2001</td>\n",
       "      <td>manuell</td>\n",
       "      <td>75</td>\n",
       "      <td>golf</td>\n",
       "      <td>150000</td>\n",
       "      <td>6</td>\n",
       "      <td>benzin</td>\n",
       "      <td>volkswagen</td>\n",
       "      <td>nein</td>\n",
       "      <td>2016-03-17</td>\n",
       "      <td>91074</td>\n",
       "      <td>2016-03-17 17:40:00</td>\n",
       "    </tr>\n",
       "    <tr>\n",
       "      <th>1</th>\n",
       "      <td>2016-03-31 17:25:00</td>\n",
       "      <td>Skoda_Fabia_1.4_TDI_PD_Classic</td>\n",
       "      <td>3600</td>\n",
       "      <td>test</td>\n",
       "      <td>kleinwagen</td>\n",
       "      <td>2008</td>\n",
       "      <td>manuell</td>\n",
       "      <td>69</td>\n",
       "      <td>fabia</td>\n",
       "      <td>90000</td>\n",
       "      <td>7</td>\n",
       "      <td>diesel</td>\n",
       "      <td>skoda</td>\n",
       "      <td>nein</td>\n",
       "      <td>2016-03-31</td>\n",
       "      <td>60437</td>\n",
       "      <td>2016-06-04 10:17:00</td>\n",
       "    </tr>\n",
       "  </tbody>\n",
       "</table>\n",
       "</div>"
      ],
      "text/plain": [
       "           dateCrawled                            Name  Price Ab_test  \\\n",
       "0  2016-03-17 16:54:00              GOLF_4_1_4__3TÜRER   1500    test   \n",
       "1  2016-03-31 17:25:00  Skoda_Fabia_1.4_TDI_PD_Classic   3600    test   \n",
       "\n",
       "  Vehicle_type  Registration_year  Gearbox  Power_PS  Model  Kilometer  \\\n",
       "0   kleinwagen               2001  manuell        75   golf     150000   \n",
       "1   kleinwagen               2008  manuell        69  fabia      90000   \n",
       "\n",
       "   Registration_month fuel_type       brand Unrepaired_damage Date_created  \\\n",
       "0                   6    benzin  volkswagen              nein   2016-03-17   \n",
       "1                   7    diesel       skoda              nein   2016-03-31   \n",
       "\n",
       "   Postal_code            Last_seen  \n",
       "0        91074  2016-03-17 17:40:00  \n",
       "1        60437  2016-06-04 10:17:00  "
      ]
     },
     "execution_count": 2,
     "metadata": {},
     "output_type": "execute_result"
    }
   ],
   "source": [
    "df= pd.read_csv(\"autos.csv\")\n",
    "df.head(2)"
   ]
  },
  {
   "cell_type": "code",
   "execution_count": 3,
   "id": "23570db5",
   "metadata": {},
   "outputs": [
    {
     "data": {
      "text/plain": [
       "dateCrawled           object\n",
       "Name                  object\n",
       "Price                  int64\n",
       "Ab_test               object\n",
       "Vehicle_type          object\n",
       "Registration_year      int64\n",
       "Gearbox               object\n",
       "Power_PS               int64\n",
       "Model                 object\n",
       "Kilometer              int64\n",
       "Registration_month     int64\n",
       "fuel_type             object\n",
       "brand                 object\n",
       "Unrepaired_damage     object\n",
       "Date_created          object\n",
       "Postal_code            int64\n",
       "Last_seen             object\n",
       "dtype: object"
      ]
     },
     "execution_count": 3,
     "metadata": {},
     "output_type": "execute_result"
    }
   ],
   "source": [
    "df.dtypes"
   ]
  },
  {
   "cell_type": "code",
   "execution_count": 4,
   "id": "7fadaf1f",
   "metadata": {},
   "outputs": [],
   "source": [
    "df['dateCrawled'] = pd.to_datetime(df['dateCrawled'])"
   ]
  },
  {
   "cell_type": "code",
   "execution_count": 5,
   "id": "7d296ce7",
   "metadata": {},
   "outputs": [],
   "source": [
    "df['Last_seen'] = pd.to_datetime(df['Last_seen'])"
   ]
  },
  {
   "cell_type": "code",
   "execution_count": 6,
   "id": "e29a418e",
   "metadata": {},
   "outputs": [],
   "source": [
    "df['Date_created'] = pd.to_datetime(df['Date_created'])"
   ]
  },
  {
   "cell_type": "code",
   "execution_count": 7,
   "id": "83e7455f",
   "metadata": {},
   "outputs": [
    {
     "data": {
      "text/plain": [
       "dateCrawled           datetime64[ns]\n",
       "Name                          object\n",
       "Price                          int64\n",
       "Ab_test                       object\n",
       "Vehicle_type                  object\n",
       "Registration_year              int64\n",
       "Gearbox                       object\n",
       "Power_PS                       int64\n",
       "Model                         object\n",
       "Kilometer                      int64\n",
       "Registration_month             int64\n",
       "fuel_type                     object\n",
       "brand                         object\n",
       "Unrepaired_damage             object\n",
       "Date_created          datetime64[ns]\n",
       "Postal_code                    int64\n",
       "Last_seen             datetime64[ns]\n",
       "dtype: object"
      ]
     },
     "execution_count": 7,
     "metadata": {},
     "output_type": "execute_result"
    }
   ],
   "source": [
    "df.dtypes"
   ]
  },
  {
   "cell_type": "code",
   "execution_count": 8,
   "id": "71effb16",
   "metadata": {},
   "outputs": [],
   "source": [
    "df.to_csv('Auto_Dataset.csv',index=False)"
   ]
  },
  {
   "cell_type": "code",
   "execution_count": null,
   "id": "eef5775e",
   "metadata": {},
   "outputs": [],
   "source": []
  }
 ],
 "metadata": {
  "kernelspec": {
   "display_name": "Python 3 (ipykernel)",
   "language": "python",
   "name": "python3"
  },
  "language_info": {
   "codemirror_mode": {
    "name": "ipython",
    "version": 3
   },
   "file_extension": ".py",
   "mimetype": "text/x-python",
   "name": "python",
   "nbconvert_exporter": "python",
   "pygments_lexer": "ipython3",
   "version": "3.11.3"
  }
 },
 "nbformat": 4,
 "nbformat_minor": 5
}
